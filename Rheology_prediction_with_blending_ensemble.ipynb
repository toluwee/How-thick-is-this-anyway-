{
  "nbformat": 4,
  "nbformat_minor": 0,
  "metadata": {
    "colab": {
      "name": "Rheology_prediction_with blending ensemble.ipynb",
      "provenance": [],
      "collapsed_sections": [
        "AOkcUYKWB2To",
        "tERpJTtYB-3a",
        "ls8Pe3WThcti",
        "fGq_Ua5pORlZ",
        "kJc8hf_vBYvf",
        "hOsVjW1p-Fh6"
      ],
      "mount_file_id": "1otrYolEIpPJaj7RE0l1I6cD05Z7dgEXX",
      "authorship_tag": "ABX9TyMhGA2WExrJE7511OvWP52+",
      "include_colab_link": true
    },
    "kernelspec": {
      "display_name": "Python 3",
      "name": "python3"
    }
  },
  "cells": [
    {
      "cell_type": "markdown",
      "metadata": {
        "id": "view-in-github",
        "colab_type": "text"
      },
      "source": [
        "<a href=\"https://colab.research.google.com/github/toluwee/Rheology_prediction_with_blending_ensemble/blob/main/Rheology_prediction_with_blending_ensemble.ipynb\" target=\"_parent\"><img src=\"https://colab.research.google.com/assets/colab-badge.svg\" alt=\"Open In Colab\"/></a>"
      ]
    },
    {
      "cell_type": "markdown",
      "metadata": {
        "id": "fk1CpKN-7HKn"
      },
      "source": [
        "# Objective\n",
        "\n",
        " \n",
        "\n",
        "*   Predict the apparent viscosity of nanoparticle stabilized CO2 foam fracturing fluid using blending (a stacking variant) machine learning ensemble model.\n",
        "*   Determine the influence of various parameters on apparent viscosity prediction.\n",
        "\n"
      ]
    },
    {
      "cell_type": "markdown",
      "metadata": {
        "id": "tfAgBWKXZhLk"
      },
      "source": [
        "# About The Dataset\n",
        "45 input data points were compiled from the published results of Fu and Liu's (2021) laboratory rheology experiments on nanoparticle-stabilized CO2-foam at high temperatures and pressure. \n",
        "\n",
        "The authors varied the temperature, concentration of nanoparticles, salinity, quality of foam, and the shear rate at constant backpressure of 1,300 psi. These variables served as input features for this analysis to predict the apparent viscosity of NP-CO2-foam when used as fracturing fluid. \n",
        "\n",
        "217 additional data records were generated from the collected dataset by polynomial interpolation to make a total of 262 records. \n",
        "\n",
        "\n",
        "The following is a description of the dataset.\n",
        "\t\t\t\t\t\n",
        "**Attribute Information:**\n",
        "\n",
        "| Position | Feature | Description |Feature Type |\n",
        "|------:|:-----|---------|---------|\n",
        "|[, 1]|\ttemp\t|Temperature, centigrade|Numerical|\n",
        "|[, 2]|\tnp_conc|\tNanoparticle conc., %wt |Numerical|\n",
        "|[, 3]|\tsalinity|\tSalinity, %wt |Numerical|\n",
        "|[, 4]|\tfoam_qual|\tFoam quality, %|Categorical|\n",
        "|[, 5]|\tshear|\tShear rate, s-1 |Numerical|\n",
        "|[, 6]|\tapp_vis|\tApparent viscosity, cp|Numerical|\n"
      ]
    },
    {
      "cell_type": "markdown",
      "metadata": {
        "id": "AOkcUYKWB2To"
      },
      "source": [
        "### Load Dataset"
      ]
    },
    {
      "cell_type": "code",
      "metadata": {
        "id": "WbOAxQC4UIdl"
      },
      "source": [
        "import pandas as pd\n",
        "\n",
        "filepath = 'https://datasciencefiles.s3.us-east-2.amazonaws.com/AppVis_Fu2.csv'\n",
        "\n",
        "dataset = pd.read_csv(filepath)"
      ],
      "execution_count": null,
      "outputs": []
    },
    {
      "cell_type": "markdown",
      "metadata": {
        "id": "tERpJTtYB-3a"
      },
      "source": [
        "# Descriptive Statistics"
      ]
    },
    {
      "cell_type": "code",
      "metadata": {
        "colab": {
          "base_uri": "https://localhost:8080/"
        },
        "id": "hGVIJVBrbBXz",
        "outputId": "dd46ed40-0717-4c10-b914-07245a2a2295"
      },
      "source": [
        "# shape\n",
        "dataset.shape"
      ],
      "execution_count": null,
      "outputs": [
        {
          "output_type": "execute_result",
          "data": {
            "text/plain": [
              "(262, 6)"
            ]
          },
          "metadata": {},
          "execution_count": 2
        }
      ]
    },
    {
      "cell_type": "code",
      "metadata": {
        "colab": {
          "base_uri": "https://localhost:8080/",
          "height": 204
        },
        "id": "e6OJ2EbPEDrG",
        "outputId": "8cf0b53d-125c-4f91-b3af-343e8ecfce70"
      },
      "source": [
        "dataset.sample(n=5, replace = False)"
      ],
      "execution_count": null,
      "outputs": [
        {
          "output_type": "execute_result",
          "data": {
            "text/html": [
              "<div>\n",
              "<style scoped>\n",
              "    .dataframe tbody tr th:only-of-type {\n",
              "        vertical-align: middle;\n",
              "    }\n",
              "\n",
              "    .dataframe tbody tr th {\n",
              "        vertical-align: top;\n",
              "    }\n",
              "\n",
              "    .dataframe thead th {\n",
              "        text-align: right;\n",
              "    }\n",
              "</style>\n",
              "<table border=\"1\" class=\"dataframe\">\n",
              "  <thead>\n",
              "    <tr style=\"text-align: right;\">\n",
              "      <th></th>\n",
              "      <th>temp</th>\n",
              "      <th>np_conc</th>\n",
              "      <th>salinity</th>\n",
              "      <th>foam_qual</th>\n",
              "      <th>shear</th>\n",
              "      <th>app_vis</th>\n",
              "    </tr>\n",
              "  </thead>\n",
              "  <tbody>\n",
              "    <tr>\n",
              "      <th>180</th>\n",
              "      <td>20</td>\n",
              "      <td>0.50</td>\n",
              "      <td>0.07</td>\n",
              "      <td>0.70</td>\n",
              "      <td>3027</td>\n",
              "      <td>21.15</td>\n",
              "    </tr>\n",
              "    <tr>\n",
              "      <th>31</th>\n",
              "      <td>20</td>\n",
              "      <td>0.50</td>\n",
              "      <td>0.05</td>\n",
              "      <td>0.11</td>\n",
              "      <td>3027</td>\n",
              "      <td>8.29</td>\n",
              "    </tr>\n",
              "    <tr>\n",
              "      <th>169</th>\n",
              "      <td>20</td>\n",
              "      <td>0.64</td>\n",
              "      <td>0.05</td>\n",
              "      <td>0.70</td>\n",
              "      <td>3027</td>\n",
              "      <td>16.10</td>\n",
              "    </tr>\n",
              "    <tr>\n",
              "      <th>134</th>\n",
              "      <td>20</td>\n",
              "      <td>0.29</td>\n",
              "      <td>0.05</td>\n",
              "      <td>0.70</td>\n",
              "      <td>3027</td>\n",
              "      <td>15.35</td>\n",
              "    </tr>\n",
              "    <tr>\n",
              "      <th>228</th>\n",
              "      <td>39</td>\n",
              "      <td>0.50</td>\n",
              "      <td>0.05</td>\n",
              "      <td>0.70</td>\n",
              "      <td>4400</td>\n",
              "      <td>8.29</td>\n",
              "    </tr>\n",
              "  </tbody>\n",
              "</table>\n",
              "</div>"
            ],
            "text/plain": [
              "     temp  np_conc  salinity  foam_qual  shear  app_vis\n",
              "180    20     0.50      0.07       0.70   3027    21.15\n",
              "31     20     0.50      0.05       0.11   3027     8.29\n",
              "169    20     0.64      0.05       0.70   3027    16.10\n",
              "134    20     0.29      0.05       0.70   3027    15.35\n",
              "228    39     0.50      0.05       0.70   4400     8.29"
            ]
          },
          "metadata": {},
          "execution_count": 3
        }
      ]
    },
    {
      "cell_type": "code",
      "metadata": {
        "colab": {
          "base_uri": "https://localhost:8080/",
          "height": 173
        },
        "id": "_35ul1st5c-g",
        "outputId": "2a0e8ff0-a9df-4b80-f2e7-02d4c23a18a8"
      },
      "source": [
        "pd.set_option('precision', 2)\n",
        "dataset.agg(['mean','min', 'max', 'std'])"
      ],
      "execution_count": null,
      "outputs": [
        {
          "output_type": "execute_result",
          "data": {
            "text/html": [
              "<div>\n",
              "<style scoped>\n",
              "    .dataframe tbody tr th:only-of-type {\n",
              "        vertical-align: middle;\n",
              "    }\n",
              "\n",
              "    .dataframe tbody tr th {\n",
              "        vertical-align: top;\n",
              "    }\n",
              "\n",
              "    .dataframe thead th {\n",
              "        text-align: right;\n",
              "    }\n",
              "</style>\n",
              "<table border=\"1\" class=\"dataframe\">\n",
              "  <thead>\n",
              "    <tr style=\"text-align: right;\">\n",
              "      <th></th>\n",
              "      <th>temp</th>\n",
              "      <th>np_conc</th>\n",
              "      <th>salinity</th>\n",
              "      <th>foam_qual</th>\n",
              "      <th>shear</th>\n",
              "      <th>app_vis</th>\n",
              "    </tr>\n",
              "  </thead>\n",
              "  <tbody>\n",
              "    <tr>\n",
              "      <th>mean</th>\n",
              "      <td>25.26</td>\n",
              "      <td>0.47</td>\n",
              "      <td>5.07e-02</td>\n",
              "      <td>0.60</td>\n",
              "      <td>3227.09</td>\n",
              "      <td>12.08</td>\n",
              "    </tr>\n",
              "    <tr>\n",
              "      <th>min</th>\n",
              "      <td>20.00</td>\n",
              "      <td>0.05</td>\n",
              "      <td>3.00e-02</td>\n",
              "      <td>0.10</td>\n",
              "      <td>1338.00</td>\n",
              "      <td>2.63</td>\n",
              "    </tr>\n",
              "    <tr>\n",
              "      <th>max</th>\n",
              "      <td>72.00</td>\n",
              "      <td>0.70</td>\n",
              "      <td>1.10e-01</td>\n",
              "      <td>0.90</td>\n",
              "      <td>4400.00</td>\n",
              "      <td>34.54</td>\n",
              "    </tr>\n",
              "    <tr>\n",
              "      <th>std</th>\n",
              "      <td>12.53</td>\n",
              "      <td>0.11</td>\n",
              "      <td>6.03e-03</td>\n",
              "      <td>0.21</td>\n",
              "      <td>723.86</td>\n",
              "      <td>5.38</td>\n",
              "    </tr>\n",
              "  </tbody>\n",
              "</table>\n",
              "</div>"
            ],
            "text/plain": [
              "       temp  np_conc  salinity  foam_qual    shear  app_vis\n",
              "mean  25.26     0.47  5.07e-02       0.60  3227.09    12.08\n",
              "min   20.00     0.05  3.00e-02       0.10  1338.00     2.63\n",
              "max   72.00     0.70  1.10e-01       0.90  4400.00    34.54\n",
              "std   12.53     0.11  6.03e-03       0.21   723.86     5.38"
            ]
          },
          "metadata": {},
          "execution_count": 4
        }
      ]
    },
    {
      "cell_type": "markdown",
      "metadata": {
        "id": "ls8Pe3WThcti"
      },
      "source": [
        "# Create Test Dataset"
      ]
    },
    {
      "cell_type": "code",
      "metadata": {
        "id": "9vxkiXUKct6J"
      },
      "source": [
        "# Seperate output and input variables\n",
        "target = [\"app_vis\"]\n",
        "X_full,y_full = dataset.drop(target, axis=1), dataset[target]"
      ],
      "execution_count": null,
      "outputs": []
    },
    {
      "cell_type": "code",
      "metadata": {
        "id": "Kq8JGkcSp9xK"
      },
      "source": [
        "from sklearn.model_selection import train_test_split\n",
        "# seperate training and test data \n",
        "train_X, test_X, y_train, y_test = train_test_split(X_full,y_full, test_size=0.2,random_state=42)\n"
      ],
      "execution_count": null,
      "outputs": []
    },
    {
      "cell_type": "markdown",
      "metadata": {
        "id": "fGq_Ua5pORlZ"
      },
      "source": [
        "# Preprocessing\n"
      ]
    },
    {
      "cell_type": "code",
      "metadata": {
        "id": "cP5J0jKTi1oQ"
      },
      "source": [
        "from sklearn.preprocessing import StandardScaler\n",
        "scaler = StandardScaler()\n",
        "X_train = scaler.fit_transform(train_X)\n",
        "X_test = scaler.transform(test_X)"
      ],
      "execution_count": null,
      "outputs": []
    },
    {
      "cell_type": "code",
      "metadata": {
        "id": "v3K-jKca1SHz"
      },
      "source": [
        "y_train = y_train.values.flatten()\n",
        "y_test = y_test.values.flatten()"
      ],
      "execution_count": null,
      "outputs": []
    },
    {
      "cell_type": "markdown",
      "metadata": {
        "id": "-KIxABHeL1YG"
      },
      "source": [
        "# Base Models"
      ]
    },
    {
      "cell_type": "code",
      "metadata": {
        "id": "9jYX9CVyKARh"
      },
      "source": [
        "# Create function to build and compile a Keras neural network model\n",
        "from keras.models import Sequential\n",
        "from keras.layers import Dense\n",
        "from tensorflow.keras.optimizers import RMSprop\n",
        "\n",
        "\n",
        "def build_model(n_hidden=1, n_neurons=20, learning_rate = 3e-3, input_shape = X_train.shape[1:]): # explicitly state no of features as input_shape\n",
        "  model = Sequential()\n",
        "  options = {\"input_shape\": input_shape}\n",
        "\n",
        "  for layer in range(n_hidden):\n",
        "    model.add(Dense(n_neurons, activation=\"relu\", \n",
        "                    **options))\n",
        "    options ={} # so that input_shape option only applies to first layer\n",
        "  model.add(Dense(1, activation=\"linear\",  \n",
        "                  **options)) #output layer\n",
        "\n",
        "  optimizer = RMSprop(learning_rate)\n",
        "  model.compile(loss = \"mse\", optimizer = optimizer) # mse represents l2 loss\n",
        "\n",
        "  return model"
      ],
      "execution_count": null,
      "outputs": []
    },
    {
      "cell_type": "code",
      "metadata": {
        "id": "2GDmpKuGKML0"
      },
      "source": [
        "# Preprocess training and testing dataset to be suitable for polynomial regression\n",
        "\n",
        "from sklearn.preprocessing import PolynomialFeatures\n",
        "\n",
        "poly = PolynomialFeatures(degree=4)\n",
        "X_train_poly = poly.fit_transform(X_train)\n",
        "X_test_poly = poly.fit_transform(X_test)"
      ],
      "execution_count": null,
      "outputs": []
    },
    {
      "cell_type": "code",
      "metadata": {
        "id": "S4vbVJYGNOHQ"
      },
      "source": [
        "# Create base models\n",
        "from sklearn.svm import SVR\n",
        "from sklearn.linear_model import LinearRegression\n",
        "from sklearn.tree import DecisionTreeRegressor\n",
        "from sklearn.neighbors import KNeighborsRegressor\n",
        "\n",
        "model_SVR = SVR(C= 64, degree = 5, gamma= 0.28510676478015073, kernel= 'rbf')\n",
        "model_MPR = LinearRegression()\n",
        "model_ANN = build_model()\n",
        "model_CART = DecisionTreeRegressor(random_state= 42) \n",
        "model_KNN = KNeighborsRegressor(algorithm = 'auto', leaf_size = 98, n_neighbors = 3, p = 1)"
      ],
      "execution_count": null,
      "outputs": []
    },
    {
      "cell_type": "markdown",
      "metadata": {
        "id": "kJc8hf_vBYvf"
      },
      "source": [
        "# Blending"
      ]
    },
    {
      "cell_type": "code",
      "metadata": {
        "colab": {
          "base_uri": "https://localhost:8080/"
        },
        "id": "IjtORiaRBZem",
        "outputId": "9a4b1164-0e93-4ff9-99f2-7354a5e59be4"
      },
      "source": [
        "from sklearn.metrics import mean_squared_error\n",
        "from tensorflow import keras\n",
        "from numpy import hstack\n",
        "\n",
        "# get a list of base models\n",
        "def get_models():\n",
        "\tmodels = []\n",
        "\n",
        "\tmodels.append(('SVR', model_SVR))\n",
        "\tmodels.append(('MPR', model_MPR))\n",
        "\tmodels.append(('ANN', model_ANN))\n",
        "\tmodels.append(('CART', model_CART))\n",
        "\tmodels.append(('KNN', model_KNN))\n",
        "\treturn models\n",
        "\n",
        "# fit the blending ensemble\n",
        "def fit_ensemble(models, X_train, X_test, y_train, y_test):\n",
        "\t# fit all models on the training set and predict on hold out set\n",
        "\tmeta_X = list()\n",
        " \n",
        "\tfor name,model in models:\n",
        "\t\tif name == 'MPR':\n",
        "\t\t\t# fit in training set\n",
        "\t\t\tX_train_poly1 = PolynomialFeatures(degree=4).fit_transform(X_train)\n",
        "\t\t\tmodel.fit(X_train_poly1, y_train)\n",
        "\t\telif name == 'ANN':\n",
        "\t\t\tmodel.fit(X_train, y_train, epochs = 300, batch_size = 20, \n",
        "         validation_split = 0.2,callbacks=[keras.callbacks.EarlyStopping(patience=10)])\n",
        "\t\telse:\n",
        "\t\t\t# fit in training set\n",
        "\t\t\tmodel.fit(X_train, y_train)\t \n",
        "\t\n",
        "\t# predict on test set\n",
        "\n",
        "\tfor name,model in models:\n",
        "\t\tif name == 'MPR':\n",
        "\t\t\tX_poly= PolynomialFeatures(degree=4).fit_transform(X_test)\n",
        "\t\t\tyhat = model.predict(X_poly) \n",
        "\t\telse:\n",
        "\t\t\tyhat = model.predict(X_test)\n",
        "\t\t\n",
        "\t\t# reshape predictions into a matrix with one column\n",
        "\t\tyhat = yhat.reshape(len(yhat), 1)\n",
        "\t\t# store predictions as input for blending\n",
        "\t\tmeta_X.append(yhat)\n",
        "\t# create 2d array from predictions, each set is an input feature\n",
        "\tmeta_X = hstack(meta_X)\n",
        "\t# define blending model\n",
        " \n",
        "\tblender = SVR(C= 83, gamma= 0.15996237372700434, kernel= 'rbf')\n",
        "\n",
        "\t# fit on predictions from base models\n",
        "\tblender.fit(meta_X, y_test)\n",
        "\treturn blender\n",
        "\n",
        "# make a prediction with the blending ensemble\n",
        "def predict_ensemble(models, blender, X_test):\n",
        "\t# make predictions with base models\n",
        "\tmeta_X = list()\n",
        "\tfor name ,model in models:\n",
        "\t\t# predict with base model\n",
        "\t\tif name == 'MPR':\n",
        "\t\t\tX_poly= PolynomialFeatures(degree=4).fit_transform(X_test)\n",
        "\t\t\tyhat = model.predict(X_poly)\n",
        "\t\telse:\n",
        "\t\t\tyhat = model.predict(X_test)\n",
        "\n",
        "\t\t# reshape predictions into a matrix with one column\n",
        "\t\tyhat = yhat.reshape(len(yhat), 1)\n",
        "\t\t# store prediction\n",
        "\t\tmeta_X.append(yhat)\n",
        "\t# create 2d array from predictions, each set is an input feature\n",
        "\tmeta_X = hstack(meta_X)\n",
        "\t# predict\n",
        "\treturn blender.predict(meta_X)\n",
        "\n",
        "# create the base models\n",
        "models = get_models()\n",
        "\n",
        "# train the blending ensemble\n",
        "\n",
        "\n",
        "blender = fit_ensemble(models, X_train, X_train, y_train, y_train)\n",
        "\n",
        "blender_2 = fit_ensemble(models, X_train, X_test, y_train, y_test)\n",
        "\n",
        "Blended_pred_train = predict_ensemble(models, blender, X_train)\n",
        "\n",
        "Blended_pred = predict_ensemble(models, blender_2, X_test)\n",
        "\n"
      ],
      "execution_count": null,
      "outputs": [
        {
          "output_type": "stream",
          "name": "stdout",
          "text": [
            "Epoch 1/300\n",
            "9/9 [==============================] - 1s 22ms/step - loss: 178.1446 - val_loss: 163.1702\n",
            "Epoch 2/300\n",
            "9/9 [==============================] - 0s 5ms/step - loss: 168.6161 - val_loss: 156.8229\n",
            "Epoch 3/300\n",
            "9/9 [==============================] - 0s 8ms/step - loss: 161.3877 - val_loss: 150.9731\n",
            "Epoch 4/300\n",
            "9/9 [==============================] - 0s 8ms/step - loss: 154.4703 - val_loss: 144.9588\n",
            "Epoch 5/300\n",
            "9/9 [==============================] - 0s 5ms/step - loss: 147.3988 - val_loss: 138.7167\n",
            "Epoch 6/300\n",
            "9/9 [==============================] - 0s 5ms/step - loss: 140.2091 - val_loss: 132.6962\n",
            "Epoch 7/300\n",
            "9/9 [==============================] - 0s 6ms/step - loss: 133.1612 - val_loss: 126.3015\n",
            "Epoch 8/300\n",
            "9/9 [==============================] - 0s 4ms/step - loss: 125.9559 - val_loss: 120.1234\n",
            "Epoch 9/300\n",
            "9/9 [==============================] - 0s 5ms/step - loss: 119.0943 - val_loss: 114.0213\n",
            "Epoch 10/300\n",
            "9/9 [==============================] - 0s 7ms/step - loss: 112.1257 - val_loss: 107.6389\n",
            "Epoch 11/300\n",
            "9/9 [==============================] - 0s 6ms/step - loss: 105.0783 - val_loss: 101.3182\n",
            "Epoch 12/300\n",
            "9/9 [==============================] - 0s 5ms/step - loss: 98.0120 - val_loss: 94.8874\n",
            "Epoch 13/300\n",
            "9/9 [==============================] - 0s 6ms/step - loss: 90.9118 - val_loss: 88.5768\n",
            "Epoch 14/300\n",
            "9/9 [==============================] - 0s 4ms/step - loss: 84.1125 - val_loss: 82.3702\n",
            "Epoch 15/300\n",
            "9/9 [==============================] - 0s 5ms/step - loss: 77.4880 - val_loss: 76.4326\n",
            "Epoch 16/300\n",
            "9/9 [==============================] - 0s 5ms/step - loss: 71.0410 - val_loss: 69.8714\n",
            "Epoch 17/300\n",
            "9/9 [==============================] - 0s 5ms/step - loss: 64.4970 - val_loss: 64.4428\n",
            "Epoch 18/300\n",
            "9/9 [==============================] - 0s 5ms/step - loss: 58.7861 - val_loss: 58.8964\n",
            "Epoch 19/300\n",
            "9/9 [==============================] - 0s 4ms/step - loss: 53.1747 - val_loss: 53.7492\n",
            "Epoch 20/300\n",
            "9/9 [==============================] - 0s 5ms/step - loss: 48.2257 - val_loss: 48.8547\n",
            "Epoch 21/300\n",
            "9/9 [==============================] - 0s 5ms/step - loss: 43.4486 - val_loss: 44.5104\n",
            "Epoch 22/300\n",
            "9/9 [==============================] - 0s 5ms/step - loss: 39.1606 - val_loss: 40.6389\n",
            "Epoch 23/300\n",
            "9/9 [==============================] - 0s 4ms/step - loss: 35.4614 - val_loss: 37.4988\n",
            "Epoch 24/300\n",
            "9/9 [==============================] - 0s 4ms/step - loss: 32.3489 - val_loss: 34.4878\n",
            "Epoch 25/300\n",
            "9/9 [==============================] - 0s 5ms/step - loss: 29.6294 - val_loss: 31.7658\n",
            "Epoch 26/300\n",
            "9/9 [==============================] - 0s 4ms/step - loss: 27.0323 - val_loss: 29.1279\n",
            "Epoch 27/300\n",
            "9/9 [==============================] - 0s 4ms/step - loss: 24.7446 - val_loss: 27.1766\n",
            "Epoch 28/300\n",
            "9/9 [==============================] - 0s 5ms/step - loss: 22.9443 - val_loss: 25.4839\n",
            "Epoch 29/300\n",
            "9/9 [==============================] - 0s 4ms/step - loss: 21.3630 - val_loss: 23.9028\n",
            "Epoch 30/300\n",
            "9/9 [==============================] - 0s 4ms/step - loss: 19.9991 - val_loss: 22.4739\n",
            "Epoch 31/300\n",
            "9/9 [==============================] - 0s 8ms/step - loss: 18.7103 - val_loss: 21.2593\n",
            "Epoch 32/300\n",
            "9/9 [==============================] - 0s 5ms/step - loss: 17.5402 - val_loss: 20.1786\n",
            "Epoch 33/300\n",
            "9/9 [==============================] - 0s 5ms/step - loss: 16.5302 - val_loss: 18.9386\n",
            "Epoch 34/300\n",
            "9/9 [==============================] - 0s 4ms/step - loss: 15.5596 - val_loss: 17.8861\n",
            "Epoch 35/300\n",
            "9/9 [==============================] - 0s 8ms/step - loss: 14.7200 - val_loss: 17.1631\n",
            "Epoch 36/300\n",
            "9/9 [==============================] - 0s 5ms/step - loss: 14.0464 - val_loss: 16.5167\n",
            "Epoch 37/300\n",
            "9/9 [==============================] - 0s 6ms/step - loss: 13.4805 - val_loss: 15.7935\n",
            "Epoch 38/300\n",
            "9/9 [==============================] - 0s 5ms/step - loss: 12.9262 - val_loss: 15.1835\n",
            "Epoch 39/300\n",
            "9/9 [==============================] - 0s 4ms/step - loss: 12.4809 - val_loss: 14.6379\n",
            "Epoch 40/300\n",
            "9/9 [==============================] - 0s 4ms/step - loss: 12.0822 - val_loss: 14.1229\n",
            "Epoch 41/300\n",
            "9/9 [==============================] - 0s 6ms/step - loss: 11.7380 - val_loss: 13.6794\n",
            "Epoch 42/300\n",
            "9/9 [==============================] - 0s 5ms/step - loss: 11.4105 - val_loss: 13.2551\n",
            "Epoch 43/300\n",
            "9/9 [==============================] - 0s 5ms/step - loss: 11.0872 - val_loss: 12.9072\n",
            "Epoch 44/300\n",
            "9/9 [==============================] - 0s 5ms/step - loss: 10.8038 - val_loss: 12.5180\n",
            "Epoch 45/300\n",
            "9/9 [==============================] - 0s 7ms/step - loss: 10.5197 - val_loss: 12.0349\n",
            "Epoch 46/300\n",
            "9/9 [==============================] - 0s 5ms/step - loss: 10.1875 - val_loss: 11.6529\n",
            "Epoch 47/300\n",
            "9/9 [==============================] - 0s 5ms/step - loss: 9.9553 - val_loss: 11.4734\n",
            "Epoch 48/300\n",
            "9/9 [==============================] - 0s 4ms/step - loss: 9.7643 - val_loss: 11.2708\n",
            "Epoch 49/300\n",
            "9/9 [==============================] - 0s 4ms/step - loss: 9.6019 - val_loss: 11.1024\n",
            "Epoch 50/300\n",
            "9/9 [==============================] - 0s 4ms/step - loss: 9.3577 - val_loss: 10.9053\n",
            "Epoch 51/300\n",
            "9/9 [==============================] - 0s 5ms/step - loss: 9.1946 - val_loss: 10.6873\n",
            "Epoch 52/300\n",
            "9/9 [==============================] - 0s 4ms/step - loss: 8.9899 - val_loss: 10.4481\n",
            "Epoch 53/300\n",
            "9/9 [==============================] - 0s 7ms/step - loss: 8.8386 - val_loss: 10.2783\n",
            "Epoch 54/300\n",
            "9/9 [==============================] - 0s 6ms/step - loss: 8.5647 - val_loss: 9.9229\n",
            "Epoch 55/300\n",
            "9/9 [==============================] - 0s 5ms/step - loss: 8.4236 - val_loss: 9.7146\n",
            "Epoch 56/300\n",
            "9/9 [==============================] - 0s 5ms/step - loss: 8.2188 - val_loss: 9.5581\n",
            "Epoch 57/300\n",
            "9/9 [==============================] - 0s 5ms/step - loss: 7.9620 - val_loss: 9.2438\n",
            "Epoch 58/300\n",
            "9/9 [==============================] - 0s 5ms/step - loss: 7.8146 - val_loss: 9.0160\n",
            "Epoch 59/300\n",
            "9/9 [==============================] - 0s 5ms/step - loss: 7.5616 - val_loss: 8.8409\n",
            "Epoch 60/300\n",
            "9/9 [==============================] - 0s 5ms/step - loss: 7.3955 - val_loss: 8.5726\n",
            "Epoch 61/300\n",
            "9/9 [==============================] - 0s 7ms/step - loss: 7.1501 - val_loss: 8.5182\n",
            "Epoch 62/300\n",
            "9/9 [==============================] - 0s 7ms/step - loss: 6.9932 - val_loss: 8.3004\n",
            "Epoch 63/300\n",
            "9/9 [==============================] - 0s 5ms/step - loss: 6.7929 - val_loss: 8.0617\n",
            "Epoch 64/300\n",
            "9/9 [==============================] - 0s 5ms/step - loss: 6.5811 - val_loss: 7.8952\n",
            "Epoch 65/300\n",
            "9/9 [==============================] - 0s 5ms/step - loss: 6.4701 - val_loss: 7.7138\n",
            "Epoch 66/300\n",
            "9/9 [==============================] - 0s 7ms/step - loss: 6.2731 - val_loss: 7.5469\n",
            "Epoch 67/300\n",
            "9/9 [==============================] - 0s 7ms/step - loss: 6.1722 - val_loss: 7.3173\n",
            "Epoch 68/300\n",
            "9/9 [==============================] - 0s 5ms/step - loss: 5.9577 - val_loss: 7.1914\n",
            "Epoch 69/300\n",
            "9/9 [==============================] - 0s 4ms/step - loss: 5.8317 - val_loss: 7.0158\n",
            "Epoch 70/300\n",
            "9/9 [==============================] - 0s 9ms/step - loss: 5.6509 - val_loss: 6.8463\n",
            "Epoch 71/300\n",
            "9/9 [==============================] - 0s 4ms/step - loss: 5.5128 - val_loss: 6.6269\n",
            "Epoch 72/300\n",
            "9/9 [==============================] - 0s 6ms/step - loss: 5.3199 - val_loss: 6.5891\n",
            "Epoch 73/300\n",
            "9/9 [==============================] - 0s 5ms/step - loss: 5.2329 - val_loss: 6.4258\n",
            "Epoch 74/300\n",
            "9/9 [==============================] - 0s 5ms/step - loss: 5.0685 - val_loss: 6.2484\n",
            "Epoch 75/300\n",
            "9/9 [==============================] - 0s 6ms/step - loss: 4.9578 - val_loss: 6.0143\n",
            "Epoch 76/300\n",
            "9/9 [==============================] - 0s 7ms/step - loss: 4.7748 - val_loss: 5.9057\n",
            "Epoch 77/300\n",
            "9/9 [==============================] - 0s 5ms/step - loss: 4.6137 - val_loss: 5.7547\n",
            "Epoch 78/300\n",
            "9/9 [==============================] - 0s 5ms/step - loss: 4.5177 - val_loss: 5.6152\n",
            "Epoch 79/300\n",
            "9/9 [==============================] - 0s 6ms/step - loss: 4.3962 - val_loss: 5.3645\n",
            "Epoch 80/300\n",
            "9/9 [==============================] - 0s 5ms/step - loss: 4.2870 - val_loss: 5.1820\n",
            "Epoch 81/300\n",
            "9/9 [==============================] - 0s 5ms/step - loss: 4.1300 - val_loss: 5.0584\n",
            "Epoch 82/300\n",
            "9/9 [==============================] - 0s 5ms/step - loss: 4.0077 - val_loss: 4.8724\n",
            "Epoch 83/300\n",
            "9/9 [==============================] - 0s 5ms/step - loss: 3.8598 - val_loss: 4.8104\n",
            "Epoch 84/300\n",
            "9/9 [==============================] - 0s 4ms/step - loss: 3.7087 - val_loss: 4.6277\n",
            "Epoch 85/300\n",
            "9/9 [==============================] - 0s 6ms/step - loss: 3.6047 - val_loss: 4.4840\n",
            "Epoch 86/300\n",
            "9/9 [==============================] - 0s 5ms/step - loss: 3.4574 - val_loss: 4.2882\n",
            "Epoch 87/300\n",
            "9/9 [==============================] - 0s 5ms/step - loss: 3.3524 - val_loss: 4.1386\n",
            "Epoch 88/300\n",
            "9/9 [==============================] - 0s 5ms/step - loss: 3.2541 - val_loss: 4.0467\n",
            "Epoch 89/300\n",
            "9/9 [==============================] - 0s 5ms/step - loss: 3.1072 - val_loss: 3.8989\n",
            "Epoch 90/300\n",
            "9/9 [==============================] - 0s 5ms/step - loss: 3.0362 - val_loss: 3.8035\n",
            "Epoch 91/300\n",
            "9/9 [==============================] - 0s 5ms/step - loss: 2.9759 - val_loss: 3.7177\n",
            "Epoch 92/300\n",
            "9/9 [==============================] - 0s 4ms/step - loss: 2.8347 - val_loss: 3.5874\n",
            "Epoch 93/300\n",
            "9/9 [==============================] - 0s 5ms/step - loss: 2.7609 - val_loss: 3.5026\n",
            "Epoch 94/300\n",
            "9/9 [==============================] - 0s 5ms/step - loss: 2.6572 - val_loss: 3.4912\n",
            "Epoch 95/300\n",
            "9/9 [==============================] - 0s 5ms/step - loss: 2.6181 - val_loss: 3.3197\n",
            "Epoch 96/300\n",
            "9/9 [==============================] - 0s 5ms/step - loss: 2.4824 - val_loss: 3.3344\n",
            "Epoch 97/300\n",
            "9/9 [==============================] - 0s 5ms/step - loss: 2.4766 - val_loss: 3.2056\n",
            "Epoch 98/300\n",
            "9/9 [==============================] - 0s 5ms/step - loss: 2.3579 - val_loss: 3.1372\n",
            "Epoch 99/300\n",
            "9/9 [==============================] - 0s 4ms/step - loss: 2.2998 - val_loss: 3.0822\n",
            "Epoch 100/300\n",
            "9/9 [==============================] - 0s 4ms/step - loss: 2.2432 - val_loss: 2.9305\n",
            "Epoch 101/300\n",
            "9/9 [==============================] - 0s 5ms/step - loss: 2.1614 - val_loss: 2.8656\n",
            "Epoch 102/300\n",
            "9/9 [==============================] - 0s 5ms/step - loss: 2.1597 - val_loss: 2.7959\n",
            "Epoch 103/300\n",
            "9/9 [==============================] - 0s 4ms/step - loss: 2.0879 - val_loss: 2.7098\n",
            "Epoch 104/300\n",
            "9/9 [==============================] - 0s 4ms/step - loss: 2.0044 - val_loss: 2.6510\n",
            "Epoch 105/300\n",
            "9/9 [==============================] - 0s 5ms/step - loss: 1.9598 - val_loss: 2.5688\n",
            "Epoch 106/300\n",
            "9/9 [==============================] - 0s 5ms/step - loss: 1.9161 - val_loss: 2.5921\n",
            "Epoch 107/300\n",
            "9/9 [==============================] - 0s 5ms/step - loss: 1.8717 - val_loss: 2.5359\n",
            "Epoch 108/300\n",
            "9/9 [==============================] - 0s 5ms/step - loss: 1.8299 - val_loss: 2.3794\n",
            "Epoch 109/300\n",
            "9/9 [==============================] - 0s 5ms/step - loss: 1.8027 - val_loss: 2.2967\n",
            "Epoch 110/300\n",
            "9/9 [==============================] - 0s 5ms/step - loss: 1.7262 - val_loss: 2.2747\n",
            "Epoch 111/300\n",
            "9/9 [==============================] - 0s 7ms/step - loss: 1.7069 - val_loss: 2.2891\n",
            "Epoch 112/300\n",
            "9/9 [==============================] - 0s 5ms/step - loss: 1.6809 - val_loss: 2.2358\n",
            "Epoch 113/300\n",
            "9/9 [==============================] - 0s 7ms/step - loss: 1.6278 - val_loss: 2.1728\n",
            "Epoch 114/300\n",
            "9/9 [==============================] - 0s 5ms/step - loss: 1.5963 - val_loss: 2.1786\n",
            "Epoch 115/300\n",
            "9/9 [==============================] - 0s 5ms/step - loss: 1.5335 - val_loss: 2.0584\n",
            "Epoch 116/300\n",
            "9/9 [==============================] - 0s 7ms/step - loss: 1.4912 - val_loss: 2.0072\n",
            "Epoch 117/300\n",
            "9/9 [==============================] - 0s 5ms/step - loss: 1.5069 - val_loss: 1.9420\n",
            "Epoch 118/300\n",
            "9/9 [==============================] - 0s 7ms/step - loss: 1.4749 - val_loss: 1.9269\n",
            "Epoch 119/300\n",
            "9/9 [==============================] - 0s 5ms/step - loss: 1.4275 - val_loss: 1.9292\n",
            "Epoch 120/300\n",
            "9/9 [==============================] - 0s 7ms/step - loss: 1.3958 - val_loss: 1.9046\n",
            "Epoch 121/300\n",
            "9/9 [==============================] - 0s 5ms/step - loss: 1.3644 - val_loss: 1.8204\n",
            "Epoch 122/300\n",
            "9/9 [==============================] - 0s 6ms/step - loss: 1.3583 - val_loss: 1.8112\n",
            "Epoch 123/300\n",
            "9/9 [==============================] - 0s 5ms/step - loss: 1.3002 - val_loss: 1.7700\n",
            "Epoch 124/300\n",
            "9/9 [==============================] - 0s 5ms/step - loss: 1.3041 - val_loss: 1.7586\n",
            "Epoch 125/300\n",
            "9/9 [==============================] - 0s 4ms/step - loss: 1.2699 - val_loss: 1.8223\n",
            "Epoch 126/300\n",
            "9/9 [==============================] - 0s 5ms/step - loss: 1.2638 - val_loss: 1.6738\n",
            "Epoch 127/300\n",
            "9/9 [==============================] - 0s 6ms/step - loss: 1.2450 - val_loss: 1.6953\n",
            "Epoch 128/300\n",
            "9/9 [==============================] - 0s 5ms/step - loss: 1.2097 - val_loss: 1.5874\n",
            "Epoch 129/300\n",
            "9/9 [==============================] - 0s 7ms/step - loss: 1.1489 - val_loss: 1.5330\n",
            "Epoch 130/300\n",
            "9/9 [==============================] - 0s 7ms/step - loss: 1.1673 - val_loss: 1.5454\n",
            "Epoch 131/300\n",
            "9/9 [==============================] - 0s 5ms/step - loss: 1.1279 - val_loss: 1.4794\n",
            "Epoch 132/300\n",
            "9/9 [==============================] - 0s 5ms/step - loss: 1.1475 - val_loss: 1.4852\n",
            "Epoch 133/300\n",
            "9/9 [==============================] - 0s 4ms/step - loss: 1.1021 - val_loss: 1.4535\n",
            "Epoch 134/300\n",
            "9/9 [==============================] - 0s 6ms/step - loss: 1.0921 - val_loss: 1.3976\n",
            "Epoch 135/300\n",
            "9/9 [==============================] - 0s 6ms/step - loss: 1.0623 - val_loss: 1.4255\n",
            "Epoch 136/300\n",
            "9/9 [==============================] - 0s 5ms/step - loss: 1.0530 - val_loss: 1.3708\n",
            "Epoch 137/300\n",
            "9/9 [==============================] - 0s 5ms/step - loss: 1.0170 - val_loss: 1.3106\n",
            "Epoch 138/300\n",
            "9/9 [==============================] - 0s 5ms/step - loss: 1.0066 - val_loss: 1.3699\n",
            "Epoch 139/300\n",
            "9/9 [==============================] - 0s 4ms/step - loss: 1.0267 - val_loss: 1.2783\n",
            "Epoch 140/300\n",
            "9/9 [==============================] - 0s 4ms/step - loss: 0.9949 - val_loss: 1.2772\n",
            "Epoch 141/300\n",
            "9/9 [==============================] - 0s 6ms/step - loss: 0.9742 - val_loss: 1.3358\n",
            "Epoch 142/300\n",
            "9/9 [==============================] - 0s 5ms/step - loss: 0.9670 - val_loss: 1.2055\n",
            "Epoch 143/300\n",
            "9/9 [==============================] - 0s 6ms/step - loss: 0.9690 - val_loss: 1.2528\n",
            "Epoch 144/300\n",
            "9/9 [==============================] - 0s 7ms/step - loss: 0.9063 - val_loss: 1.2353\n",
            "Epoch 145/300\n",
            "9/9 [==============================] - 0s 5ms/step - loss: 0.9371 - val_loss: 1.2960\n",
            "Epoch 146/300\n",
            "9/9 [==============================] - 0s 5ms/step - loss: 0.9392 - val_loss: 1.2984\n",
            "Epoch 147/300\n",
            "9/9 [==============================] - 0s 5ms/step - loss: 0.9099 - val_loss: 1.2688\n",
            "Epoch 148/300\n",
            "9/9 [==============================] - 0s 5ms/step - loss: 0.9081 - val_loss: 1.1112\n",
            "Epoch 149/300\n",
            "9/9 [==============================] - 0s 5ms/step - loss: 0.9185 - val_loss: 1.1406\n",
            "Epoch 150/300\n",
            "9/9 [==============================] - 0s 5ms/step - loss: 0.8630 - val_loss: 1.1802\n",
            "Epoch 151/300\n",
            "9/9 [==============================] - 0s 5ms/step - loss: 0.8837 - val_loss: 1.1633\n",
            "Epoch 152/300\n",
            "9/9 [==============================] - 0s 7ms/step - loss: 0.8590 - val_loss: 1.1989\n",
            "Epoch 153/300\n",
            "9/9 [==============================] - 0s 5ms/step - loss: 0.8615 - val_loss: 1.2186\n",
            "Epoch 154/300\n",
            "9/9 [==============================] - 0s 5ms/step - loss: 0.8309 - val_loss: 1.1885\n",
            "Epoch 155/300\n",
            "9/9 [==============================] - 0s 5ms/step - loss: 0.8665 - val_loss: 1.0916\n",
            "Epoch 156/300\n",
            "9/9 [==============================] - 0s 7ms/step - loss: 0.8333 - val_loss: 1.1267\n",
            "Epoch 157/300\n",
            "9/9 [==============================] - 0s 6ms/step - loss: 0.8068 - val_loss: 1.1195\n",
            "Epoch 158/300\n",
            "9/9 [==============================] - 0s 7ms/step - loss: 0.8044 - val_loss: 1.0869\n",
            "Epoch 159/300\n",
            "9/9 [==============================] - 0s 4ms/step - loss: 0.7859 - val_loss: 1.0463\n",
            "Epoch 160/300\n",
            "9/9 [==============================] - 0s 7ms/step - loss: 0.7646 - val_loss: 1.0094\n",
            "Epoch 161/300\n",
            "9/9 [==============================] - 0s 5ms/step - loss: 0.7845 - val_loss: 1.0296\n",
            "Epoch 162/300\n",
            "9/9 [==============================] - 0s 5ms/step - loss: 0.7920 - val_loss: 0.9863\n",
            "Epoch 163/300\n",
            "9/9 [==============================] - 0s 4ms/step - loss: 0.7377 - val_loss: 1.0213\n",
            "Epoch 164/300\n",
            "9/9 [==============================] - 0s 5ms/step - loss: 0.7893 - val_loss: 1.0287\n",
            "Epoch 165/300\n",
            "9/9 [==============================] - 0s 7ms/step - loss: 0.7268 - val_loss: 0.9405\n",
            "Epoch 166/300\n",
            "9/9 [==============================] - 0s 8ms/step - loss: 0.7360 - val_loss: 0.9605\n",
            "Epoch 167/300\n",
            "9/9 [==============================] - 0s 5ms/step - loss: 0.7291 - val_loss: 0.9652\n",
            "Epoch 168/300\n",
            "9/9 [==============================] - 0s 6ms/step - loss: 0.7272 - val_loss: 0.9311\n",
            "Epoch 169/300\n",
            "9/9 [==============================] - 0s 7ms/step - loss: 0.7146 - val_loss: 0.9491\n",
            "Epoch 170/300\n",
            "9/9 [==============================] - 0s 7ms/step - loss: 0.6945 - val_loss: 0.9877\n",
            "Epoch 171/300\n",
            "9/9 [==============================] - 0s 7ms/step - loss: 0.6994 - val_loss: 1.0180\n",
            "Epoch 172/300\n",
            "9/9 [==============================] - 0s 7ms/step - loss: 0.6669 - val_loss: 0.9968\n",
            "Epoch 173/300\n",
            "9/9 [==============================] - 0s 5ms/step - loss: 0.6899 - val_loss: 0.9619\n",
            "Epoch 174/300\n",
            "9/9 [==============================] - 0s 6ms/step - loss: 0.6669 - val_loss: 0.9258\n",
            "Epoch 175/300\n",
            "9/9 [==============================] - 0s 7ms/step - loss: 0.6755 - val_loss: 0.8521\n",
            "Epoch 176/300\n",
            "9/9 [==============================] - 0s 5ms/step - loss: 0.6571 - val_loss: 0.8940\n",
            "Epoch 177/300\n",
            "9/9 [==============================] - 0s 5ms/step - loss: 0.6534 - val_loss: 0.8580\n",
            "Epoch 178/300\n",
            "9/9 [==============================] - 0s 5ms/step - loss: 0.6210 - val_loss: 0.8347\n",
            "Epoch 179/300\n",
            "9/9 [==============================] - 0s 5ms/step - loss: 0.6158 - val_loss: 0.8910\n",
            "Epoch 180/300\n",
            "9/9 [==============================] - 0s 6ms/step - loss: 0.5911 - val_loss: 0.8111\n",
            "Epoch 181/300\n",
            "9/9 [==============================] - 0s 7ms/step - loss: 0.6115 - val_loss: 0.8587\n",
            "Epoch 182/300\n",
            "9/9 [==============================] - 0s 4ms/step - loss: 0.6359 - val_loss: 0.8713\n",
            "Epoch 183/300\n",
            "9/9 [==============================] - 0s 5ms/step - loss: 0.5979 - val_loss: 0.8996\n",
            "Epoch 184/300\n",
            "9/9 [==============================] - 0s 6ms/step - loss: 0.6175 - val_loss: 0.8671\n",
            "Epoch 185/300\n",
            "9/9 [==============================] - 0s 5ms/step - loss: 0.5576 - val_loss: 0.8103\n",
            "Epoch 186/300\n",
            "9/9 [==============================] - 0s 5ms/step - loss: 0.5577 - val_loss: 0.8783\n",
            "Epoch 187/300\n",
            "9/9 [==============================] - 0s 6ms/step - loss: 0.5778 - val_loss: 0.8666\n",
            "Epoch 188/300\n",
            "9/9 [==============================] - 0s 7ms/step - loss: 0.5672 - val_loss: 0.7987\n",
            "Epoch 189/300\n",
            "9/9 [==============================] - 0s 6ms/step - loss: 0.5755 - val_loss: 0.7435\n",
            "Epoch 190/300\n",
            "9/9 [==============================] - 0s 7ms/step - loss: 0.5640 - val_loss: 0.7121\n",
            "Epoch 191/300\n",
            "9/9 [==============================] - 0s 5ms/step - loss: 0.5335 - val_loss: 0.7485\n",
            "Epoch 192/300\n",
            "9/9 [==============================] - 0s 5ms/step - loss: 0.5599 - val_loss: 0.7248\n",
            "Epoch 193/300\n",
            "9/9 [==============================] - 0s 6ms/step - loss: 0.5186 - val_loss: 0.7279\n",
            "Epoch 194/300\n",
            "9/9 [==============================] - 0s 5ms/step - loss: 0.5217 - val_loss: 0.8110\n",
            "Epoch 195/300\n",
            "9/9 [==============================] - 0s 6ms/step - loss: 0.5191 - val_loss: 0.7418\n",
            "Epoch 196/300\n",
            "9/9 [==============================] - 0s 7ms/step - loss: 0.5045 - val_loss: 0.7455\n",
            "Epoch 197/300\n",
            "9/9 [==============================] - 0s 5ms/step - loss: 0.4905 - val_loss: 0.7486\n",
            "Epoch 198/300\n",
            "9/9 [==============================] - 0s 7ms/step - loss: 0.4976 - val_loss: 0.7648\n",
            "Epoch 199/300\n",
            "9/9 [==============================] - 0s 7ms/step - loss: 0.4736 - val_loss: 0.7089\n",
            "Epoch 200/300\n",
            "9/9 [==============================] - 0s 6ms/step - loss: 0.4962 - val_loss: 0.6703\n",
            "Epoch 201/300\n",
            "9/9 [==============================] - 0s 6ms/step - loss: 0.4697 - val_loss: 0.6995\n",
            "Epoch 202/300\n",
            "9/9 [==============================] - 0s 5ms/step - loss: 0.4866 - val_loss: 0.7417\n",
            "Epoch 203/300\n",
            "9/9 [==============================] - 0s 7ms/step - loss: 0.4572 - val_loss: 0.6771\n",
            "Epoch 204/300\n",
            "9/9 [==============================] - 0s 5ms/step - loss: 0.4621 - val_loss: 0.6723\n",
            "Epoch 205/300\n",
            "9/9 [==============================] - 0s 4ms/step - loss: 0.4426 - val_loss: 0.6578\n",
            "Epoch 206/300\n",
            "9/9 [==============================] - 0s 4ms/step - loss: 0.4577 - val_loss: 0.6551\n",
            "Epoch 207/300\n",
            "9/9 [==============================] - 0s 5ms/step - loss: 0.4638 - val_loss: 0.6821\n",
            "Epoch 208/300\n",
            "9/9 [==============================] - 0s 5ms/step - loss: 0.4463 - val_loss: 0.6127\n",
            "Epoch 209/300\n",
            "9/9 [==============================] - 0s 7ms/step - loss: 0.4579 - val_loss: 0.5881\n",
            "Epoch 210/300\n",
            "9/9 [==============================] - 0s 5ms/step - loss: 0.4191 - val_loss: 0.6964\n",
            "Epoch 211/300\n",
            "9/9 [==============================] - 0s 6ms/step - loss: 0.4220 - val_loss: 0.6487\n",
            "Epoch 212/300\n",
            "9/9 [==============================] - 0s 7ms/step - loss: 0.4462 - val_loss: 0.6835\n",
            "Epoch 213/300\n",
            "9/9 [==============================] - 0s 7ms/step - loss: 0.4383 - val_loss: 0.5938\n",
            "Epoch 214/300\n",
            "9/9 [==============================] - 0s 5ms/step - loss: 0.4136 - val_loss: 0.6151\n",
            "Epoch 215/300\n",
            "9/9 [==============================] - 0s 7ms/step - loss: 0.4104 - val_loss: 0.5785\n",
            "Epoch 216/300\n",
            "9/9 [==============================] - 0s 5ms/step - loss: 0.3901 - val_loss: 0.5625\n",
            "Epoch 217/300\n",
            "9/9 [==============================] - 0s 5ms/step - loss: 0.4098 - val_loss: 0.6512\n",
            "Epoch 218/300\n",
            "9/9 [==============================] - 0s 5ms/step - loss: 0.3999 - val_loss: 0.5763\n",
            "Epoch 219/300\n",
            "9/9 [==============================] - 0s 6ms/step - loss: 0.3788 - val_loss: 0.6237\n",
            "Epoch 220/300\n",
            "9/9 [==============================] - 0s 7ms/step - loss: 0.4016 - val_loss: 0.5959\n",
            "Epoch 221/300\n",
            "9/9 [==============================] - 0s 5ms/step - loss: 0.4315 - val_loss: 0.5831\n",
            "Epoch 222/300\n",
            "9/9 [==============================] - 0s 5ms/step - loss: 0.3842 - val_loss: 0.5846\n",
            "Epoch 223/300\n",
            "9/9 [==============================] - 0s 5ms/step - loss: 0.3805 - val_loss: 0.6211\n",
            "Epoch 224/300\n",
            "9/9 [==============================] - 0s 7ms/step - loss: 0.3818 - val_loss: 0.6546\n",
            "Epoch 225/300\n",
            "9/9 [==============================] - 0s 7ms/step - loss: 0.4045 - val_loss: 0.5531\n",
            "Epoch 226/300\n",
            "9/9 [==============================] - 0s 7ms/step - loss: 0.3976 - val_loss: 0.6400\n",
            "Epoch 227/300\n",
            "9/9 [==============================] - 0s 7ms/step - loss: 0.3772 - val_loss: 0.6684\n",
            "Epoch 228/300\n",
            "9/9 [==============================] - 0s 5ms/step - loss: 0.4053 - val_loss: 0.5405\n",
            "Epoch 229/300\n",
            "9/9 [==============================] - 0s 6ms/step - loss: 0.3667 - val_loss: 0.6010\n",
            "Epoch 230/300\n",
            "9/9 [==============================] - 0s 7ms/step - loss: 0.3667 - val_loss: 0.5325\n",
            "Epoch 231/300\n",
            "9/9 [==============================] - 0s 5ms/step - loss: 0.3860 - val_loss: 0.5514\n",
            "Epoch 232/300\n",
            "9/9 [==============================] - 0s 4ms/step - loss: 0.3683 - val_loss: 0.6659\n",
            "Epoch 233/300\n",
            "9/9 [==============================] - 0s 5ms/step - loss: 0.3515 - val_loss: 0.7156\n",
            "Epoch 234/300\n",
            "9/9 [==============================] - 0s 5ms/step - loss: 0.3996 - val_loss: 0.5344\n",
            "Epoch 235/300\n",
            "9/9 [==============================] - 0s 5ms/step - loss: 0.3719 - val_loss: 0.6753\n",
            "Epoch 236/300\n",
            "9/9 [==============================] - 0s 7ms/step - loss: 0.3706 - val_loss: 0.5498\n",
            "Epoch 237/300\n",
            "9/9 [==============================] - 0s 7ms/step - loss: 0.3600 - val_loss: 0.5386\n",
            "Epoch 238/300\n",
            "9/9 [==============================] - 0s 5ms/step - loss: 0.3539 - val_loss: 0.5058\n",
            "Epoch 239/300\n",
            "9/9 [==============================] - 0s 5ms/step - loss: 0.3734 - val_loss: 0.6581\n",
            "Epoch 240/300\n",
            "9/9 [==============================] - 0s 6ms/step - loss: 0.3612 - val_loss: 0.5406\n",
            "Epoch 241/300\n",
            "9/9 [==============================] - 0s 5ms/step - loss: 0.3607 - val_loss: 0.5483\n",
            "Epoch 242/300\n",
            "9/9 [==============================] - 0s 5ms/step - loss: 0.3555 - val_loss: 0.5258\n",
            "Epoch 243/300\n",
            "9/9 [==============================] - 0s 5ms/step - loss: 0.3432 - val_loss: 0.5249\n",
            "Epoch 244/300\n",
            "9/9 [==============================] - 0s 5ms/step - loss: 0.3529 - val_loss: 0.5922\n",
            "Epoch 245/300\n",
            "9/9 [==============================] - 0s 5ms/step - loss: 0.3603 - val_loss: 0.5762\n",
            "Epoch 246/300\n",
            "9/9 [==============================] - 0s 5ms/step - loss: 0.3475 - val_loss: 0.5721\n",
            "Epoch 247/300\n",
            "9/9 [==============================] - 0s 4ms/step - loss: 0.3526 - val_loss: 0.5402\n",
            "Epoch 248/300\n",
            "9/9 [==============================] - 0s 6ms/step - loss: 0.3555 - val_loss: 0.5043\n",
            "Epoch 249/300\n",
            "9/9 [==============================] - 0s 8ms/step - loss: 0.3506 - val_loss: 0.5193\n",
            "Epoch 250/300\n",
            "9/9 [==============================] - 0s 6ms/step - loss: 0.3220 - val_loss: 0.4894\n",
            "Epoch 251/300\n",
            "9/9 [==============================] - 0s 8ms/step - loss: 0.3251 - val_loss: 0.7112\n",
            "Epoch 252/300\n",
            "9/9 [==============================] - 0s 5ms/step - loss: 0.3741 - val_loss: 0.5259\n",
            "Epoch 253/300\n",
            "9/9 [==============================] - 0s 4ms/step - loss: 0.3451 - val_loss: 0.5808\n",
            "Epoch 254/300\n",
            "9/9 [==============================] - 0s 5ms/step - loss: 0.3426 - val_loss: 0.5105\n",
            "Epoch 255/300\n",
            "9/9 [==============================] - 0s 5ms/step - loss: 0.3145 - val_loss: 0.5363\n",
            "Epoch 256/300\n",
            "9/9 [==============================] - 0s 5ms/step - loss: 0.3328 - val_loss: 0.5702\n",
            "Epoch 257/300\n",
            "9/9 [==============================] - 0s 6ms/step - loss: 0.3553 - val_loss: 0.5138\n",
            "Epoch 258/300\n",
            "9/9 [==============================] - 0s 5ms/step - loss: 0.3206 - val_loss: 0.5799\n",
            "Epoch 259/300\n",
            "9/9 [==============================] - 0s 5ms/step - loss: 0.3323 - val_loss: 0.4821\n",
            "Epoch 260/300\n",
            "9/9 [==============================] - 0s 5ms/step - loss: 0.3373 - val_loss: 0.5359\n",
            "Epoch 261/300\n",
            "9/9 [==============================] - 0s 7ms/step - loss: 0.3148 - val_loss: 0.6257\n",
            "Epoch 262/300\n",
            "9/9 [==============================] - 0s 7ms/step - loss: 0.3311 - val_loss: 0.5434\n",
            "Epoch 263/300\n",
            "9/9 [==============================] - 0s 6ms/step - loss: 0.3343 - val_loss: 0.5003\n",
            "Epoch 264/300\n",
            "9/9 [==============================] - 0s 8ms/step - loss: 0.3287 - val_loss: 0.4971\n",
            "Epoch 265/300\n",
            "9/9 [==============================] - 0s 4ms/step - loss: 0.3443 - val_loss: 0.5504\n",
            "Epoch 266/300\n",
            "9/9 [==============================] - 0s 5ms/step - loss: 0.3127 - val_loss: 0.5720\n",
            "Epoch 267/300\n",
            "9/9 [==============================] - 0s 7ms/step - loss: 0.3259 - val_loss: 0.4924\n",
            "Epoch 268/300\n",
            "9/9 [==============================] - 0s 5ms/step - loss: 0.3233 - val_loss: 0.5275\n",
            "Epoch 269/300\n",
            "9/9 [==============================] - 0s 7ms/step - loss: 0.3703 - val_loss: 0.4908\n",
            "Epoch 1/300\n",
            "9/9 [==============================] - 0s 11ms/step - loss: 0.3136 - val_loss: 0.4891\n",
            "Epoch 2/300\n",
            "9/9 [==============================] - 0s 5ms/step - loss: 0.3126 - val_loss: 0.4890\n",
            "Epoch 3/300\n",
            "9/9 [==============================] - 0s 7ms/step - loss: 0.3225 - val_loss: 0.5269\n",
            "Epoch 4/300\n",
            "9/9 [==============================] - 0s 5ms/step - loss: 0.3126 - val_loss: 0.4463\n",
            "Epoch 5/300\n",
            "9/9 [==============================] - 0s 5ms/step - loss: 0.3185 - val_loss: 0.4758\n",
            "Epoch 6/300\n",
            "9/9 [==============================] - 0s 5ms/step - loss: 0.3087 - val_loss: 0.5272\n",
            "Epoch 7/300\n",
            "9/9 [==============================] - 0s 5ms/step - loss: 0.3039 - val_loss: 0.4722\n",
            "Epoch 8/300\n",
            "9/9 [==============================] - 0s 7ms/step - loss: 0.2955 - val_loss: 0.4990\n",
            "Epoch 9/300\n",
            "9/9 [==============================] - 0s 5ms/step - loss: 0.3187 - val_loss: 0.5064\n",
            "Epoch 10/300\n",
            "9/9 [==============================] - 0s 6ms/step - loss: 0.3132 - val_loss: 0.5175\n",
            "Epoch 11/300\n",
            "9/9 [==============================] - 0s 7ms/step - loss: 0.3263 - val_loss: 0.5265\n",
            "Epoch 12/300\n",
            "9/9 [==============================] - 0s 5ms/step - loss: 0.3145 - val_loss: 0.4484\n",
            "Epoch 13/300\n",
            "9/9 [==============================] - 0s 8ms/step - loss: 0.3075 - val_loss: 0.5668\n",
            "Epoch 14/300\n",
            "9/9 [==============================] - 0s 6ms/step - loss: 0.3028 - val_loss: 0.4705\n"
          ]
        }
      ]
    },
    {
      "cell_type": "markdown",
      "metadata": {
        "id": "JRjNgmo6c-nI"
      },
      "source": [
        "**Note**: Results will vary given the stochastic nature of the neural network algorithm. Running the example a few times and comparing the average outcome gives the reported RMSE for the Blending technique."
      ]
    },
    {
      "cell_type": "markdown",
      "metadata": {
        "id": "hOsVjW1p-Fh6"
      },
      "source": [
        "## Plot Predicted vs Measured"
      ]
    },
    {
      "cell_type": "code",
      "metadata": {
        "colab": {
          "base_uri": "https://localhost:8080/"
        },
        "id": "un-FxSXn-OQE",
        "outputId": "379ec627-5ac8-4e4d-de9c-e9d62516e50b"
      },
      "source": [
        "import matplotlib.pyplot as plt\n",
        "from matplotlib.lines import Line2D\n",
        "import numpy as np\n",
        "\n",
        "# Plot predicted vs Measured for Apparent Viscosity\n",
        "\n",
        "predicted = Blended_pred_train\n",
        "predicted2 = Blended_pred\n",
        "\n",
        "fig, ax = plt.subplots()\n",
        "ax.scatter(y_test, predicted2 , c='blue', label ='test data ')\n",
        "ax.scatter(y_train, predicted, c= 'green', label ='training data')\n",
        "ax.plot(np.unique(y_test), np.poly1d(np.polyfit(y_test, predicted2, 1))(np.unique(y_test)),color='red', linestyle='dashed', lw=2)\n",
        "ax.plot([y_train.min(), y_train.max()], [y_train.min(), y_train.max()], color='black', linestyle='-', lw=1)\n",
        "\n",
        "ax.set_title ('Blended')\n",
        "ax.set_xlabel('Measured Apparent Viscosity, cP')\n",
        "ax.set_ylabel('Predicted Apparent Viscosity, cP')\n",
        "\n",
        "# Extend the legend to include the line of fit\n",
        "handles, labels = plt.gca().get_legend_handles_labels()\n",
        "# patch = mpatches.Patch(color='grey', label='manual patch')   \n",
        "line = Line2D([0], [0], label='test data line of fit', color='red', linestyle='dashed', lw=2)\n",
        "# handles.extend([patch, line])\n",
        "handles.extend([line])\n",
        "\n",
        "plt.legend(handles=handles)\n",
        "\n",
        "plt.show()"
      ],
      "execution_count": null,
      "outputs": [
        {
          "output_type": "display_data",
          "data": {
            "image/png": "[encoded data removed]",
            "text/plain": [
              "<Figure size 432x288 with 1 Axes>"
            ]
          },
          "metadata": {
            "needs_background": "light"
          }
        }
      ]
    },
    {
      "cell_type": "markdown",
      "metadata": {
        "id": "_C_MFJhDvP2o"
      },
      "source": [
        "# Evaluations"
      ]
    },
    {
      "cell_type": "markdown",
      "metadata": {
        "id": "3Wqp31i9CLiZ"
      },
      "source": [
        "## On Training Dataset "
      ]
    },
    {
      "cell_type": "code",
      "metadata": {
        "colab": {
          "base_uri": "https://localhost:8080/"
        },
        "id": "DiJkzlY_CLia",
        "outputId": "05b19165-325e-45a6-d9c0-59ed04dce4f4"
      },
      "source": [
        "from sklearn.metrics import mean_squared_error\n",
        "from sklearn.metrics import mean_absolute_error\n",
        "from sklearn.metrics import r2_score\n",
        "\n",
        "rmse = round(np.abs(mean_squared_error(y_train, Blended_pred_train, squared=False)), 3 )\n",
        "mae = round(np.abs(mean_absolute_error(y_train, Blended_pred_train)), 3 )\n",
        "r_squared = round(r2_score(y_train, Blended_pred_train), 3 )\n",
        "\n",
        "print(\"RMSE on training data: \", rmse)\n",
        "print(\"MAE on training data: \", mae)\n",
        "print(\"R-squared on training data: \", r_squared)"
      ],
      "execution_count": null,
      "outputs": [
        {
          "output_type": "stream",
          "name": "stdout",
          "text": [
            "RMSE on training data:  0.148\n",
            "MAE on training data:  0.112\n",
            "R-squared on training data:  0.999\n"
          ]
        }
      ]
    },
    {
      "cell_type": "markdown",
      "metadata": {
        "id": "BaFvKJYs2w6l"
      },
      "source": [
        "## On Testing Dataset "
      ]
    },
    {
      "cell_type": "code",
      "metadata": {
        "colab": {
          "base_uri": "https://localhost:8080/"
        },
        "id": "Ah14WyRn40Hk",
        "outputId": "935c38af-ae26-418f-ac3d-43eb41de5f91"
      },
      "source": [
        "rmse = round(np.abs(mean_squared_error(y_test, Blended_pred, squared=False)), 3 )\n",
        "mae = round(np.abs(mean_absolute_error(y_test, Blended_pred)), 3 )\n",
        "r_squared = round(r2_score(y_test, Blended_pred), 3 )\n",
        "\n",
        "print(\"RMSE on testing data: \", rmse)\n",
        "print(\"MAE on testing data: \", mae)\n",
        "print(\"R-squared on testing data: \", r_squared)"
      ],
      "execution_count": null,
      "outputs": [
        {
          "output_type": "stream",
          "name": "stdout",
          "text": [
            "RMSE on testing data:  0.094\n",
            "MAE on testing data:  0.091\n",
            "R-squared on testing data:  1.0\n"
          ]
        }
      ]
    },
    {
      "cell_type": "markdown",
      "metadata": {
        "id": "fL1z681mzf7D"
      },
      "source": [
        "# PCA Implementation"
      ]
    },
    {
      "cell_type": "code",
      "metadata": {
        "colab": {
          "base_uri": "https://localhost:8080/"
        },
        "id": "4ZWtt_s4ML1N",
        "outputId": "11d7dfa2-3cd2-4fc8-f02f-e8f2993ce6ec"
      },
      "source": [
        "from sklearn.decomposition import PCA\n",
        "# Create a PCA instance: pca\n",
        "pca = PCA(n_components=5\n",
        "          )\n",
        "df_trans= pca.fit_transform(X_train)\n",
        "\n",
        "print(\"original shape:   \", X_train.shape)\n",
        "print(\"transformed shape:\", df_trans.shape)"
      ],
      "execution_count": null,
      "outputs": [
        {
          "output_type": "stream",
          "name": "stdout",
          "text": [
            "original shape:    (209, 5)\n",
            "transformed shape: (209, 5)\n"
          ]
        }
      ]
    },
    {
      "cell_type": "code",
      "metadata": {
        "id": "3xzQU_g_Pq4r"
      },
      "source": [
        "import numpy as np\n",
        "#Assign labels to components\n",
        "components = pca.components_.T * np.sqrt(pca.explained_variance_)\n",
        "\n",
        "Compo = pd.concat([pd.DataFrame(train_X.columns), pd.DataFrame(components)], axis=1)\n",
        "\n",
        "\n",
        "Compo.columns = ['Features','Principal Component 1', 'Principal Component 2',\n",
        "                               'Principal Component 3',\n",
        "                 'Principal Component 4',\n",
        "                                'Principal Component 5',\n",
        "                 \n",
        "                               ]\n",
        "to_be_changed = ['Principal Component 1', 'Principal Component 2',\n",
        "                               'Principal Component 3',\n",
        "                 'Principal Component 4',\n",
        "                                'Principal Component 5',\n",
        "]\n",
        "\n",
        "for value in to_be_changed:\n",
        "  Compo[value] = Compo[value].abs() \n"
      ],
      "execution_count": null,
      "outputs": []
    },
    {
      "cell_type": "code",
      "metadata": {
        "colab": {
          "base_uri": "https://localhost:8080/",
          "height": 194
        },
        "id": "k7vMlZ4WHII_",
        "outputId": "3ffc0f85-aeaa-4530-9e01-22fe91e333e5"
      },
      "source": [
        "from google.colab import data_table\n",
        "data_table.DataTable(Compo, include_index=False)"
      ],
      "execution_count": null,
      "outputs": [
        {
          "output_type": "execute_result",
          "data": {
            "application/vnd.google.colaboratory.module+javascript": "\n      import \"https://ssl.gstatic.com/colaboratory/data_table/a6224c040fa35dcf/data_table.js\";\n\n      window.createDataTable({\n        data: [[\"temp\",\n{\n            'v': 0.8916622193560693,\n            'f': \"0.8916622193560693\",\n        },\n{\n            'v': 0.12817400097317008,\n            'f': \"0.12817400097317008\",\n        },\n{\n            'v': 0.038949509969755665,\n            'f': \"0.038949509969755665\",\n        },\n{\n            'v': 0.19171297404265583,\n            'f': \"0.19171297404265583\",\n        },\n{\n            'v': 0.3937596673252191,\n            'f': \"0.3937596673252191\",\n        }],\n [\"np_conc\",\n{\n            'v': 0.1427091697908541,\n            'f': \"0.1427091697908541\",\n        },\n{\n            'v': 0.8194625753963071,\n            'f': \"0.8194625753963071\",\n        },\n{\n            'v': 0.2960952862809051,\n            'f': \"0.2960952862809051\",\n        },\n{\n            'v': 0.4741833137608526,\n            'f': \"0.4741833137608526\",\n        },\n{\n            'v': 0.02001597070220899,\n            'f': \"0.02001597070220899\",\n        }],\n [\"salinity\",\n{\n            'v': 0.05717329703943488,\n            'f': \"0.05717329703943488\",\n        },\n{\n            'v': 0.14144802392284897,\n            'f': \"0.14144802392284897\",\n        },\n{\n            'v': 0.956977953061717,\n            'f': \"0.956977953061717\",\n        },\n{\n            'v': 0.2561869619238851,\n            'f': \"0.2561869619238851\",\n        },\n{\n            'v': 0.0096333190369483,\n            'f': \"0.0096333190369483\",\n        }],\n [\"foam_qual\",\n{\n            'v': 0.44750168935961193,\n            'f': \"0.44750168935961193\",\n        },\n{\n            'v': 0.6513444788028209,\n            'f': \"0.6513444788028209\",\n        },\n{\n            'v': 0.1548375851073614,\n            'f': \"0.1548375851073614\",\n        },\n{\n            'v': 0.596742350612243,\n            'f': \"0.596742350612243\",\n        },\n{\n            'v': 0.014972958457245507,\n            'f': \"0.014972958457245507\",\n        }],\n [\"shear\",\n{\n            'v': 0.8974097900580513,\n            'f': \"0.8974097900580513\",\n        },\n{\n            'v': 0.05812056802678316,\n            'f': \"0.05812056802678316\",\n        },\n{\n            'v': 0.024628884560708223,\n            'f': \"0.024628884560708223\",\n        },\n{\n            'v': 0.19881369289812229,\n            'f': \"0.19881369289812229\",\n        },\n{\n            'v': 0.3949074501062335,\n            'f': \"0.3949074501062335\",\n        }]],\n        columns: [[\"string\", \"Features\"], [\"number\", \"Principal Component 1\"], [\"number\", \"Principal Component 2\"], [\"number\", \"Principal Component 3\"], [\"number\", \"Principal Component 4\"], [\"number\", \"Principal Component 5\"]],\n        columnOptions: [],\n        rowsPerPage: 25,\n        helpUrl: \"https://colab.research.google.com/notebooks/data_table.ipynb\",\n        suppressOutputScrolling: true,\n        minimumWidth: undefined,\n      });\n    ",
            "text/plain": [
              "<google.colab.data_table.DataTable object>"
            ],
            "text/html": [
              "<div>\n",
              "<style scoped>\n",
              "    .dataframe tbody tr th:only-of-type {\n",
              "        vertical-align: middle;\n",
              "    }\n",
              "\n",
              "    .dataframe tbody tr th {\n",
              "        vertical-align: top;\n",
              "    }\n",
              "\n",
              "    .dataframe thead th {\n",
              "        text-align: right;\n",
              "    }\n",
              "</style>\n",
              "<table border=\"1\" class=\"dataframe\">\n",
              "  <thead>\n",
              "    <tr style=\"text-align: right;\">\n",
              "      <th></th>\n",
              "      <th>Features</th>\n",
              "      <th>Principal Component 1</th>\n",
              "      <th>Principal Component 2</th>\n",
              "      <th>Principal Component 3</th>\n",
              "      <th>Principal Component 4</th>\n",
              "      <th>Principal Component 5</th>\n",
              "    </tr>\n",
              "  </thead>\n",
              "  <tbody>\n",
              "    <tr>\n",
              "      <th>0</th>\n",
              "      <td>temp</td>\n",
              "      <td>0.89</td>\n",
              "      <td>0.13</td>\n",
              "      <td>0.04</td>\n",
              "      <td>0.19</td>\n",
              "      <td>3.94e-01</td>\n",
              "    </tr>\n",
              "    <tr>\n",
              "      <th>1</th>\n",
              "      <td>np_conc</td>\n",
              "      <td>0.14</td>\n",
              "      <td>0.82</td>\n",
              "      <td>0.30</td>\n",
              "      <td>0.47</td>\n",
              "      <td>2.00e-02</td>\n",
              "    </tr>\n",
              "    <tr>\n",
              "      <th>2</th>\n",
              "      <td>salinity</td>\n",
              "      <td>0.06</td>\n",
              "      <td>0.14</td>\n",
              "      <td>0.96</td>\n",
              "      <td>0.26</td>\n",
              "      <td>9.63e-03</td>\n",
              "    </tr>\n",
              "    <tr>\n",
              "      <th>3</th>\n",
              "      <td>foam_qual</td>\n",
              "      <td>0.45</td>\n",
              "      <td>0.65</td>\n",
              "      <td>0.15</td>\n",
              "      <td>0.60</td>\n",
              "      <td>1.50e-02</td>\n",
              "    </tr>\n",
              "    <tr>\n",
              "      <th>4</th>\n",
              "      <td>shear</td>\n",
              "      <td>0.90</td>\n",
              "      <td>0.06</td>\n",
              "      <td>0.02</td>\n",
              "      <td>0.20</td>\n",
              "      <td>3.95e-01</td>\n",
              "    </tr>\n",
              "  </tbody>\n",
              "</table>\n",
              "</div>"
            ]
          },
          "metadata": {},
          "execution_count": 18
        }
      ]
    },
    {
      "cell_type": "markdown",
      "metadata": {
        "id": "B2D8__EjkGel"
      },
      "source": [
        "# Feature Importance"
      ]
    },
    {
      "cell_type": "code",
      "metadata": {
        "colab": {
          "base_uri": "https://localhost:8080/",
          "height": 473
        },
        "id": "eX7H0JC1UXys",
        "outputId": "c2bcb68e-95cb-4db7-9b59-aca08d3ca57a"
      },
      "source": [
        "from sklearn.inspection import permutation_importance\n",
        "# perform permutation importance\n",
        "results = permutation_importance(model_SVR, X_train, y_train,\n",
        "                                 scoring='neg_mean_absolute_error',\n",
        "                                 n_repeats=10, n_jobs=-1, random_state=42)\n",
        "# get importance\n",
        "feature_importance = results.importances_mean\n",
        "\n",
        "train_X.rename(columns = {'temp': 'Temperature',\n",
        "                          'foam_qual': 'Foam quality',\n",
        "                          'shear':'Shear rate',\n",
        "                          'np_conc': 'Nanoparticle concentration',\n",
        "                          'salinity': 'Salinity'}, inplace= True)\n",
        "\n",
        "sorted_feat= sorted(zip(feature_importance, train_X), reverse=False)\n",
        "\n",
        "# Create two lists from the list of tuples created\n",
        "value,name = [list(c) for c in zip(*sorted_feat)]\n",
        "\n",
        "# Plot the features\n",
        "plt.figure(figsize=(10,6))\n",
        "plt.barh(y = name, width= value, color= 'r')\n",
        "\n",
        "for index, value in enumerate(value):\n",
        "  value = round(value,2)\n",
        "  plt.text(value, index, str(value))\n",
        "\n",
        "plt.xlabel('Permutation Importance (Baseline MAE - MAE post-feature-permutation)')\n",
        "# plt.ylabel(' Features ')\n",
        "plt.show()\n",
        "\n"
      ],
      "execution_count": null,
      "outputs": [
        {
          "output_type": "stream",
          "name": "stderr",
          "text": [
            "/usr/local/lib/python3.7/dist-packages/pandas/core/frame.py:4308: SettingWithCopyWarning: \n",
            "A value is trying to be set on a copy of a slice from a DataFrame\n",
            "\n",
            "See the caveats in the documentation: https://pandas.pydata.org/pandas-docs/stable/user_guide/indexing.html#returning-a-view-versus-a-copy\n",
            "  errors=errors,\n"
          ]
        },
        {
          "output_type": "display_data",
          "data": {
            "image/png": "[encoded data removed]",
            "text/plain": [
              "<Figure size 720x432 with 1 Axes>"
            ]
          },
          "metadata": {
            "needs_background": "light"
          }
        }
      ]
    }
  ]
}