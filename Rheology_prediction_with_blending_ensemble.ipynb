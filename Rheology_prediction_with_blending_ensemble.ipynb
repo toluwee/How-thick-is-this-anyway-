{
  "cells": [
    {
      "cell_type": "markdown",
      "metadata": {
        "id": "view-in-github",
        "colab_type": "text"
      },
      "source": [
        "<a href=\"https://colab.research.google.com/github/toluwee/How-thick-is-this-anyway-/blob/main/Rheology_prediction_with_blending_ensemble.ipynb\" target=\"_parent\"><img src=\"https://colab.research.google.com/assets/colab-badge.svg\" alt=\"Open In Colab\"/></a>"
      ]
    },
    {
      "cell_type": "markdown",
      "metadata": {
        "id": "fk1CpKN-7HKn"
      },
      "source": [
        "# Objective\n",
        "\n",
        " \n",
        "\n",
        "*   Predict the apparent viscosity of CO2 foam fracturing fluid stabilized with nanoparticle  using blending (a stacking variant) machine learning ensemble model.\n",
        "*   Determine the influence of various parameters on apparent viscosity prediction.\n",
        "\n"
      ]
    },
    {
      "cell_type": "markdown",
      "metadata": {
        "id": "tfAgBWKXZhLk"
      },
      "source": [
        "# About The Dataset\n",
        "329 input data points were compiled from the published results of Xiao et al. (2017), Fu and Liu (2020) and Fu and Liu (2021) laboratory rheology experiments on stabilized CO2-foam at high temperatures and pressure for hydraulic fracturing. \n",
        "The dataset we obtained contained 329 data records, comprising 224, 60, 45 data from the studies by Xiao et al. (2017), Fu and Liu (2020), and Fu and Liu (2021), respectively. \n",
        "\n",
        "\n",
        "The following is a description of the dataset.\n",
        "\t\t\t\t\t\n",
        "**Attribute Information:**\n",
        "\n",
        "| Position | Feature | Description |Feature Type |\n",
        "|------:|:-----|---------|---------|\n",
        "|[, 1]|\ttemp\t|Temperature, centigrade|Numerical|\n",
        "|[, 2]|\tnp_conc|\tNanoparticle conc., %wt |Numerical|\n",
        "|[, 3]|\tsurf_conc|\tSurfactant conc., %wt |Numerical|\n",
        "|[, 4]|\tsalinity|\tSalinity, %wt |Numerical|\n",
        "|[, 5]|\tfoam_qual|\tFoam quality, %|Numerical|\n",
        "|[, 4]|\tsalinity|\tSalinity, %wt |Numerical||\n",
        "|[, 6]|\tshear|\tShear rate, s-1 |Numerical|\n",
        "|[, 7]|\tpressure|\tPressure, psi |Numerical|\n",
        "|[, 8]|\tnp_size|\tNanoparticle size, nm |Numerical|\n",
        "|[, 9]|\tapp_vis|\tApparent viscosity, cp|Numerical|\n"
      ]
    },
    {
      "cell_type": "markdown",
      "metadata": {
        "id": "oqqBjBvVGsqh"
      },
      "source": [
        "# Import"
      ]
    },
    {
      "cell_type": "markdown",
      "metadata": {
        "id": "u8R4VAEdQFXL"
      },
      "source": [
        "### Import Libraries\n"
      ]
    },
    {
      "cell_type": "code",
      "execution_count": 1,
      "metadata": {
        "id": "nrsrQZJBQFXN"
      },
      "outputs": [],
      "source": [
        "# Load libraries\n",
        "import numpy as np\n",
        "import pandas as pd\n",
        "import matplotlib.pyplot  as plt\n",
        "\n",
        "from scipy.stats import uniform\n",
        "from scipy.stats import randint\n",
        "\n",
        "\n",
        "from sklearn.model_selection import KFold\n",
        "\n",
        "from math import sqrt\n",
        "from numpy import asarray\n",
        "from sklearn.datasets import make_regression\n",
        "\n",
        "from sklearn.inspection import permutation_importance\n",
        "\n",
        "from sklearn.preprocessing import StandardScaler\n",
        "from sklearn.preprocessing import RobustScaler\n",
        "from sklearn.preprocessing import MinMaxScaler\n",
        "from sklearn.preprocessing import Normalizer\n",
        "\n",
        "from sklearn.model_selection import train_test_split\n",
        "from sklearn.model_selection import RepeatedKFold\n",
        "from sklearn.model_selection import cross_val_score\n",
        "from sklearn.model_selection import GridSearchCV\n",
        "from sklearn.model_selection import RandomizedSearchCV\n",
        "\n",
        "from sklearn.linear_model import LinearRegression\n",
        "from sklearn.preprocessing import PolynomialFeatures\n",
        "from sklearn.tree import DecisionTreeRegressor\n",
        "from sklearn.neighbors import KNeighborsRegressor\n",
        "from sklearn.svm import SVR\n",
        "from sklearn.multioutput import MultiOutputRegressor\n",
        "\n",
        "from sklearn.metrics import mean_squared_error\n",
        "from sklearn.metrics import mean_absolute_error\n",
        "from sklearn.metrics import median_absolute_error\n",
        "from sklearn.metrics import r2_score\n",
        "from sklearn.metrics import mean_squared_log_error\n",
        "\n",
        "import matplotlib.patches as mpatches\n",
        "from matplotlib.lines import Line2D\n",
        "\n",
        "import tensorflow as tf\n",
        "from tensorflow import keras\n",
        "\n",
        "\n",
        "from numpy import hstack\n",
        "from numpy import vstack\n",
        "from sklearn.ensemble import AdaBoostRegressor\n",
        "from sklearn.ensemble import BaggingRegressor\n",
        "\n",
        "from tensorflow.keras.wrappers.scikit_learn import KerasRegressor\n",
        "\n",
        "\n",
        "\n",
        "import joblib\n"
      ]
    },
    {
      "cell_type": "markdown",
      "metadata": {
        "id": "rK3uB09aBdje"
      },
      "source": [
        "### Import Libraries\n"
      ]
    },
    {
      "cell_type": "markdown",
      "metadata": {
        "id": "AOkcUYKWB2To"
      },
      "source": [
        "### Load Dataset"
      ]
    },
    {
      "cell_type": "code",
      "execution_count": 2,
      "metadata": {
        "id": "WbOAxQC4UIdl"
      },
      "outputs": [],
      "source": [
        "# filepath = \"https://toludata.s3.us-east-2.amazonaws.com/Viscosity_data_comprehensive.csv\"\n",
        "# filepath = \"https://toludata.s3.us-east-2.amazonaws.com/np_surf_viscosity_data.csv\"\n",
        "\n",
        "filepath =  \"https://toludata.s3.us-east-2.amazonaws.com/np_surf_viscosity_data2.csv\"\n",
        "\n",
        "dataset = pd.read_csv(filepath)"
      ]
    },
    {
      "cell_type": "markdown",
      "metadata": {
        "id": "tERpJTtYB-3a"
      },
      "source": [
        "# Descriptive Statistics"
      ]
    },
    {
      "cell_type": "code",
      "execution_count": 3,
      "metadata": {
        "colab": {
          "base_uri": "https://localhost:8080/"
        },
        "id": "hGVIJVBrbBXz",
        "outputId": "7d8d92da-1465-42ba-b59c-f862afb14675"
      },
      "outputs": [
        {
          "output_type": "execute_result",
          "data": {
            "text/plain": [
              "(330, 9)"
            ]
          },
          "metadata": {},
          "execution_count": 3
        }
      ],
      "source": [
        "# shape\n",
        "dataset.shape"
      ]
    },
    {
      "cell_type": "code",
      "execution_count": 4,
      "metadata": {
        "colab": {
          "base_uri": "https://localhost:8080/",
          "height": 677
        },
        "id": "UCPS8L3BbGN4",
        "outputId": "a0bc5c69-f3a0-4e49-f916-98a9270b9fa1"
      },
      "outputs": [
        {
          "output_type": "execute_result",
          "data": {
            "text/plain": [
              "    temp  np_conc  surf_conc  salinity  foam_qual  shear  pressure  np_size  \\\n",
              "0     40      0.5        0.0       0.0       80.0   6544      1140     17.5   \n",
              "1     40      0.5        0.0       0.0       80.0   9838      1140     17.5   \n",
              "2     40      0.5        0.0       0.0       80.0  13101      1140     17.5   \n",
              "3     40      0.5        0.0       0.0       80.0  16396      1140     17.5   \n",
              "4     40      0.5        0.0       0.0       70.0   6736      1140     17.5   \n",
              "5     40      0.5        0.0       0.0       70.0  10155      1140     17.5   \n",
              "6     40      0.5        0.0       0.0       70.0  13513      1140     17.5   \n",
              "7     40      0.5        0.0       0.0       70.0  16935      1140     17.5   \n",
              "8     40      0.5        0.0       0.0       60.0   6581      1140     17.5   \n",
              "9     40      0.5        0.0       0.0       60.0   9874      1140     17.5   \n",
              "10    40      0.5        0.0       0.0       60.0  13136      1140     17.5   \n",
              "11    40      0.5        0.0       0.0       60.0  16400      1140     17.5   \n",
              "12    40      0.5        0.0       0.0       50.0   6423      1140     17.5   \n",
              "13    40      0.5        0.0       0.0       50.0   9622      1140     17.5   \n",
              "14    40      0.5        0.0       0.0       50.0  12821      1140     17.5   \n",
              "15    40      0.5        0.0       0.0       50.0  16148      1140     17.5   \n",
              "16    40      0.5        0.0       5.0       80.0   7103      1140     17.5   \n",
              "17    40      0.5        0.0       5.0       80.0  10649      1140     17.5   \n",
              "18    40      0.5        0.0       5.0       80.0  14238      1140     17.5   \n",
              "19    40      0.5        0.0       5.0       80.0  17782      1140     17.5   \n",
              "\n",
              "    app_vis  \n",
              "0      0.57  \n",
              "1      0.51  \n",
              "2      0.47  \n",
              "3      0.44  \n",
              "4      0.60  \n",
              "5      0.52  \n",
              "6      0.48  \n",
              "7      0.44  \n",
              "8      0.69  \n",
              "9      0.61  \n",
              "10     0.56  \n",
              "11     0.53  \n",
              "12     0.72  \n",
              "13     0.66  \n",
              "14     0.61  \n",
              "15     0.58  \n",
              "16     0.62  \n",
              "17     0.52  \n",
              "18     0.46  \n",
              "19     0.41  "
            ],
            "text/html": [
              "\n",
              "  <div id=\"df-897a04e8-4436-4c10-8d89-3a0298cf91c3\">\n",
              "    <div class=\"colab-df-container\">\n",
              "      <div>\n",
              "<style scoped>\n",
              "    .dataframe tbody tr th:only-of-type {\n",
              "        vertical-align: middle;\n",
              "    }\n",
              "\n",
              "    .dataframe tbody tr th {\n",
              "        vertical-align: top;\n",
              "    }\n",
              "\n",
              "    .dataframe thead th {\n",
              "        text-align: right;\n",
              "    }\n",
              "</style>\n",
              "<table border=\"1\" class=\"dataframe\">\n",
              "  <thead>\n",
              "    <tr style=\"text-align: right;\">\n",
              "      <th></th>\n",
              "      <th>temp</th>\n",
              "      <th>np_conc</th>\n",
              "      <th>surf_conc</th>\n",
              "      <th>salinity</th>\n",
              "      <th>foam_qual</th>\n",
              "      <th>shear</th>\n",
              "      <th>pressure</th>\n",
              "      <th>np_size</th>\n",
              "      <th>app_vis</th>\n",
              "    </tr>\n",
              "  </thead>\n",
              "  <tbody>\n",
              "    <tr>\n",
              "      <th>0</th>\n",
              "      <td>40</td>\n",
              "      <td>0.5</td>\n",
              "      <td>0.0</td>\n",
              "      <td>0.0</td>\n",
              "      <td>80.0</td>\n",
              "      <td>6544</td>\n",
              "      <td>1140</td>\n",
              "      <td>17.5</td>\n",
              "      <td>0.57</td>\n",
              "    </tr>\n",
              "    <tr>\n",
              "      <th>1</th>\n",
              "      <td>40</td>\n",
              "      <td>0.5</td>\n",
              "      <td>0.0</td>\n",
              "      <td>0.0</td>\n",
              "      <td>80.0</td>\n",
              "      <td>9838</td>\n",
              "      <td>1140</td>\n",
              "      <td>17.5</td>\n",
              "      <td>0.51</td>\n",
              "    </tr>\n",
              "    <tr>\n",
              "      <th>2</th>\n",
              "      <td>40</td>\n",
              "      <td>0.5</td>\n",
              "      <td>0.0</td>\n",
              "      <td>0.0</td>\n",
              "      <td>80.0</td>\n",
              "      <td>13101</td>\n",
              "      <td>1140</td>\n",
              "      <td>17.5</td>\n",
              "      <td>0.47</td>\n",
              "    </tr>\n",
              "    <tr>\n",
              "      <th>3</th>\n",
              "      <td>40</td>\n",
              "      <td>0.5</td>\n",
              "      <td>0.0</td>\n",
              "      <td>0.0</td>\n",
              "      <td>80.0</td>\n",
              "      <td>16396</td>\n",
              "      <td>1140</td>\n",
              "      <td>17.5</td>\n",
              "      <td>0.44</td>\n",
              "    </tr>\n",
              "    <tr>\n",
              "      <th>4</th>\n",
              "      <td>40</td>\n",
              "      <td>0.5</td>\n",
              "      <td>0.0</td>\n",
              "      <td>0.0</td>\n",
              "      <td>70.0</td>\n",
              "      <td>6736</td>\n",
              "      <td>1140</td>\n",
              "      <td>17.5</td>\n",
              "      <td>0.60</td>\n",
              "    </tr>\n",
              "    <tr>\n",
              "      <th>5</th>\n",
              "      <td>40</td>\n",
              "      <td>0.5</td>\n",
              "      <td>0.0</td>\n",
              "      <td>0.0</td>\n",
              "      <td>70.0</td>\n",
              "      <td>10155</td>\n",
              "      <td>1140</td>\n",
              "      <td>17.5</td>\n",
              "      <td>0.52</td>\n",
              "    </tr>\n",
              "    <tr>\n",
              "      <th>6</th>\n",
              "      <td>40</td>\n",
              "      <td>0.5</td>\n",
              "      <td>0.0</td>\n",
              "      <td>0.0</td>\n",
              "      <td>70.0</td>\n",
              "      <td>13513</td>\n",
              "      <td>1140</td>\n",
              "      <td>17.5</td>\n",
              "      <td>0.48</td>\n",
              "    </tr>\n",
              "    <tr>\n",
              "      <th>7</th>\n",
              "      <td>40</td>\n",
              "      <td>0.5</td>\n",
              "      <td>0.0</td>\n",
              "      <td>0.0</td>\n",
              "      <td>70.0</td>\n",
              "      <td>16935</td>\n",
              "      <td>1140</td>\n",
              "      <td>17.5</td>\n",
              "      <td>0.44</td>\n",
              "    </tr>\n",
              "    <tr>\n",
              "      <th>8</th>\n",
              "      <td>40</td>\n",
              "      <td>0.5</td>\n",
              "      <td>0.0</td>\n",
              "      <td>0.0</td>\n",
              "      <td>60.0</td>\n",
              "      <td>6581</td>\n",
              "      <td>1140</td>\n",
              "      <td>17.5</td>\n",
              "      <td>0.69</td>\n",
              "    </tr>\n",
              "    <tr>\n",
              "      <th>9</th>\n",
              "      <td>40</td>\n",
              "      <td>0.5</td>\n",
              "      <td>0.0</td>\n",
              "      <td>0.0</td>\n",
              "      <td>60.0</td>\n",
              "      <td>9874</td>\n",
              "      <td>1140</td>\n",
              "      <td>17.5</td>\n",
              "      <td>0.61</td>\n",
              "    </tr>\n",
              "    <tr>\n",
              "      <th>10</th>\n",
              "      <td>40</td>\n",
              "      <td>0.5</td>\n",
              "      <td>0.0</td>\n",
              "      <td>0.0</td>\n",
              "      <td>60.0</td>\n",
              "      <td>13136</td>\n",
              "      <td>1140</td>\n",
              "      <td>17.5</td>\n",
              "      <td>0.56</td>\n",
              "    </tr>\n",
              "    <tr>\n",
              "      <th>11</th>\n",
              "      <td>40</td>\n",
              "      <td>0.5</td>\n",
              "      <td>0.0</td>\n",
              "      <td>0.0</td>\n",
              "      <td>60.0</td>\n",
              "      <td>16400</td>\n",
              "      <td>1140</td>\n",
              "      <td>17.5</td>\n",
              "      <td>0.53</td>\n",
              "    </tr>\n",
              "    <tr>\n",
              "      <th>12</th>\n",
              "      <td>40</td>\n",
              "      <td>0.5</td>\n",
              "      <td>0.0</td>\n",
              "      <td>0.0</td>\n",
              "      <td>50.0</td>\n",
              "      <td>6423</td>\n",
              "      <td>1140</td>\n",
              "      <td>17.5</td>\n",
              "      <td>0.72</td>\n",
              "    </tr>\n",
              "    <tr>\n",
              "      <th>13</th>\n",
              "      <td>40</td>\n",
              "      <td>0.5</td>\n",
              "      <td>0.0</td>\n",
              "      <td>0.0</td>\n",
              "      <td>50.0</td>\n",
              "      <td>9622</td>\n",
              "      <td>1140</td>\n",
              "      <td>17.5</td>\n",
              "      <td>0.66</td>\n",
              "    </tr>\n",
              "    <tr>\n",
              "      <th>14</th>\n",
              "      <td>40</td>\n",
              "      <td>0.5</td>\n",
              "      <td>0.0</td>\n",
              "      <td>0.0</td>\n",
              "      <td>50.0</td>\n",
              "      <td>12821</td>\n",
              "      <td>1140</td>\n",
              "      <td>17.5</td>\n",
              "      <td>0.61</td>\n",
              "    </tr>\n",
              "    <tr>\n",
              "      <th>15</th>\n",
              "      <td>40</td>\n",
              "      <td>0.5</td>\n",
              "      <td>0.0</td>\n",
              "      <td>0.0</td>\n",
              "      <td>50.0</td>\n",
              "      <td>16148</td>\n",
              "      <td>1140</td>\n",
              "      <td>17.5</td>\n",
              "      <td>0.58</td>\n",
              "    </tr>\n",
              "    <tr>\n",
              "      <th>16</th>\n",
              "      <td>40</td>\n",
              "      <td>0.5</td>\n",
              "      <td>0.0</td>\n",
              "      <td>5.0</td>\n",
              "      <td>80.0</td>\n",
              "      <td>7103</td>\n",
              "      <td>1140</td>\n",
              "      <td>17.5</td>\n",
              "      <td>0.62</td>\n",
              "    </tr>\n",
              "    <tr>\n",
              "      <th>17</th>\n",
              "      <td>40</td>\n",
              "      <td>0.5</td>\n",
              "      <td>0.0</td>\n",
              "      <td>5.0</td>\n",
              "      <td>80.0</td>\n",
              "      <td>10649</td>\n",
              "      <td>1140</td>\n",
              "      <td>17.5</td>\n",
              "      <td>0.52</td>\n",
              "    </tr>\n",
              "    <tr>\n",
              "      <th>18</th>\n",
              "      <td>40</td>\n",
              "      <td>0.5</td>\n",
              "      <td>0.0</td>\n",
              "      <td>5.0</td>\n",
              "      <td>80.0</td>\n",
              "      <td>14238</td>\n",
              "      <td>1140</td>\n",
              "      <td>17.5</td>\n",
              "      <td>0.46</td>\n",
              "    </tr>\n",
              "    <tr>\n",
              "      <th>19</th>\n",
              "      <td>40</td>\n",
              "      <td>0.5</td>\n",
              "      <td>0.0</td>\n",
              "      <td>5.0</td>\n",
              "      <td>80.0</td>\n",
              "      <td>17782</td>\n",
              "      <td>1140</td>\n",
              "      <td>17.5</td>\n",
              "      <td>0.41</td>\n",
              "    </tr>\n",
              "  </tbody>\n",
              "</table>\n",
              "</div>\n",
              "      <button class=\"colab-df-convert\" onclick=\"convertToInteractive('df-897a04e8-4436-4c10-8d89-3a0298cf91c3')\"\n",
              "              title=\"Convert this dataframe to an interactive table.\"\n",
              "              style=\"display:none;\">\n",
              "        \n",
              "  <svg xmlns=\"http://www.w3.org/2000/svg\" height=\"24px\"viewBox=\"0 0 24 24\"\n",
              "       width=\"24px\">\n",
              "    <path d=\"M0 0h24v24H0V0z\" fill=\"none\"/>\n",
              "    <path d=\"M18.56 5.44l.94 2.06.94-2.06 2.06-.94-2.06-.94-.94-2.06-.94 2.06-2.06.94zm-11 1L8.5 8.5l.94-2.06 2.06-.94-2.06-.94L8.5 2.5l-.94 2.06-2.06.94zm10 10l.94 2.06.94-2.06 2.06-.94-2.06-.94-.94-2.06-.94 2.06-2.06.94z\"/><path d=\"M17.41 7.96l-1.37-1.37c-.4-.4-.92-.59-1.43-.59-.52 0-1.04.2-1.43.59L10.3 9.45l-7.72 7.72c-.78.78-.78 2.05 0 2.83L4 21.41c.39.39.9.59 1.41.59.51 0 1.02-.2 1.41-.59l7.78-7.78 2.81-2.81c.8-.78.8-2.07 0-2.86zM5.41 20L4 18.59l7.72-7.72 1.47 1.35L5.41 20z\"/>\n",
              "  </svg>\n",
              "      </button>\n",
              "      \n",
              "  <style>\n",
              "    .colab-df-container {\n",
              "      display:flex;\n",
              "      flex-wrap:wrap;\n",
              "      gap: 12px;\n",
              "    }\n",
              "\n",
              "    .colab-df-convert {\n",
              "      background-color: #E8F0FE;\n",
              "      border: none;\n",
              "      border-radius: 50%;\n",
              "      cursor: pointer;\n",
              "      display: none;\n",
              "      fill: #1967D2;\n",
              "      height: 32px;\n",
              "      padding: 0 0 0 0;\n",
              "      width: 32px;\n",
              "    }\n",
              "\n",
              "    .colab-df-convert:hover {\n",
              "      background-color: #E2EBFA;\n",
              "      box-shadow: 0px 1px 2px rgba(60, 64, 67, 0.3), 0px 1px 3px 1px rgba(60, 64, 67, 0.15);\n",
              "      fill: #174EA6;\n",
              "    }\n",
              "\n",
              "    [theme=dark] .colab-df-convert {\n",
              "      background-color: #3B4455;\n",
              "      fill: #D2E3FC;\n",
              "    }\n",
              "\n",
              "    [theme=dark] .colab-df-convert:hover {\n",
              "      background-color: #434B5C;\n",
              "      box-shadow: 0px 1px 3px 1px rgba(0, 0, 0, 0.15);\n",
              "      filter: drop-shadow(0px 1px 2px rgba(0, 0, 0, 0.3));\n",
              "      fill: #FFFFFF;\n",
              "    }\n",
              "  </style>\n",
              "\n",
              "      <script>\n",
              "        const buttonEl =\n",
              "          document.querySelector('#df-897a04e8-4436-4c10-8d89-3a0298cf91c3 button.colab-df-convert');\n",
              "        buttonEl.style.display =\n",
              "          google.colab.kernel.accessAllowed ? 'block' : 'none';\n",
              "\n",
              "        async function convertToInteractive(key) {\n",
              "          const element = document.querySelector('#df-897a04e8-4436-4c10-8d89-3a0298cf91c3');\n",
              "          const dataTable =\n",
              "            await google.colab.kernel.invokeFunction('convertToInteractive',\n",
              "                                                     [key], {});\n",
              "          if (!dataTable) return;\n",
              "\n",
              "          const docLinkHtml = 'Like what you see? Visit the ' +\n",
              "            '<a target=\"_blank\" href=https://colab.research.google.com/notebooks/data_table.ipynb>data table notebook</a>'\n",
              "            + ' to learn more about interactive tables.';\n",
              "          element.innerHTML = '';\n",
              "          dataTable['output_type'] = 'display_data';\n",
              "          await google.colab.output.renderOutput(dataTable, element);\n",
              "          const docLink = document.createElement('div');\n",
              "          docLink.innerHTML = docLinkHtml;\n",
              "          element.appendChild(docLink);\n",
              "        }\n",
              "      </script>\n",
              "    </div>\n",
              "  </div>\n",
              "  "
            ]
          },
          "metadata": {},
          "execution_count": 4
        }
      ],
      "source": [
        "# head\n",
        "dataset.head(20)"
      ]
    },
    {
      "cell_type": "code",
      "execution_count": 5,
      "metadata": {
        "colab": {
          "base_uri": "https://localhost:8080/",
          "height": 344
        },
        "id": "M5pWpR2jzccO",
        "outputId": "b5953380-3b5e-4cce-a392-0cab5e0fc810"
      },
      "outputs": [
        {
          "output_type": "execute_result",
          "data": {
            "text/plain": [
              "             temp     np_conc   surf_conc    salinity   foam_qual  \\\n",
              "count  330.000000  330.000000  330.000000  330.000000  330.000000   \n",
              "mean    40.400000    0.496515    0.007264    3.284848   64.787879   \n",
              "std     10.621307    0.040079    0.006232    2.324198   13.575764   \n",
              "min     20.000000    0.050000    0.000000    0.000000   10.000000   \n",
              "25%     40.000000    0.500000    0.000000    0.000000   60.000000   \n",
              "50%     40.000000    0.500000    0.010000    5.000000   70.000000   \n",
              "75%     40.000000    0.500000    0.010000    5.000000   70.000000   \n",
              "max     72.000000    0.700000    0.030000   11.000000   90.000000   \n",
              "\n",
              "              shear     pressure     np_size     app_vis  \n",
              "count    330.000000   330.000000  330.000000  330.000000  \n",
              "mean    8867.554545  1310.666667   30.248485    4.596818  \n",
              "std     4763.579281   167.579345   25.309850    5.748778  \n",
              "min     1338.000000  1140.000000    7.000000    0.410000  \n",
              "25%     4343.000000  1140.000000    7.000000    1.097500  \n",
              "50%     8925.000000  1300.000000   17.500000    1.960000  \n",
              "75%    12708.250000  1550.000000   65.000000    5.182500  \n",
              "max    17850.000000  1550.000000   65.000000   34.540000  "
            ],
            "text/html": [
              "\n",
              "  <div id=\"df-3ca69fbf-1d42-489d-90ab-6e92f9e4260a\">\n",
              "    <div class=\"colab-df-container\">\n",
              "      <div>\n",
              "<style scoped>\n",
              "    .dataframe tbody tr th:only-of-type {\n",
              "        vertical-align: middle;\n",
              "    }\n",
              "\n",
              "    .dataframe tbody tr th {\n",
              "        vertical-align: top;\n",
              "    }\n",
              "\n",
              "    .dataframe thead th {\n",
              "        text-align: right;\n",
              "    }\n",
              "</style>\n",
              "<table border=\"1\" class=\"dataframe\">\n",
              "  <thead>\n",
              "    <tr style=\"text-align: right;\">\n",
              "      <th></th>\n",
              "      <th>temp</th>\n",
              "      <th>np_conc</th>\n",
              "      <th>surf_conc</th>\n",
              "      <th>salinity</th>\n",
              "      <th>foam_qual</th>\n",
              "      <th>shear</th>\n",
              "      <th>pressure</th>\n",
              "      <th>np_size</th>\n",
              "      <th>app_vis</th>\n",
              "    </tr>\n",
              "  </thead>\n",
              "  <tbody>\n",
              "    <tr>\n",
              "      <th>count</th>\n",
              "      <td>330.000000</td>\n",
              "      <td>330.000000</td>\n",
              "      <td>330.000000</td>\n",
              "      <td>330.000000</td>\n",
              "      <td>330.000000</td>\n",
              "      <td>330.000000</td>\n",
              "      <td>330.000000</td>\n",
              "      <td>330.000000</td>\n",
              "      <td>330.000000</td>\n",
              "    </tr>\n",
              "    <tr>\n",
              "      <th>mean</th>\n",
              "      <td>40.400000</td>\n",
              "      <td>0.496515</td>\n",
              "      <td>0.007264</td>\n",
              "      <td>3.284848</td>\n",
              "      <td>64.787879</td>\n",
              "      <td>8867.554545</td>\n",
              "      <td>1310.666667</td>\n",
              "      <td>30.248485</td>\n",
              "      <td>4.596818</td>\n",
              "    </tr>\n",
              "    <tr>\n",
              "      <th>std</th>\n",
              "      <td>10.621307</td>\n",
              "      <td>0.040079</td>\n",
              "      <td>0.006232</td>\n",
              "      <td>2.324198</td>\n",
              "      <td>13.575764</td>\n",
              "      <td>4763.579281</td>\n",
              "      <td>167.579345</td>\n",
              "      <td>25.309850</td>\n",
              "      <td>5.748778</td>\n",
              "    </tr>\n",
              "    <tr>\n",
              "      <th>min</th>\n",
              "      <td>20.000000</td>\n",
              "      <td>0.050000</td>\n",
              "      <td>0.000000</td>\n",
              "      <td>0.000000</td>\n",
              "      <td>10.000000</td>\n",
              "      <td>1338.000000</td>\n",
              "      <td>1140.000000</td>\n",
              "      <td>7.000000</td>\n",
              "      <td>0.410000</td>\n",
              "    </tr>\n",
              "    <tr>\n",
              "      <th>25%</th>\n",
              "      <td>40.000000</td>\n",
              "      <td>0.500000</td>\n",
              "      <td>0.000000</td>\n",
              "      <td>0.000000</td>\n",
              "      <td>60.000000</td>\n",
              "      <td>4343.000000</td>\n",
              "      <td>1140.000000</td>\n",
              "      <td>7.000000</td>\n",
              "      <td>1.097500</td>\n",
              "    </tr>\n",
              "    <tr>\n",
              "      <th>50%</th>\n",
              "      <td>40.000000</td>\n",
              "      <td>0.500000</td>\n",
              "      <td>0.010000</td>\n",
              "      <td>5.000000</td>\n",
              "      <td>70.000000</td>\n",
              "      <td>8925.000000</td>\n",
              "      <td>1300.000000</td>\n",
              "      <td>17.500000</td>\n",
              "      <td>1.960000</td>\n",
              "    </tr>\n",
              "    <tr>\n",
              "      <th>75%</th>\n",
              "      <td>40.000000</td>\n",
              "      <td>0.500000</td>\n",
              "      <td>0.010000</td>\n",
              "      <td>5.000000</td>\n",
              "      <td>70.000000</td>\n",
              "      <td>12708.250000</td>\n",
              "      <td>1550.000000</td>\n",
              "      <td>65.000000</td>\n",
              "      <td>5.182500</td>\n",
              "    </tr>\n",
              "    <tr>\n",
              "      <th>max</th>\n",
              "      <td>72.000000</td>\n",
              "      <td>0.700000</td>\n",
              "      <td>0.030000</td>\n",
              "      <td>11.000000</td>\n",
              "      <td>90.000000</td>\n",
              "      <td>17850.000000</td>\n",
              "      <td>1550.000000</td>\n",
              "      <td>65.000000</td>\n",
              "      <td>34.540000</td>\n",
              "    </tr>\n",
              "  </tbody>\n",
              "</table>\n",
              "</div>\n",
              "      <button class=\"colab-df-convert\" onclick=\"convertToInteractive('df-3ca69fbf-1d42-489d-90ab-6e92f9e4260a')\"\n",
              "              title=\"Convert this dataframe to an interactive table.\"\n",
              "              style=\"display:none;\">\n",
              "        \n",
              "  <svg xmlns=\"http://www.w3.org/2000/svg\" height=\"24px\"viewBox=\"0 0 24 24\"\n",
              "       width=\"24px\">\n",
              "    <path d=\"M0 0h24v24H0V0z\" fill=\"none\"/>\n",
              "    <path d=\"M18.56 5.44l.94 2.06.94-2.06 2.06-.94-2.06-.94-.94-2.06-.94 2.06-2.06.94zm-11 1L8.5 8.5l.94-2.06 2.06-.94-2.06-.94L8.5 2.5l-.94 2.06-2.06.94zm10 10l.94 2.06.94-2.06 2.06-.94-2.06-.94-.94-2.06-.94 2.06-2.06.94z\"/><path d=\"M17.41 7.96l-1.37-1.37c-.4-.4-.92-.59-1.43-.59-.52 0-1.04.2-1.43.59L10.3 9.45l-7.72 7.72c-.78.78-.78 2.05 0 2.83L4 21.41c.39.39.9.59 1.41.59.51 0 1.02-.2 1.41-.59l7.78-7.78 2.81-2.81c.8-.78.8-2.07 0-2.86zM5.41 20L4 18.59l7.72-7.72 1.47 1.35L5.41 20z\"/>\n",
              "  </svg>\n",
              "      </button>\n",
              "      \n",
              "  <style>\n",
              "    .colab-df-container {\n",
              "      display:flex;\n",
              "      flex-wrap:wrap;\n",
              "      gap: 12px;\n",
              "    }\n",
              "\n",
              "    .colab-df-convert {\n",
              "      background-color: #E8F0FE;\n",
              "      border: none;\n",
              "      border-radius: 50%;\n",
              "      cursor: pointer;\n",
              "      display: none;\n",
              "      fill: #1967D2;\n",
              "      height: 32px;\n",
              "      padding: 0 0 0 0;\n",
              "      width: 32px;\n",
              "    }\n",
              "\n",
              "    .colab-df-convert:hover {\n",
              "      background-color: #E2EBFA;\n",
              "      box-shadow: 0px 1px 2px rgba(60, 64, 67, 0.3), 0px 1px 3px 1px rgba(60, 64, 67, 0.15);\n",
              "      fill: #174EA6;\n",
              "    }\n",
              "\n",
              "    [theme=dark] .colab-df-convert {\n",
              "      background-color: #3B4455;\n",
              "      fill: #D2E3FC;\n",
              "    }\n",
              "\n",
              "    [theme=dark] .colab-df-convert:hover {\n",
              "      background-color: #434B5C;\n",
              "      box-shadow: 0px 1px 3px 1px rgba(0, 0, 0, 0.15);\n",
              "      filter: drop-shadow(0px 1px 2px rgba(0, 0, 0, 0.3));\n",
              "      fill: #FFFFFF;\n",
              "    }\n",
              "  </style>\n",
              "\n",
              "      <script>\n",
              "        const buttonEl =\n",
              "          document.querySelector('#df-3ca69fbf-1d42-489d-90ab-6e92f9e4260a button.colab-df-convert');\n",
              "        buttonEl.style.display =\n",
              "          google.colab.kernel.accessAllowed ? 'block' : 'none';\n",
              "\n",
              "        async function convertToInteractive(key) {\n",
              "          const element = document.querySelector('#df-3ca69fbf-1d42-489d-90ab-6e92f9e4260a');\n",
              "          const dataTable =\n",
              "            await google.colab.kernel.invokeFunction('convertToInteractive',\n",
              "                                                     [key], {});\n",
              "          if (!dataTable) return;\n",
              "\n",
              "          const docLinkHtml = 'Like what you see? Visit the ' +\n",
              "            '<a target=\"_blank\" href=https://colab.research.google.com/notebooks/data_table.ipynb>data table notebook</a>'\n",
              "            + ' to learn more about interactive tables.';\n",
              "          element.innerHTML = '';\n",
              "          dataTable['output_type'] = 'display_data';\n",
              "          await google.colab.output.renderOutput(dataTable, element);\n",
              "          const docLink = document.createElement('div');\n",
              "          docLink.innerHTML = docLinkHtml;\n",
              "          element.appendChild(docLink);\n",
              "        }\n",
              "      </script>\n",
              "    </div>\n",
              "  </div>\n",
              "  "
            ]
          },
          "metadata": {},
          "execution_count": 5
        }
      ],
      "source": [
        "dataset.describe()"
      ]
    },
    {
      "cell_type": "code",
      "execution_count": 6,
      "metadata": {
        "colab": {
          "base_uri": "https://localhost:8080/"
        },
        "id": "72opE12-mIf5",
        "outputId": "6a82f19a-25e3-4a3f-eb89-1e0e422022e8"
      },
      "outputs": [
        {
          "output_type": "execute_result",
          "data": {
            "text/plain": [
              "temp           int64\n",
              "np_conc      float64\n",
              "surf_conc    float64\n",
              "salinity     float64\n",
              "foam_qual    float64\n",
              "shear          int64\n",
              "pressure       int64\n",
              "np_size      float64\n",
              "app_vis      float64\n",
              "dtype: object"
            ]
          },
          "metadata": {},
          "execution_count": 6
        }
      ],
      "source": [
        "#types\n",
        "dataset.dtypes"
      ]
    },
    {
      "cell_type": "markdown",
      "metadata": {
        "id": "EQjuh5v75Zhc"
      },
      "source": [
        "# Preprocessing"
      ]
    },
    {
      "cell_type": "code",
      "execution_count": 8,
      "metadata": {
        "colab": {
          "base_uri": "https://localhost:8080/"
        },
        "id": "l9aX9yo_lIMP",
        "outputId": "37b649c9-8d67-47b7-89f2-3f512ba40b4f"
      },
      "outputs": [
        {
          "output_type": "execute_result",
          "data": {
            "text/plain": [
              "(329, 9)"
            ]
          },
          "metadata": {},
          "execution_count": 8
        }
      ],
      "source": [
        "dataset = dataset.drop_duplicates()\n",
        "dataset = dataset.dropna( how='all')\n",
        "dataset.shape"
      ]
    },
    {
      "cell_type": "markdown",
      "metadata": {
        "id": "hCK36nIcQanK"
      },
      "source": [
        "# Create Test Dataset -Stratify"
      ]
    },
    {
      "cell_type": "code",
      "execution_count": null,
      "metadata": {
        "colab": {
          "base_uri": "https://localhost:8080/"
        },
        "outputId": "7e7130d4-0dc5-431c-a538-eec54eeb8b68",
        "id": "O0eBrX6hQanL"
      },
      "outputs": [
        {
          "output_type": "execute_result",
          "data": {
            "text/plain": [
              "app_vis      1.000000\n",
              "shear        0.599003\n",
              "np_size      0.493524\n",
              "salinity     0.442316\n",
              "surf_conc    0.203663\n",
              "temp         0.168276\n",
              "np_conc      0.057044\n",
              "pressure     0.027271\n",
              "foam_qual    0.016153\n",
              "Name: app_vis, dtype: float64"
            ]
          },
          "metadata": {},
          "execution_count": 14
        }
      ],
      "source": [
        "# Find feature most correlated with the target variable\n",
        "corr_matrix = dataset.corr()\n",
        "abs(corr_matrix['app_vis']).sort_values(ascending=False)"
      ]
    },
    {
      "cell_type": "code",
      "execution_count": null,
      "metadata": {
        "id": "w1VnkllKQanQ"
      },
      "outputs": [],
      "source": [
        "# categorize values in the feature\n",
        "dataset['new_cat'] = pd.qcut(dataset[\"app_vis\"], 4, labels=[1, 2, 3,4])"
      ]
    },
    {
      "cell_type": "code",
      "execution_count": null,
      "metadata": {
        "colab": {
          "base_uri": "https://localhost:8080/",
          "height": 206
        },
        "outputId": "27b94a32-ae7c-4d25-a889-b8f975e9bc2e",
        "id": "NWjS0Z0SQanR"
      },
      "outputs": [
        {
          "output_type": "execute_result",
          "data": {
            "text/plain": [
              "   temp  np_conc  surf_conc  salinity  foam_qual  shear  pressure  np_size  \\\n",
              "0    40      0.5        0.0       0.0       80.0   6544      1140     17.5   \n",
              "1    40      0.5        0.0       0.0       80.0   9838      1140     17.5   \n",
              "2    40      0.5        0.0       0.0       80.0  13101      1140     17.5   \n",
              "3    40      0.5        0.0       0.0       80.0  16396      1140     17.5   \n",
              "4    40      0.5        0.0       0.0       70.0   6736      1140     17.5   \n",
              "\n",
              "   app_vis new_cat  \n",
              "0     0.57       1  \n",
              "1     0.51       1  \n",
              "2     0.47       1  \n",
              "3     0.44       1  \n",
              "4     0.60       1  "
            ],
            "text/html": [
              "\n",
              "  <div id=\"df-ea648115-1d88-43d3-bee7-2a97ca21f34b\">\n",
              "    <div class=\"colab-df-container\">\n",
              "      <div>\n",
              "<style scoped>\n",
              "    .dataframe tbody tr th:only-of-type {\n",
              "        vertical-align: middle;\n",
              "    }\n",
              "\n",
              "    .dataframe tbody tr th {\n",
              "        vertical-align: top;\n",
              "    }\n",
              "\n",
              "    .dataframe thead th {\n",
              "        text-align: right;\n",
              "    }\n",
              "</style>\n",
              "<table border=\"1\" class=\"dataframe\">\n",
              "  <thead>\n",
              "    <tr style=\"text-align: right;\">\n",
              "      <th></th>\n",
              "      <th>temp</th>\n",
              "      <th>np_conc</th>\n",
              "      <th>surf_conc</th>\n",
              "      <th>salinity</th>\n",
              "      <th>foam_qual</th>\n",
              "      <th>shear</th>\n",
              "      <th>pressure</th>\n",
              "      <th>np_size</th>\n",
              "      <th>app_vis</th>\n",
              "      <th>new_cat</th>\n",
              "    </tr>\n",
              "  </thead>\n",
              "  <tbody>\n",
              "    <tr>\n",
              "      <th>0</th>\n",
              "      <td>40</td>\n",
              "      <td>0.5</td>\n",
              "      <td>0.0</td>\n",
              "      <td>0.0</td>\n",
              "      <td>80.0</td>\n",
              "      <td>6544</td>\n",
              "      <td>1140</td>\n",
              "      <td>17.5</td>\n",
              "      <td>0.57</td>\n",
              "      <td>1</td>\n",
              "    </tr>\n",
              "    <tr>\n",
              "      <th>1</th>\n",
              "      <td>40</td>\n",
              "      <td>0.5</td>\n",
              "      <td>0.0</td>\n",
              "      <td>0.0</td>\n",
              "      <td>80.0</td>\n",
              "      <td>9838</td>\n",
              "      <td>1140</td>\n",
              "      <td>17.5</td>\n",
              "      <td>0.51</td>\n",
              "      <td>1</td>\n",
              "    </tr>\n",
              "    <tr>\n",
              "      <th>2</th>\n",
              "      <td>40</td>\n",
              "      <td>0.5</td>\n",
              "      <td>0.0</td>\n",
              "      <td>0.0</td>\n",
              "      <td>80.0</td>\n",
              "      <td>13101</td>\n",
              "      <td>1140</td>\n",
              "      <td>17.5</td>\n",
              "      <td>0.47</td>\n",
              "      <td>1</td>\n",
              "    </tr>\n",
              "    <tr>\n",
              "      <th>3</th>\n",
              "      <td>40</td>\n",
              "      <td>0.5</td>\n",
              "      <td>0.0</td>\n",
              "      <td>0.0</td>\n",
              "      <td>80.0</td>\n",
              "      <td>16396</td>\n",
              "      <td>1140</td>\n",
              "      <td>17.5</td>\n",
              "      <td>0.44</td>\n",
              "      <td>1</td>\n",
              "    </tr>\n",
              "    <tr>\n",
              "      <th>4</th>\n",
              "      <td>40</td>\n",
              "      <td>0.5</td>\n",
              "      <td>0.0</td>\n",
              "      <td>0.0</td>\n",
              "      <td>70.0</td>\n",
              "      <td>6736</td>\n",
              "      <td>1140</td>\n",
              "      <td>17.5</td>\n",
              "      <td>0.60</td>\n",
              "      <td>1</td>\n",
              "    </tr>\n",
              "  </tbody>\n",
              "</table>\n",
              "</div>\n",
              "      <button class=\"colab-df-convert\" onclick=\"convertToInteractive('df-ea648115-1d88-43d3-bee7-2a97ca21f34b')\"\n",
              "              title=\"Convert this dataframe to an interactive table.\"\n",
              "              style=\"display:none;\">\n",
              "        \n",
              "  <svg xmlns=\"http://www.w3.org/2000/svg\" height=\"24px\"viewBox=\"0 0 24 24\"\n",
              "       width=\"24px\">\n",
              "    <path d=\"M0 0h24v24H0V0z\" fill=\"none\"/>\n",
              "    <path d=\"M18.56 5.44l.94 2.06.94-2.06 2.06-.94-2.06-.94-.94-2.06-.94 2.06-2.06.94zm-11 1L8.5 8.5l.94-2.06 2.06-.94-2.06-.94L8.5 2.5l-.94 2.06-2.06.94zm10 10l.94 2.06.94-2.06 2.06-.94-2.06-.94-.94-2.06-.94 2.06-2.06.94z\"/><path d=\"M17.41 7.96l-1.37-1.37c-.4-.4-.92-.59-1.43-.59-.52 0-1.04.2-1.43.59L10.3 9.45l-7.72 7.72c-.78.78-.78 2.05 0 2.83L4 21.41c.39.39.9.59 1.41.59.51 0 1.02-.2 1.41-.59l7.78-7.78 2.81-2.81c.8-.78.8-2.07 0-2.86zM5.41 20L4 18.59l7.72-7.72 1.47 1.35L5.41 20z\"/>\n",
              "  </svg>\n",
              "      </button>\n",
              "      \n",
              "  <style>\n",
              "    .colab-df-container {\n",
              "      display:flex;\n",
              "      flex-wrap:wrap;\n",
              "      gap: 12px;\n",
              "    }\n",
              "\n",
              "    .colab-df-convert {\n",
              "      background-color: #E8F0FE;\n",
              "      border: none;\n",
              "      border-radius: 50%;\n",
              "      cursor: pointer;\n",
              "      display: none;\n",
              "      fill: #1967D2;\n",
              "      height: 32px;\n",
              "      padding: 0 0 0 0;\n",
              "      width: 32px;\n",
              "    }\n",
              "\n",
              "    .colab-df-convert:hover {\n",
              "      background-color: #E2EBFA;\n",
              "      box-shadow: 0px 1px 2px rgba(60, 64, 67, 0.3), 0px 1px 3px 1px rgba(60, 64, 67, 0.15);\n",
              "      fill: #174EA6;\n",
              "    }\n",
              "\n",
              "    [theme=dark] .colab-df-convert {\n",
              "      background-color: #3B4455;\n",
              "      fill: #D2E3FC;\n",
              "    }\n",
              "\n",
              "    [theme=dark] .colab-df-convert:hover {\n",
              "      background-color: #434B5C;\n",
              "      box-shadow: 0px 1px 3px 1px rgba(0, 0, 0, 0.15);\n",
              "      filter: drop-shadow(0px 1px 2px rgba(0, 0, 0, 0.3));\n",
              "      fill: #FFFFFF;\n",
              "    }\n",
              "  </style>\n",
              "\n",
              "      <script>\n",
              "        const buttonEl =\n",
              "          document.querySelector('#df-ea648115-1d88-43d3-bee7-2a97ca21f34b button.colab-df-convert');\n",
              "        buttonEl.style.display =\n",
              "          google.colab.kernel.accessAllowed ? 'block' : 'none';\n",
              "\n",
              "        async function convertToInteractive(key) {\n",
              "          const element = document.querySelector('#df-ea648115-1d88-43d3-bee7-2a97ca21f34b');\n",
              "          const dataTable =\n",
              "            await google.colab.kernel.invokeFunction('convertToInteractive',\n",
              "                                                     [key], {});\n",
              "          if (!dataTable) return;\n",
              "\n",
              "          const docLinkHtml = 'Like what you see? Visit the ' +\n",
              "            '<a target=\"_blank\" href=https://colab.research.google.com/notebooks/data_table.ipynb>data table notebook</a>'\n",
              "            + ' to learn more about interactive tables.';\n",
              "          element.innerHTML = '';\n",
              "          dataTable['output_type'] = 'display_data';\n",
              "          await google.colab.output.renderOutput(dataTable, element);\n",
              "          const docLink = document.createElement('div');\n",
              "          docLink.innerHTML = docLinkHtml;\n",
              "          element.appendChild(docLink);\n",
              "        }\n",
              "      </script>\n",
              "    </div>\n",
              "  </div>\n",
              "  "
            ]
          },
          "metadata": {},
          "execution_count": 16
        }
      ],
      "source": [
        "dataset.head()"
      ]
    },
    {
      "cell_type": "code",
      "execution_count": null,
      "metadata": {
        "id": "2XFYSLzyQanR"
      },
      "outputs": [],
      "source": [
        "train_full, test_full = train_test_split(dataset, test_size=.2, random_state=42, stratify=dataset['new_cat'])"
      ]
    },
    {
      "cell_type": "code",
      "execution_count": null,
      "metadata": {
        "colab": {
          "base_uri": "https://localhost:8080/"
        },
        "outputId": "e783c244-44e0-4d4e-b77a-fabb46d17ade",
        "id": "ENQK42oXQanS"
      },
      "outputs": [
        {
          "output_type": "execute_result",
          "data": {
            "text/plain": [
              "1    0.25228\n",
              "2    0.24924\n",
              "3    0.24924\n",
              "4    0.24924\n",
              "Name: new_cat, dtype: float64"
            ]
          },
          "metadata": {},
          "execution_count": 18
        }
      ],
      "source": [
        "dataset['new_cat'].value_counts() / len(dataset)"
      ]
    },
    {
      "cell_type": "code",
      "execution_count": null,
      "metadata": {
        "colab": {
          "base_uri": "https://localhost:8080/"
        },
        "outputId": "3e8b2f8f-f15c-4199-8d0f-c010ff00c613",
        "id": "N8SaisF6QanS"
      },
      "outputs": [
        {
          "output_type": "execute_result",
          "data": {
            "text/plain": [
              "1    0.257576\n",
              "4    0.257576\n",
              "2    0.242424\n",
              "3    0.242424\n",
              "Name: new_cat, dtype: float64"
            ]
          },
          "metadata": {},
          "execution_count": 19
        }
      ],
      "source": [
        "test_full['new_cat'].value_counts() / len(test_full)"
      ]
    },
    {
      "cell_type": "code",
      "execution_count": null,
      "metadata": {
        "colab": {
          "base_uri": "https://localhost:8080/",
          "height": 300
        },
        "outputId": "81c4ebbb-b213-426e-85ca-aac1d3a24aa3",
        "id": "pzAUaPEUQanT"
      },
      "outputs": [
        {
          "output_type": "execute_result",
          "data": {
            "text/plain": [
              "             temp     np_conc   surf_conc    salinity   foam_qual  \\\n",
              "count  263.000000  263.000000  263.000000  263.000000  263.000000   \n",
              "mean    40.057034    0.497148    0.007285    3.129278   64.638783   \n",
              "std     10.315656    0.037598    0.006245    2.358681   13.833895   \n",
              "min     20.000000    0.050000    0.000000    0.000000   10.000000   \n",
              "25%     40.000000    0.500000    0.000000    0.000000   60.000000   \n",
              "50%     40.000000    0.500000    0.010000    5.000000   70.000000   \n",
              "75%     40.000000    0.500000    0.010000    5.000000   70.000000   \n",
              "max     71.000000    0.700000    0.030000   11.000000   90.000000   \n",
              "\n",
              "              shear     pressure     np_size     app_vis  \n",
              "count    263.000000   263.000000  263.000000  263.000000  \n",
              "mean    8990.684411  1313.384030   31.283270    4.528175  \n",
              "std     4750.596018   170.200692   25.543194    5.670415  \n",
              "min     1338.000000  1140.000000    7.000000    0.410000  \n",
              "25%     4343.000000  1140.000000    7.000000    1.105000  \n",
              "50%     8925.000000  1300.000000   17.500000    1.940000  \n",
              "75%    12687.500000  1550.000000   65.000000    5.050000  \n",
              "max    17850.000000  1550.000000   65.000000   34.540000  "
            ],
            "text/html": [
              "\n",
              "  <div id=\"df-2e2a2e7a-6833-4dd2-85c5-1a3b34ee9593\">\n",
              "    <div class=\"colab-df-container\">\n",
              "      <div>\n",
              "<style scoped>\n",
              "    .dataframe tbody tr th:only-of-type {\n",
              "        vertical-align: middle;\n",
              "    }\n",
              "\n",
              "    .dataframe tbody tr th {\n",
              "        vertical-align: top;\n",
              "    }\n",
              "\n",
              "    .dataframe thead th {\n",
              "        text-align: right;\n",
              "    }\n",
              "</style>\n",
              "<table border=\"1\" class=\"dataframe\">\n",
              "  <thead>\n",
              "    <tr style=\"text-align: right;\">\n",
              "      <th></th>\n",
              "      <th>temp</th>\n",
              "      <th>np_conc</th>\n",
              "      <th>surf_conc</th>\n",
              "      <th>salinity</th>\n",
              "      <th>foam_qual</th>\n",
              "      <th>shear</th>\n",
              "      <th>pressure</th>\n",
              "      <th>np_size</th>\n",
              "      <th>app_vis</th>\n",
              "    </tr>\n",
              "  </thead>\n",
              "  <tbody>\n",
              "    <tr>\n",
              "      <th>count</th>\n",
              "      <td>263.000000</td>\n",
              "      <td>263.000000</td>\n",
              "      <td>263.000000</td>\n",
              "      <td>263.000000</td>\n",
              "      <td>263.000000</td>\n",
              "      <td>263.000000</td>\n",
              "      <td>263.000000</td>\n",
              "      <td>263.000000</td>\n",
              "      <td>263.000000</td>\n",
              "    </tr>\n",
              "    <tr>\n",
              "      <th>mean</th>\n",
              "      <td>40.057034</td>\n",
              "      <td>0.497148</td>\n",
              "      <td>0.007285</td>\n",
              "      <td>3.129278</td>\n",
              "      <td>64.638783</td>\n",
              "      <td>8990.684411</td>\n",
              "      <td>1313.384030</td>\n",
              "      <td>31.283270</td>\n",
              "      <td>4.528175</td>\n",
              "    </tr>\n",
              "    <tr>\n",
              "      <th>std</th>\n",
              "      <td>10.315656</td>\n",
              "      <td>0.037598</td>\n",
              "      <td>0.006245</td>\n",
              "      <td>2.358681</td>\n",
              "      <td>13.833895</td>\n",
              "      <td>4750.596018</td>\n",
              "      <td>170.200692</td>\n",
              "      <td>25.543194</td>\n",
              "      <td>5.670415</td>\n",
              "    </tr>\n",
              "    <tr>\n",
              "      <th>min</th>\n",
              "      <td>20.000000</td>\n",
              "      <td>0.050000</td>\n",
              "      <td>0.000000</td>\n",
              "      <td>0.000000</td>\n",
              "      <td>10.000000</td>\n",
              "      <td>1338.000000</td>\n",
              "      <td>1140.000000</td>\n",
              "      <td>7.000000</td>\n",
              "      <td>0.410000</td>\n",
              "    </tr>\n",
              "    <tr>\n",
              "      <th>25%</th>\n",
              "      <td>40.000000</td>\n",
              "      <td>0.500000</td>\n",
              "      <td>0.000000</td>\n",
              "      <td>0.000000</td>\n",
              "      <td>60.000000</td>\n",
              "      <td>4343.000000</td>\n",
              "      <td>1140.000000</td>\n",
              "      <td>7.000000</td>\n",
              "      <td>1.105000</td>\n",
              "    </tr>\n",
              "    <tr>\n",
              "      <th>50%</th>\n",
              "      <td>40.000000</td>\n",
              "      <td>0.500000</td>\n",
              "      <td>0.010000</td>\n",
              "      <td>5.000000</td>\n",
              "      <td>70.000000</td>\n",
              "      <td>8925.000000</td>\n",
              "      <td>1300.000000</td>\n",
              "      <td>17.500000</td>\n",
              "      <td>1.940000</td>\n",
              "    </tr>\n",
              "    <tr>\n",
              "      <th>75%</th>\n",
              "      <td>40.000000</td>\n",
              "      <td>0.500000</td>\n",
              "      <td>0.010000</td>\n",
              "      <td>5.000000</td>\n",
              "      <td>70.000000</td>\n",
              "      <td>12687.500000</td>\n",
              "      <td>1550.000000</td>\n",
              "      <td>65.000000</td>\n",
              "      <td>5.050000</td>\n",
              "    </tr>\n",
              "    <tr>\n",
              "      <th>max</th>\n",
              "      <td>71.000000</td>\n",
              "      <td>0.700000</td>\n",
              "      <td>0.030000</td>\n",
              "      <td>11.000000</td>\n",
              "      <td>90.000000</td>\n",
              "      <td>17850.000000</td>\n",
              "      <td>1550.000000</td>\n",
              "      <td>65.000000</td>\n",
              "      <td>34.540000</td>\n",
              "    </tr>\n",
              "  </tbody>\n",
              "</table>\n",
              "</div>\n",
              "      <button class=\"colab-df-convert\" onclick=\"convertToInteractive('df-2e2a2e7a-6833-4dd2-85c5-1a3b34ee9593')\"\n",
              "              title=\"Convert this dataframe to an interactive table.\"\n",
              "              style=\"display:none;\">\n",
              "        \n",
              "  <svg xmlns=\"http://www.w3.org/2000/svg\" height=\"24px\"viewBox=\"0 0 24 24\"\n",
              "       width=\"24px\">\n",
              "    <path d=\"M0 0h24v24H0V0z\" fill=\"none\"/>\n",
              "    <path d=\"M18.56 5.44l.94 2.06.94-2.06 2.06-.94-2.06-.94-.94-2.06-.94 2.06-2.06.94zm-11 1L8.5 8.5l.94-2.06 2.06-.94-2.06-.94L8.5 2.5l-.94 2.06-2.06.94zm10 10l.94 2.06.94-2.06 2.06-.94-2.06-.94-.94-2.06-.94 2.06-2.06.94z\"/><path d=\"M17.41 7.96l-1.37-1.37c-.4-.4-.92-.59-1.43-.59-.52 0-1.04.2-1.43.59L10.3 9.45l-7.72 7.72c-.78.78-.78 2.05 0 2.83L4 21.41c.39.39.9.59 1.41.59.51 0 1.02-.2 1.41-.59l7.78-7.78 2.81-2.81c.8-.78.8-2.07 0-2.86zM5.41 20L4 18.59l7.72-7.72 1.47 1.35L5.41 20z\"/>\n",
              "  </svg>\n",
              "      </button>\n",
              "      \n",
              "  <style>\n",
              "    .colab-df-container {\n",
              "      display:flex;\n",
              "      flex-wrap:wrap;\n",
              "      gap: 12px;\n",
              "    }\n",
              "\n",
              "    .colab-df-convert {\n",
              "      background-color: #E8F0FE;\n",
              "      border: none;\n",
              "      border-radius: 50%;\n",
              "      cursor: pointer;\n",
              "      display: none;\n",
              "      fill: #1967D2;\n",
              "      height: 32px;\n",
              "      padding: 0 0 0 0;\n",
              "      width: 32px;\n",
              "    }\n",
              "\n",
              "    .colab-df-convert:hover {\n",
              "      background-color: #E2EBFA;\n",
              "      box-shadow: 0px 1px 2px rgba(60, 64, 67, 0.3), 0px 1px 3px 1px rgba(60, 64, 67, 0.15);\n",
              "      fill: #174EA6;\n",
              "    }\n",
              "\n",
              "    [theme=dark] .colab-df-convert {\n",
              "      background-color: #3B4455;\n",
              "      fill: #D2E3FC;\n",
              "    }\n",
              "\n",
              "    [theme=dark] .colab-df-convert:hover {\n",
              "      background-color: #434B5C;\n",
              "      box-shadow: 0px 1px 3px 1px rgba(0, 0, 0, 0.15);\n",
              "      filter: drop-shadow(0px 1px 2px rgba(0, 0, 0, 0.3));\n",
              "      fill: #FFFFFF;\n",
              "    }\n",
              "  </style>\n",
              "\n",
              "      <script>\n",
              "        const buttonEl =\n",
              "          document.querySelector('#df-2e2a2e7a-6833-4dd2-85c5-1a3b34ee9593 button.colab-df-convert');\n",
              "        buttonEl.style.display =\n",
              "          google.colab.kernel.accessAllowed ? 'block' : 'none';\n",
              "\n",
              "        async function convertToInteractive(key) {\n",
              "          const element = document.querySelector('#df-2e2a2e7a-6833-4dd2-85c5-1a3b34ee9593');\n",
              "          const dataTable =\n",
              "            await google.colab.kernel.invokeFunction('convertToInteractive',\n",
              "                                                     [key], {});\n",
              "          if (!dataTable) return;\n",
              "\n",
              "          const docLinkHtml = 'Like what you see? Visit the ' +\n",
              "            '<a target=\"_blank\" href=https://colab.research.google.com/notebooks/data_table.ipynb>data table notebook</a>'\n",
              "            + ' to learn more about interactive tables.';\n",
              "          element.innerHTML = '';\n",
              "          dataTable['output_type'] = 'display_data';\n",
              "          await google.colab.output.renderOutput(dataTable, element);\n",
              "          const docLink = document.createElement('div');\n",
              "          docLink.innerHTML = docLinkHtml;\n",
              "          element.appendChild(docLink);\n",
              "        }\n",
              "      </script>\n",
              "    </div>\n",
              "  </div>\n",
              "  "
            ]
          },
          "metadata": {},
          "execution_count": 20
        }
      ],
      "source": [
        "train_full.describe()"
      ]
    },
    {
      "cell_type": "code",
      "execution_count": null,
      "metadata": {
        "colab": {
          "base_uri": "https://localhost:8080/",
          "height": 300
        },
        "outputId": "7a1f4f46-000a-4bf2-e1cd-83bd16cb0e78",
        "id": "yQmdNwr5QanT"
      },
      "outputs": [
        {
          "output_type": "execute_result",
          "data": {
            "text/plain": [
              "            temp    np_conc  surf_conc   salinity  foam_qual         shear  \\\n",
              "count  66.000000  66.000000  66.000000  66.000000  66.000000     66.000000   \n",
              "mean   42.075758   0.493939   0.007288   3.878788  66.212121   8467.393939   \n",
              "std    11.504261   0.049237   0.006209   2.101393  10.635955   4807.813202   \n",
              "min    20.000000   0.100000   0.000000   0.000000  50.000000   1447.000000   \n",
              "25%    40.000000   0.500000   0.000000   2.000000  60.000000   4343.000000   \n",
              "50%    40.000000   0.500000   0.010000   5.000000  70.000000   6685.500000   \n",
              "75%    43.000000   0.500000   0.010000   5.000000  70.000000  13031.000000   \n",
              "max    72.000000   0.500000   0.020000   9.000000  90.000000  17850.000000   \n",
              "\n",
              "          pressure    np_size    app_vis  \n",
              "count    66.000000  66.000000  66.000000  \n",
              "mean   1300.000000  26.477273   4.816515  \n",
              "std     158.841963  24.194633   6.116366  \n",
              "min    1140.000000   7.000000   0.460000  \n",
              "25%    1140.000000   7.000000   1.030000  \n",
              "50%    1300.000000  17.500000   1.975000  \n",
              "75%    1300.000000  65.000000   5.182500  \n",
              "max    1550.000000  65.000000  30.980000  "
            ],
            "text/html": [
              "\n",
              "  <div id=\"df-8172c0cf-eddd-4e49-a09d-6401e9af4908\">\n",
              "    <div class=\"colab-df-container\">\n",
              "      <div>\n",
              "<style scoped>\n",
              "    .dataframe tbody tr th:only-of-type {\n",
              "        vertical-align: middle;\n",
              "    }\n",
              "\n",
              "    .dataframe tbody tr th {\n",
              "        vertical-align: top;\n",
              "    }\n",
              "\n",
              "    .dataframe thead th {\n",
              "        text-align: right;\n",
              "    }\n",
              "</style>\n",
              "<table border=\"1\" class=\"dataframe\">\n",
              "  <thead>\n",
              "    <tr style=\"text-align: right;\">\n",
              "      <th></th>\n",
              "      <th>temp</th>\n",
              "      <th>np_conc</th>\n",
              "      <th>surf_conc</th>\n",
              "      <th>salinity</th>\n",
              "      <th>foam_qual</th>\n",
              "      <th>shear</th>\n",
              "      <th>pressure</th>\n",
              "      <th>np_size</th>\n",
              "      <th>app_vis</th>\n",
              "    </tr>\n",
              "  </thead>\n",
              "  <tbody>\n",
              "    <tr>\n",
              "      <th>count</th>\n",
              "      <td>66.000000</td>\n",
              "      <td>66.000000</td>\n",
              "      <td>66.000000</td>\n",
              "      <td>66.000000</td>\n",
              "      <td>66.000000</td>\n",
              "      <td>66.000000</td>\n",
              "      <td>66.000000</td>\n",
              "      <td>66.000000</td>\n",
              "      <td>66.000000</td>\n",
              "    </tr>\n",
              "    <tr>\n",
              "      <th>mean</th>\n",
              "      <td>42.075758</td>\n",
              "      <td>0.493939</td>\n",
              "      <td>0.007288</td>\n",
              "      <td>3.878788</td>\n",
              "      <td>66.212121</td>\n",
              "      <td>8467.393939</td>\n",
              "      <td>1300.000000</td>\n",
              "      <td>26.477273</td>\n",
              "      <td>4.816515</td>\n",
              "    </tr>\n",
              "    <tr>\n",
              "      <th>std</th>\n",
              "      <td>11.504261</td>\n",
              "      <td>0.049237</td>\n",
              "      <td>0.006209</td>\n",
              "      <td>2.101393</td>\n",
              "      <td>10.635955</td>\n",
              "      <td>4807.813202</td>\n",
              "      <td>158.841963</td>\n",
              "      <td>24.194633</td>\n",
              "      <td>6.116366</td>\n",
              "    </tr>\n",
              "    <tr>\n",
              "      <th>min</th>\n",
              "      <td>20.000000</td>\n",
              "      <td>0.100000</td>\n",
              "      <td>0.000000</td>\n",
              "      <td>0.000000</td>\n",
              "      <td>50.000000</td>\n",
              "      <td>1447.000000</td>\n",
              "      <td>1140.000000</td>\n",
              "      <td>7.000000</td>\n",
              "      <td>0.460000</td>\n",
              "    </tr>\n",
              "    <tr>\n",
              "      <th>25%</th>\n",
              "      <td>40.000000</td>\n",
              "      <td>0.500000</td>\n",
              "      <td>0.000000</td>\n",
              "      <td>2.000000</td>\n",
              "      <td>60.000000</td>\n",
              "      <td>4343.000000</td>\n",
              "      <td>1140.000000</td>\n",
              "      <td>7.000000</td>\n",
              "      <td>1.030000</td>\n",
              "    </tr>\n",
              "    <tr>\n",
              "      <th>50%</th>\n",
              "      <td>40.000000</td>\n",
              "      <td>0.500000</td>\n",
              "      <td>0.010000</td>\n",
              "      <td>5.000000</td>\n",
              "      <td>70.000000</td>\n",
              "      <td>6685.500000</td>\n",
              "      <td>1300.000000</td>\n",
              "      <td>17.500000</td>\n",
              "      <td>1.975000</td>\n",
              "    </tr>\n",
              "    <tr>\n",
              "      <th>75%</th>\n",
              "      <td>43.000000</td>\n",
              "      <td>0.500000</td>\n",
              "      <td>0.010000</td>\n",
              "      <td>5.000000</td>\n",
              "      <td>70.000000</td>\n",
              "      <td>13031.000000</td>\n",
              "      <td>1300.000000</td>\n",
              "      <td>65.000000</td>\n",
              "      <td>5.182500</td>\n",
              "    </tr>\n",
              "    <tr>\n",
              "      <th>max</th>\n",
              "      <td>72.000000</td>\n",
              "      <td>0.500000</td>\n",
              "      <td>0.020000</td>\n",
              "      <td>9.000000</td>\n",
              "      <td>90.000000</td>\n",
              "      <td>17850.000000</td>\n",
              "      <td>1550.000000</td>\n",
              "      <td>65.000000</td>\n",
              "      <td>30.980000</td>\n",
              "    </tr>\n",
              "  </tbody>\n",
              "</table>\n",
              "</div>\n",
              "      <button class=\"colab-df-convert\" onclick=\"convertToInteractive('df-8172c0cf-eddd-4e49-a09d-6401e9af4908')\"\n",
              "              title=\"Convert this dataframe to an interactive table.\"\n",
              "              style=\"display:none;\">\n",
              "        \n",
              "  <svg xmlns=\"http://www.w3.org/2000/svg\" height=\"24px\"viewBox=\"0 0 24 24\"\n",
              "       width=\"24px\">\n",
              "    <path d=\"M0 0h24v24H0V0z\" fill=\"none\"/>\n",
              "    <path d=\"M18.56 5.44l.94 2.06.94-2.06 2.06-.94-2.06-.94-.94-2.06-.94 2.06-2.06.94zm-11 1L8.5 8.5l.94-2.06 2.06-.94-2.06-.94L8.5 2.5l-.94 2.06-2.06.94zm10 10l.94 2.06.94-2.06 2.06-.94-2.06-.94-.94-2.06-.94 2.06-2.06.94z\"/><path d=\"M17.41 7.96l-1.37-1.37c-.4-.4-.92-.59-1.43-.59-.52 0-1.04.2-1.43.59L10.3 9.45l-7.72 7.72c-.78.78-.78 2.05 0 2.83L4 21.41c.39.39.9.59 1.41.59.51 0 1.02-.2 1.41-.59l7.78-7.78 2.81-2.81c.8-.78.8-2.07 0-2.86zM5.41 20L4 18.59l7.72-7.72 1.47 1.35L5.41 20z\"/>\n",
              "  </svg>\n",
              "      </button>\n",
              "      \n",
              "  <style>\n",
              "    .colab-df-container {\n",
              "      display:flex;\n",
              "      flex-wrap:wrap;\n",
              "      gap: 12px;\n",
              "    }\n",
              "\n",
              "    .colab-df-convert {\n",
              "      background-color: #E8F0FE;\n",
              "      border: none;\n",
              "      border-radius: 50%;\n",
              "      cursor: pointer;\n",
              "      display: none;\n",
              "      fill: #1967D2;\n",
              "      height: 32px;\n",
              "      padding: 0 0 0 0;\n",
              "      width: 32px;\n",
              "    }\n",
              "\n",
              "    .colab-df-convert:hover {\n",
              "      background-color: #E2EBFA;\n",
              "      box-shadow: 0px 1px 2px rgba(60, 64, 67, 0.3), 0px 1px 3px 1px rgba(60, 64, 67, 0.15);\n",
              "      fill: #174EA6;\n",
              "    }\n",
              "\n",
              "    [theme=dark] .colab-df-convert {\n",
              "      background-color: #3B4455;\n",
              "      fill: #D2E3FC;\n",
              "    }\n",
              "\n",
              "    [theme=dark] .colab-df-convert:hover {\n",
              "      background-color: #434B5C;\n",
              "      box-shadow: 0px 1px 3px 1px rgba(0, 0, 0, 0.15);\n",
              "      filter: drop-shadow(0px 1px 2px rgba(0, 0, 0, 0.3));\n",
              "      fill: #FFFFFF;\n",
              "    }\n",
              "  </style>\n",
              "\n",
              "      <script>\n",
              "        const buttonEl =\n",
              "          document.querySelector('#df-8172c0cf-eddd-4e49-a09d-6401e9af4908 button.colab-df-convert');\n",
              "        buttonEl.style.display =\n",
              "          google.colab.kernel.accessAllowed ? 'block' : 'none';\n",
              "\n",
              "        async function convertToInteractive(key) {\n",
              "          const element = document.querySelector('#df-8172c0cf-eddd-4e49-a09d-6401e9af4908');\n",
              "          const dataTable =\n",
              "            await google.colab.kernel.invokeFunction('convertToInteractive',\n",
              "                                                     [key], {});\n",
              "          if (!dataTable) return;\n",
              "\n",
              "          const docLinkHtml = 'Like what you see? Visit the ' +\n",
              "            '<a target=\"_blank\" href=https://colab.research.google.com/notebooks/data_table.ipynb>data table notebook</a>'\n",
              "            + ' to learn more about interactive tables.';\n",
              "          element.innerHTML = '';\n",
              "          dataTable['output_type'] = 'display_data';\n",
              "          await google.colab.output.renderOutput(dataTable, element);\n",
              "          const docLink = document.createElement('div');\n",
              "          docLink.innerHTML = docLinkHtml;\n",
              "          element.appendChild(docLink);\n",
              "        }\n",
              "      </script>\n",
              "    </div>\n",
              "  </div>\n",
              "  "
            ]
          },
          "metadata": {},
          "execution_count": 21
        }
      ],
      "source": [
        "test_full.describe()"
      ]
    },
    {
      "cell_type": "code",
      "execution_count": null,
      "metadata": {
        "id": "uoXDN314QanU"
      },
      "outputs": [],
      "source": [
        "# Seperate output and input variables\n",
        "drop_list = [\"new_cat\", \"app_vis\"]\n",
        "train_X, test_X, y_train, y_test = train_full.drop(drop_list, axis=1), test_full.drop(drop_list, axis=1),train_full[\"app_vis\"], test_full[\"app_vis\"]"
      ]
    },
    {
      "cell_type": "code",
      "execution_count": null,
      "metadata": {
        "id": "txyi2mfMQanU"
      },
      "outputs": [],
      "source": [
        "y_test_shap = y_test\n",
        "y_train_shap = y_train"
      ]
    },
    {
      "cell_type": "code",
      "source": [
        "train_full.drop(\"new_cat\", axis = 1, inplace = True)\n",
        "test_full.drop(\"new_cat\", axis = 1, inplace = True)"
      ],
      "metadata": {
        "id": "RKdKZmiBQanV"
      },
      "execution_count": null,
      "outputs": []
    },
    {
      "cell_type": "markdown",
      "metadata": {
        "id": "fGq_Ua5pORlZ"
      },
      "source": [
        "# Transform\n"
      ]
    },
    {
      "cell_type": "code",
      "execution_count": 25,
      "metadata": {
        "id": "cP5J0jKTi1oQ"
      },
      "outputs": [],
      "source": [
        "scaler = StandardScaler()\n",
        "\n",
        "\n",
        "X_train = scaler.fit_transform(train_X)\n",
        "X_test = scaler.transform(test_X)\n"
      ]
    },
    {
      "cell_type": "code",
      "execution_count": 26,
      "metadata": {
        "id": "v3K-jKca1SHz"
      },
      "outputs": [],
      "source": [
        "y_train= y_train.values.ravel()\n",
        "y_test = y_test.values.ravel()"
      ]
    },
    {
      "cell_type": "markdown",
      "metadata": {
        "id": "dMtLwKrQD9m1"
      },
      "source": [
        "# Define Utilities"
      ]
    },
    {
      "cell_type": "code",
      "execution_count": 27,
      "metadata": {
        "id": "hbDwWnpgx-5Z"
      },
      "outputs": [],
      "source": [
        "# Create function to evaluate model\n",
        "\n",
        "def evaluate_model(model, X, y, scoring, cv):\n",
        "  # evaluate the model with cross-validation and mean squareed error\n",
        "  scores = cross_val_score(estimator=model, X=X, y=y, \n",
        "                           scoring= scoring, cv=cv,\n",
        "                           n_jobs = -1)\n",
        "  # Force positive output\n",
        "  scores = np.abs(scores)\n",
        "  # Output the result\n",
        "  print(\"RMSE: \", scores.mean(), \"(\", scores.std(), \")\")"
      ]
    },
    {
      "cell_type": "code",
      "execution_count": 28,
      "metadata": {
        "id": "pUbYKnG_qBSG"
      },
      "outputs": [],
      "source": [
        "# Test options and evaluation metric\n",
        "num_folds = 10\n",
        "seed = 42\n",
        "scoring = 'neg_root_mean_squared_error'\n",
        "cv = RepeatedKFold(n_splits=num_folds, random_state=seed)\n",
        "\n"
      ]
    },
    {
      "cell_type": "markdown",
      "metadata": {
        "id": "rQKZlVxa4U1e"
      },
      "source": [
        "# KNN"
      ]
    },
    {
      "cell_type": "code",
      "execution_count": 29,
      "metadata": {
        "colab": {
          "base_uri": "https://localhost:8080/"
        },
        "id": "rj3Q7EGp4U18",
        "outputId": "306b9c55-0f69-4b63-f5bf-988456365e68"
      },
      "outputs": [
        {
          "output_type": "stream",
          "name": "stdout",
          "text": [
            "RMSE:  1.4074618951701956 ( 1.013576855282395 )\n"
          ]
        }
      ],
      "source": [
        "# define the base model\n",
        "model = KNeighborsRegressor()\n",
        "\n",
        "# evaluate model\n",
        "evaluate_model(model, X_train, y_train,scoring, cv) "
      ]
    },
    {
      "cell_type": "markdown",
      "metadata": {
        "id": "USGisOI24U1-"
      },
      "source": [
        "## Fine-tune Algorithm"
      ]
    },
    {
      "cell_type": "code",
      "execution_count": 30,
      "metadata": {
        "colab": {
          "base_uri": "https://localhost:8080/"
        },
        "id": "0JQ-uKDD4U1-",
        "outputId": "3ffcf355-2b69-4684-dd0f-d174837c6551"
      },
      "outputs": [
        {
          "output_type": "stream",
          "name": "stdout",
          "text": [
            "Fitting 100 folds for each of 10 candidates, totalling 1000 fits\n"
          ]
        },
        {
          "output_type": "execute_result",
          "data": {
            "text/plain": [
              "{'leaf_size': 62, 'n_neighbors': 4, 'p': 2}"
            ]
          },
          "metadata": {},
          "execution_count": 30
        }
      ],
      "source": [
        "# define the base model\n",
        "model = KNeighborsRegressor() \n",
        "\n",
        "param_dist = {\n",
        "    'n_neighbors' : randint(3, 10),\n",
        "    # 'algorithm' : ['auto', 'ball_tree', 'kd_tree', 'brute'],\n",
        "    'leaf_size' : randint(10, 100),\n",
        "    'p': [1,2]\n",
        "\n",
        "    }\n",
        "\n",
        "rnd_search = RandomizedSearchCV(estimator= model, param_distributions=param_dist,cv=cv,\n",
        "                           scoring=scoring, return_train_score=True, random_state = seed,\n",
        "                           verbose =2, n_jobs=-1,)\n",
        "rnd_search.fit(X_train, y_train)\n",
        "\n",
        "rnd_search.best_params_"
      ]
    },
    {
      "cell_type": "code",
      "execution_count": 31,
      "metadata": {
        "colab": {
          "base_uri": "https://localhost:8080/"
        },
        "id": "iOnqwDC14U1_",
        "outputId": "6c536147-85b9-48c1-ed23-41b3a04464d1"
      },
      "outputs": [
        {
          "output_type": "stream",
          "name": "stdout",
          "text": [
            "RMSE:  1.254995237196403 ( 1.040691886779007 )\n"
          ]
        }
      ],
      "source": [
        "# Define base model\n",
        "model_KNN =rnd_search.best_estimator_\n",
        "\n",
        "# evaluate model\n",
        "evaluate_model(model_KNN,X_train, y_train, scoring,cv)"
      ]
    },
    {
      "cell_type": "code",
      "execution_count": 32,
      "metadata": {
        "id": "kX3Gve9Sm2R4"
      },
      "outputs": [],
      "source": [
        "# Fit the model on the training set\n",
        "\n",
        "fitted_KNN = model_KNN.fit(X_train, y_train)"
      ]
    },
    {
      "cell_type": "code",
      "execution_count": 33,
      "metadata": {
        "id": "pLUA0YomzudV"
      },
      "outputs": [],
      "source": [
        "KNN_pred_train = fitted_KNN.predict(X_train)\n",
        "KNN_pred = fitted_KNN.predict(X_test)\n",
        "KNN_pred_full = fitted_KNN.predict(X_test)"
      ]
    },
    {
      "cell_type": "code",
      "execution_count": 34,
      "metadata": {
        "colab": {
          "base_uri": "https://localhost:8080/"
        },
        "id": "5a06rhy-Bkpk",
        "outputId": "be8ee051-a703-473f-8c50-777294f34925"
      },
      "outputs": [
        {
          "output_type": "stream",
          "name": "stdout",
          "text": [
            "RMSE:  2.942472436303932 ( 2.212667298352544 )\n"
          ]
        }
      ],
      "source": [
        "# evaluate model\n",
        "evaluate_model(model_KNN,X_test, y_test, scoring,cv)"
      ]
    },
    {
      "cell_type": "markdown",
      "metadata": {
        "id": "blF7NFJEz7ok"
      },
      "source": [
        "## Plot Predicted vs Measured"
      ]
    },
    {
      "cell_type": "code",
      "execution_count": 35,
      "metadata": {
        "colab": {
          "base_uri": "https://localhost:8080/",
          "height": 404
        },
        "id": "o58xio24p7W_",
        "outputId": "7305ab1b-2fa1-4f11-c52d-bd906608463a"
      },
      "outputs": [
        {
          "output_type": "display_data",
          "data": {
            "text/plain": [
              "<Figure size 720x432 with 1 Axes>"
            ],
            "image/png": "[encoded data removed]"
          },
          "metadata": {
            "needs_background": "light"
          }
        }
      ],
      "source": [
        "# Plot predicted vs Measured for Apparent Viscosity\n",
        "predicted = KNN_pred_train\n",
        "predicted2 = KNN_pred\n",
        "\n",
        "fig, ax = plt.subplots(figsize=(10,6))\n",
        "ax.scatter(y_test, predicted2 , c='blue', marker = \"^\", s = 40, label ='test data ')\n",
        "ax.scatter(y_train, predicted, c= 'green', label ='training data')\n",
        "ax.plot(np.unique(y_test), np.poly1d(np.polyfit(y_test, predicted2, 1).flatten())(np.unique(y_test)),color='red', linestyle='dashed', lw=2)\n",
        "ax.plot(np.unique(y_train), np.poly1d(np.polyfit(y_train, predicted, 1).flatten())(np.unique(y_train)),color='orange', linestyle='dashed', lw=2)\n",
        "ax.plot([y_train.min(), y_train.max()], [y_train.min(), y_train.max()], color='black', linestyle='-', lw=1)\n",
        "\n",
        "ax.set_title ('KNN')\n",
        "ax.set_xlabel('Measured Apparent Viscosity, cP')\n",
        "ax.set_ylabel('Predicted Apparent Viscosity, cP')\n",
        "\n",
        "r2_train = f'Train data R-squared = {round(r2_score(y_train, predicted), 3 )}'\n",
        "r2_test = f'Test data R-squared = {round(r2_score(y_test, predicted2), 3 )}'\n",
        "\n",
        "# Extend the legend to include the line of fit\n",
        "handles, labels = plt.gca().get_legend_handles_labels()\n",
        "\n",
        "line = Line2D([0], [0], label='test data line of fit', color='red', linestyle='dashed', lw=2)\n",
        "line2 = Line2D([0], [0], label='train data line of fit', color='orange', linestyle='dashed', lw=2)\n",
        "line3 = Line2D([0], [0], label='line of equality', color='black', linestyle='solid', lw=2)\n",
        "text1 = mpatches.Patch(color='none', label=r2_train)\n",
        "text2 = mpatches.Patch(color='none', label=r2_test)\n",
        "handles.extend([line, line2,line3,text1, text2])\n",
        "\n",
        "plt.legend(handles=handles)\n",
        "\n",
        "plt.show()\n",
        "\n",
        "\n",
        "\n"
      ]
    },
    {
      "cell_type": "markdown",
      "metadata": {
        "id": "O-cd-NAHN074"
      },
      "source": [
        "# SVR"
      ]
    },
    {
      "cell_type": "code",
      "execution_count": 36,
      "metadata": {
        "colab": {
          "base_uri": "https://localhost:8080/"
        },
        "id": "2NMGhtfx6_K7",
        "outputId": "4c0c4163-8e69-4624-ea19-3fcc2476be17"
      },
      "outputs": [
        {
          "output_type": "stream",
          "name": "stdout",
          "text": [
            "RMSE:  2.7393793337446772 ( 1.3718553082911684 )\n"
          ]
        }
      ],
      "source": [
        "# define the base model\n",
        "model = SVR()\n",
        "\n",
        "# evaluate model\n",
        "evaluate_model (model, X_train, y_train,scoring, cv)"
      ]
    },
    {
      "cell_type": "markdown",
      "metadata": {
        "id": "iwfLBvImIvDY"
      },
      "source": [
        "## Fine-tune Algorithm"
      ]
    },
    {
      "cell_type": "code",
      "execution_count": 37,
      "metadata": {
        "colab": {
          "base_uri": "https://localhost:8080/"
        },
        "id": "LRGVCNXf8ry2",
        "outputId": "33cf61e9-8090-41e3-a4eb-dbd6e1041e06"
      },
      "outputs": [
        {
          "output_type": "stream",
          "name": "stdout",
          "text": [
            "Fitting 100 folds for each of 10 candidates, totalling 1000 fits\n"
          ]
        },
        {
          "output_type": "execute_result",
          "data": {
            "text/plain": [
              "{'C': 83, 'gamma': 0.15996237372700434}"
            ]
          },
          "metadata": {},
          "execution_count": 37
        }
      ],
      "source": [
        "# define the base model\n",
        "model = SVR() \n",
        "\n",
        "# define hyperparameter values\n",
        "param_dist = {\n",
        "    # \"kernel\": ['linear', 'sigmoid','poly', 'rbf', ],\n",
        "    'C' : randint(1, 100),\n",
        "    'gamma' : uniform(0.01,1.5),\n",
        "    # 'degree' : (1,10),\n",
        "    \n",
        "    }\n",
        "\n",
        "# Implement randomized search on hyper parameters\n",
        "rnd_search = RandomizedSearchCV(estimator= model, param_distributions=param_dist,cv=cv,\n",
        "                           scoring=scoring, return_train_score=True, random_state = seed,\n",
        "                           verbose =2, n_jobs=-1)\n",
        "\n",
        "# Fit to training dataset\n",
        "rnd_search.fit(X_train, y_train)\n",
        "\n",
        "rnd_search.best_params_"
      ]
    },
    {
      "cell_type": "code",
      "execution_count": 38,
      "metadata": {
        "colab": {
          "base_uri": "https://localhost:8080/"
        },
        "id": "rThw1Hk6lT9G",
        "outputId": "f7b84507-ee00-4525-b533-5385efaaa279"
      },
      "outputs": [
        {
          "output_type": "stream",
          "name": "stdout",
          "text": [
            "RMSE:  0.9830047646419463 ( 0.8534291124478595 )\n"
          ]
        }
      ],
      "source": [
        "# Define base model\n",
        "model_SVR =rnd_search.best_estimator_\n",
        "\n",
        "# evaluate model\n",
        "evaluate_model(model_SVR, X_train, y_train, scoring, cv)"
      ]
    },
    {
      "cell_type": "code",
      "source": [
        "modelu = SVR().fit(X_train, y_train)"
      ],
      "metadata": {
        "id": "MsagawyC3-9L"
      },
      "execution_count": 39,
      "outputs": []
    },
    {
      "cell_type": "code",
      "execution_count": 40,
      "metadata": {
        "id": "G6a4gctKJTz2"
      },
      "outputs": [],
      "source": [
        "# RMSE:  0.6680246429065437 ( 0.54604232631087 )"
      ]
    },
    {
      "cell_type": "code",
      "execution_count": 41,
      "metadata": {
        "colab": {
          "base_uri": "https://localhost:8080/"
        },
        "id": "lZQXQcdo3y_A",
        "outputId": "94e51e9b-cbb3-46e5-eb02-a554eec46f58"
      },
      "outputs": [
        {
          "output_type": "stream",
          "name": "stdout",
          "text": [
            "RMSE:  1.8336010800814435 ( 1.9556211729095252 )\n"
          ]
        }
      ],
      "source": [
        "# Fit the model on the training set and time the execution\n",
        "fitted_SVR = model_SVR.fit(X_train, y_train)\n",
        "\n",
        "#predict using training data\n",
        "SVR_pred_train = fitted_SVR.predict(X_train)\n",
        "\n",
        "#predict using test data\n",
        "SVR_pred = fitted_SVR.predict(X_test)\n",
        "\n",
        "# evaluate model\n",
        "evaluate_model (model_SVR, X_test, y_test,scoring, cv)"
      ]
    },
    {
      "cell_type": "markdown",
      "metadata": {
        "id": "nw9W6ESrVdlf"
      },
      "source": [
        "## Plot Predicted vs Measured"
      ]
    },
    {
      "cell_type": "code",
      "execution_count": 42,
      "metadata": {
        "colab": {
          "base_uri": "https://localhost:8080/",
          "height": 0
        },
        "id": "tmvFPpFlVdlt",
        "outputId": "cefe0be2-2bdc-464b-8304-a4fb49d3556c"
      },
      "outputs": [
        {
          "output_type": "display_data",
          "data": {
            "text/plain": [
              "<Figure size 720x432 with 1 Axes>"
            ],
            "image/png": "[encoded data removed]"
          },
          "metadata": {
            "needs_background": "light"
          }
        }
      ],
      "source": [
        "# Plot predicted vs Measured for Apparent Viscosity\n",
        "predicted = SVR_pred_train\n",
        "predicted2 = SVR_pred\n",
        "\n",
        "fig, ax = plt.subplots(figsize=(10,6))\n",
        "ax.scatter(y_test, predicted2 , c='blue', marker = \"^\", s = 40, label ='test data ')\n",
        "ax.scatter(y_train, predicted, c= 'green', label ='training data')\n",
        "ax.plot(np.unique(y_test), np.poly1d(np.polyfit(y_test, predicted2, 1).flatten())(np.unique(y_test)),color='red', linestyle='dashed', lw=2)\n",
        "ax.plot(np.unique(y_train), np.poly1d(np.polyfit(y_train, predicted, 1).flatten())(np.unique(y_train)),color='orange', linestyle='dashed', lw=2)\n",
        "ax.plot([y_train.min(), y_train.max()], [y_train.min(), y_train.max()], color='black', linestyle='-', lw=1)\n",
        "\n",
        "ax.set_title ('SVR')\n",
        "ax.set_xlabel('Measured Apparent Viscosity, cP')\n",
        "ax.set_ylabel('Predicted Apparent Viscosity, cP')\n",
        "\n",
        "r2_train = f'Train data R-squared = {round(r2_score(y_train, predicted), 3 )}'\n",
        "r2_test = f'Test data R-squared = {round(r2_score(y_test, predicted2), 3 )}'\n",
        "\n",
        "# Extend the legend to include the line of fit\n",
        "handles, labels = plt.gca().get_legend_handles_labels()\n",
        "\n",
        "line = Line2D([0], [0], label='test data line of fit', color='red', linestyle='dashed', lw=2)\n",
        "line2 = Line2D([0], [0], label='train data line of fit', color='orange', linestyle='dashed', lw=2)\n",
        "line3 = Line2D([0], [0], label='line of equality', color='black', linestyle='solid', lw=2)\n",
        "text1 = mpatches.Patch(color='none', label=r2_train)\n",
        "text2 = mpatches.Patch(color='none', label=r2_test)\n",
        "handles.extend([line, line2,line3,text1, text2])\n",
        "\n",
        "plt.legend(handles=handles)\n",
        "\n",
        "plt.show()"
      ]
    },
    {
      "cell_type": "markdown",
      "metadata": {
        "id": "P00sTKcE45Nh"
      },
      "source": [
        "# ANN"
      ]
    },
    {
      "cell_type": "markdown",
      "metadata": {
        "id": "3kRW-gdIrUoS"
      },
      "source": [
        "## Utilities"
      ]
    },
    {
      "cell_type": "code",
      "execution_count": 43,
      "metadata": {
        "id": "TmSiUFW81Wnv"
      },
      "outputs": [],
      "source": [
        "# Create function to build and compile a Keras model\n",
        "from tensorflow.keras.constraints import max_norm\n",
        "from keras.models import Sequential\n",
        "from keras.layers import Dense, Dropout, Activation\n",
        "from tensorflow.keras.optimizers import SGD, RMSprop\n",
        "\n",
        "\n",
        "def build_model(n_hidden=1, n_neurons=20, learning_rate = 3e-3, input_shape = X_train.shape[1:]): # explicitly state no of features as input_shape\n",
        "  model = Sequential()\n",
        "  options = {\"input_shape\": input_shape}\n",
        "\n",
        "  for layer in range(n_hidden):\n",
        "    model.add(Dense(n_neurons, activation=\"relu\", \n",
        "\n",
        "                    **options))\n",
        "    options ={} # so that input_shape option only applies to first layer\n",
        "\n",
        "  model.add(Dense(1, activation=\"linear\",  \n",
        "\n",
        "                  **options)) #output layer\n",
        "\n",
        "  optimizer = RMSprop(learning_rate)\n",
        "  model.compile(loss = \"mse\", optimizer = optimizer) # mse represents l2 loss\n",
        "\n",
        "  return model\n",
        "\n"
      ]
    },
    {
      "cell_type": "markdown",
      "metadata": {
        "id": "MfpmisPxETVJ"
      },
      "source": [
        "## Fine-tune Algorithm"
      ]
    },
    {
      "cell_type": "code",
      "execution_count": 44,
      "metadata": {
        "id": "A5OzJlrPrgaF"
      },
      "outputs": [],
      "source": [
        "model_ANN = build_model()\n",
        "fitted_ANN = model_ANN.fit(X_train, y_train,\n",
        "        epochs = 300, batch_size = 20,\n",
        "        validation_split = 0.2,\n",
        "        callbacks=[keras.callbacks.EarlyStopping(patience=10)], verbose =0)"
      ]
    },
    {
      "cell_type": "code",
      "execution_count": 45,
      "metadata": {
        "colab": {
          "base_uri": "https://localhost:8080/",
          "height": 295
        },
        "id": "F6n4p12WDFjI",
        "outputId": "43fa4e52-54f2-44ce-968a-e149c8ad7df0"
      },
      "outputs": [
        {
          "output_type": "display_data",
          "data": {
            "text/plain": [
              "<Figure size 432x288 with 1 Axes>"
            ],
            "image/png": "[encoded data removed]"
          },
          "metadata": {
            "needs_background": "light"
          }
        }
      ],
      "source": [
        "# summarize history for loss\n",
        "plt.plot(fitted_ANN.history['loss'])\n",
        "plt.plot(fitted_ANN.history[ 'val_loss' ])\n",
        "plt.title( 'model loss' )\n",
        "plt.ylabel( 'loss' )\n",
        "plt.xlabel( 'epoch' )\n",
        "plt.legend([ 'train ', 'val' ], loc= 'upper right' )\n",
        "plt.show()"
      ]
    },
    {
      "cell_type": "code",
      "execution_count": 46,
      "metadata": {
        "colab": {
          "base_uri": "https://localhost:8080/"
        },
        "id": "MYuaGGyscS_4",
        "outputId": "3148ff49-0e4c-48b9-f1f3-d2791eaecea8"
      },
      "outputs": [
        {
          "output_type": "stream",
          "name": "stdout",
          "text": [
            "Model: \"sequential\"\n",
            "_________________________________________________________________\n",
            " Layer (type)                Output Shape              Param #   \n",
            "=================================================================\n",
            " dense (Dense)               (None, 20)                180       \n",
            "                                                                 \n",
            " dense_1 (Dense)             (None, 1)                 21        \n",
            "                                                                 \n",
            "=================================================================\n",
            "Total params: 201\n",
            "Trainable params: 201\n",
            "Non-trainable params: 0\n",
            "_________________________________________________________________\n"
          ]
        }
      ],
      "source": [
        "model_ANN.summary()"
      ]
    },
    {
      "cell_type": "code",
      "execution_count": 47,
      "metadata": {
        "colab": {
          "base_uri": "https://localhost:8080/"
        },
        "id": "WANatUX1uoEs",
        "outputId": "760f0748-aabe-4d66-ba65-40317837532d"
      },
      "outputs": [
        {
          "output_type": "stream",
          "name": "stdout",
          "text": [
            "9/9 [==============================] - 0s 4ms/step - loss: 1.0018\n"
          ]
        },
        {
          "output_type": "execute_result",
          "data": {
            "text/plain": [
              "1.0017602443695068"
            ]
          },
          "metadata": {},
          "execution_count": 47
        }
      ],
      "source": [
        "model_ANN.evaluate(X_train,y_train)"
      ]
    },
    {
      "cell_type": "code",
      "execution_count": 48,
      "metadata": {
        "id": "vvX-z4ZEMj3M"
      },
      "outputs": [],
      "source": [
        "keras.backend.clear_session()\n",
        "np.random.seed(42)\n",
        "tf.random.set_seed(42)\n"
      ]
    },
    {
      "cell_type": "code",
      "execution_count": 49,
      "metadata": {
        "id": "M0EUY1yU0VHe"
      },
      "outputs": [],
      "source": [
        "ANN_pred_train = model_ANN.predict(X_train)\n",
        "ANN_pred = model_ANN.predict(X_test)"
      ]
    },
    {
      "cell_type": "code",
      "execution_count": 50,
      "metadata": {
        "colab": {
          "base_uri": "https://localhost:8080/"
        },
        "id": "GQG12b2ge6mN",
        "outputId": "199c4353-8fcf-4fc3-83f0-fd17335c4cb2"
      },
      "outputs": [
        {
          "output_type": "stream",
          "name": "stdout",
          "text": [
            "1.000879641561916\n",
            "1.2995275756705775\n"
          ]
        }
      ],
      "source": [
        "print (mean_squared_error(y_train,ANN_pred_train, squared=False))\n",
        "print (mean_squared_error(y_test,ANN_pred, squared=False))"
      ]
    },
    {
      "cell_type": "markdown",
      "metadata": {
        "id": "uBTfmJN00aaq"
      },
      "source": [
        "## Plot Predicted vs Measured"
      ]
    },
    {
      "cell_type": "code",
      "execution_count": 52,
      "metadata": {
        "colab": {
          "base_uri": "https://localhost:8080/",
          "height": 0
        },
        "id": "VMWb3BO90aaq",
        "outputId": "123bde86-6e13-416d-8705-1aceef0cddd5"
      },
      "outputs": [
        {
          "output_type": "display_data",
          "data": {
            "text/plain": [
              "<Figure size 720x432 with 1 Axes>"
            ],
            "image/png": "[encoded data removed]"
          },
          "metadata": {
            "needs_background": "light"
          }
        }
      ],
      "source": [
        "# Plot predicted vs Measured for Apparent Viscosity\n",
        "\n",
        "predicted = ANN_pred_train\n",
        "predicted2 = ANN_pred\n",
        "\n",
        "fig, ax = plt.subplots(figsize=(10,6))\n",
        "ax.scatter(y_test, predicted2 , c='blue', marker = \"^\", s = 40, label ='test data ')\n",
        "ax.scatter(y_train, predicted, c= 'green', label ='training data')\n",
        "ax.plot(np.unique(y_test), np.poly1d(np.polyfit(y_test, predicted2, 1).flatten())(np.unique(y_test)),color='red', linestyle='dashed', lw=2)\n",
        "ax.plot(np.unique(y_train), np.poly1d(np.polyfit(y_train, predicted, 1).flatten())(np.unique(y_train)),color='orange', linestyle='dashed', lw=2)\n",
        "ax.plot([y_train.min(), y_train.max()], [y_train.min(), y_train.max()], color='black', linestyle='-', lw=1)\n",
        "\n",
        "ax.set_title ('MLPNN')\n",
        "ax.set_xlabel('Measured Apparent Viscosity, cP')\n",
        "ax.set_ylabel('Predicted Apparent Viscosity, cP')\n",
        "\n",
        "\n",
        "r2_train = f'Train data R-squared = {round(r2_score(y_train, predicted), 3 )}'\n",
        "r2_test = f'Test data R-squared = {round(r2_score(y_test, predicted2), 3 )}'\n",
        "\n",
        "# Extend the legend to include the line of fit\n",
        "handles, labels = plt.gca().get_legend_handles_labels()\n",
        "\n",
        "line = Line2D([0], [0], label='test data line of fit', color='red', linestyle='dashed', lw=2)\n",
        "line2 = Line2D([0], [0], label='train data line of fit', color='orange', linestyle='dashed', lw=2)\n",
        "line3 = Line2D([0], [0], label='line of equality', color='black', linestyle='solid', lw=2)\n",
        "text1 = mpatches.Patch(color='none', label=r2_train)\n",
        "text2 = mpatches.Patch(color='none', label=r2_test)\n",
        "handles.extend([line, line2,line3,text1, text2])\n",
        "\n",
        "plt.legend(handles=handles)\n",
        "\n",
        "plt.show()"
      ]
    },
    {
      "cell_type": "markdown",
      "metadata": {
        "id": "wbqxJINZShCI"
      },
      "source": [
        "# MPR"
      ]
    },
    {
      "cell_type": "code",
      "execution_count": 53,
      "metadata": {
        "id": "Iu03Ws9bTU4V",
        "colab": {
          "base_uri": "https://localhost:8080/"
        },
        "outputId": "dd251bef-2955-4eae-b727-da525950c0de"
      },
      "outputs": [
        {
          "output_type": "stream",
          "name": "stdout",
          "text": [
            "RMSE:  1.6929783021053038 ( 0.7722731502241751 )\n"
          ]
        }
      ],
      "source": [
        "degree = 2\n",
        "poly = PolynomialFeatures(degree=degree)\n",
        "X_train_poly = poly.fit_transform(X_train)\n",
        "X_test_poly = poly.fit_transform(X_test)\n",
        "\n",
        "# define the base model\n",
        "model_MPR = LinearRegression()\n",
        "\n",
        "# evaluate model\n",
        "evaluate_model(model_MPR, X_train_poly, y_train,scoring, cv)"
      ]
    },
    {
      "cell_type": "code",
      "execution_count": 55,
      "metadata": {
        "id": "K0dM1PLRShCV"
      },
      "outputs": [],
      "source": [
        "# Fit the model on the training set and time the execution\n",
        "fitted_MPR = model_MPR.fit(X_train_poly, y_train)\n",
        "\n",
        "#predict using training data\n",
        "MPR_pred_train = fitted_MPR.predict(X_train_poly)\n",
        "\n",
        "#predict using test data\n",
        "MPR_pred = fitted_MPR.predict(X_test_poly)"
      ]
    },
    {
      "cell_type": "markdown",
      "metadata": {
        "id": "jROEMRfgShCX"
      },
      "source": [
        "## Plot Predicted vs Measured"
      ]
    },
    {
      "cell_type": "code",
      "execution_count": 61,
      "metadata": {
        "colab": {
          "base_uri": "https://localhost:8080/",
          "height": 404
        },
        "id": "LtOHROFUShCX",
        "outputId": "5f4901d3-d7f0-48bb-c7f5-2eb29cf1ef07"
      },
      "outputs": [
        {
          "output_type": "display_data",
          "data": {
            "text/plain": [
              "<Figure size 720x432 with 1 Axes>"
            ],
            "image/png": "[encoded data removed]"
          },
          "metadata": {
            "needs_background": "light"
          }
        }
      ],
      "source": [
        "# Plot predicted vs Measured for Apparent Viscosity\n",
        "predicted = MPR_pred_train\n",
        "predicted2 = MPR_pred\n",
        "\n",
        "fig, ax = plt.subplots(figsize = (10,6))\n",
        "ax.scatter(y_test, predicted2 , c='blue', marker = \"^\", s = 40, label ='test data ')\n",
        "ax.scatter(y_train, predicted, c= 'green', label ='training data')\n",
        "ax.plot(np.unique(y_test), np.poly1d(np.polyfit(y_test, predicted2, 1))(np.unique(y_test)),color='red', linestyle='dashed', lw=2)\n",
        "ax.plot(np.unique(y_train), np.poly1d(np.polyfit(y_train, predicted, 1))(np.unique(y_train)),color='orange', linestyle='dashed', lw=2)\n",
        "ax.plot([y_train.min(), y_train.max()], [y_train.min(), y_train.max()], color='black', linestyle='-', lw=1)\n",
        "\n",
        "ax.set_title ('MPR')\n",
        "ax.set_xlabel('Measured Apparent Viscosity, cP')\n",
        "ax.set_ylabel('Predicted Apparent Viscosity, cP')\n",
        "\n",
        "r2_train = f'Train data R-squared = {round(r2_score(y_train, predicted), 3 )}'\n",
        "r2_test = f'Test data R-squared = {round(r2_score(y_test, predicted2), 3 )}'\n",
        "\n",
        "# Extend the legend to include the line of fit\n",
        "handles, labels = plt.gca().get_legend_handles_labels()\n",
        "\n",
        "line = Line2D([0], [0], label='test data line of fit', color='red', linestyle='dashed', lw=2)\n",
        "line2 = Line2D([0], [0], label='train data line of fit', color='orange', linestyle='dashed', lw=2)\n",
        "line3 = Line2D([0], [0], label='line of equality', color='black', linestyle='solid', lw=2)\n",
        "text1 = mpatches.Patch(color='none', label=r2_train)\n",
        "text2 = mpatches.Patch(color='none', label=r2_test)\n",
        "handles.extend([line, line2,line3,text1, text2])\n",
        "\n",
        "plt.legend(handles=handles)\n",
        "\n",
        "plt.show()"
      ]
    },
    {
      "cell_type": "markdown",
      "metadata": {
        "id": "76-mM5J_7jxw"
      },
      "source": [
        "# CART"
      ]
    },
    {
      "cell_type": "code",
      "execution_count": 62,
      "metadata": {
        "colab": {
          "base_uri": "https://localhost:8080/"
        },
        "id": "QGrUtaU37jyD",
        "outputId": "9c590f31-adae-4d6e-edd6-3f7d7add5a28"
      },
      "outputs": [
        {
          "output_type": "stream",
          "name": "stdout",
          "text": [
            "RMSE:  1.1647485766199204 ( 0.8946375433347556 )\n"
          ]
        }
      ],
      "source": [
        "# define the base model\n",
        "model = DecisionTreeRegressor()\n",
        "\n",
        "# wrapper = MultiOutputRegressor(model)\n",
        "evaluate_model(model, X_train, y_train,scoring, cv)"
      ]
    },
    {
      "cell_type": "markdown",
      "metadata": {
        "id": "4TCQTH_57jyE"
      },
      "source": [
        "## Fine-tune Algorithm"
      ]
    },
    {
      "cell_type": "code",
      "execution_count": 63,
      "metadata": {
        "colab": {
          "base_uri": "https://localhost:8080/"
        },
        "id": "xT7gb6z67jyF",
        "outputId": "4737455f-4b37-48aa-d1e4-8202f445402b"
      },
      "outputs": [
        {
          "output_type": "stream",
          "name": "stdout",
          "text": [
            "Fitting 100 folds for each of 10 candidates, totalling 1000 fits\n"
          ]
        },
        {
          "output_type": "execute_result",
          "data": {
            "text/plain": [
              "{'max_depth': 9, 'min_samples_split': 4}"
            ]
          },
          "metadata": {},
          "execution_count": 63
        }
      ],
      "source": [
        "# define the base model\n",
        "model = DecisionTreeRegressor(random_state= 42,) \n",
        "\n",
        "param_dist = {\n",
        "    \"max_depth\": randint(2, 10),\n",
        "    \"min_samples_split\": randint(2, 10),\n",
        "    # 'min_samples_leaf' : randint(1, 100),\n",
        "    # # 'max_features' : [\"auto\", \"sqrt\", \"log2\"],\n",
        "    # \"max_leaf_nodes\": randint(2, 100),\n",
        "    }\n",
        "\n",
        "rnd_search = RandomizedSearchCV(estimator= model, param_distributions=param_dist,cv=cv,\n",
        "                           scoring=scoring, return_train_score=True, random_state = seed,\n",
        "                           verbose =2, n_jobs=-1,)\n",
        "rnd_search.fit(X_train, y_train)\n",
        "\n",
        "rnd_search.best_params_"
      ]
    },
    {
      "cell_type": "code",
      "execution_count": 64,
      "metadata": {
        "colab": {
          "base_uri": "https://localhost:8080/"
        },
        "id": "x5rkRLkq7jyF",
        "outputId": "55089c8b-a09e-4396-af4e-c914b67d9706"
      },
      "outputs": [
        {
          "output_type": "stream",
          "name": "stdout",
          "text": [
            "RMSE:  1.1839841008390497 ( 0.9181906687607385 )\n"
          ]
        }
      ],
      "source": [
        "# Define model\n",
        "model_CART =rnd_search.best_estimator_\n",
        "\n",
        "# evaluate model\n",
        "evaluate_model(model_CART,X_train, y_train, scoring,cv)"
      ]
    },
    {
      "cell_type": "code",
      "execution_count": 65,
      "metadata": {
        "id": "UWGHS3zsm9c5"
      },
      "outputs": [],
      "source": [
        "# Fit the model on the training set\n",
        "fitted_CART = model_CART.fit(X_train, y_train)\n"
      ]
    },
    {
      "cell_type": "code",
      "execution_count": 66,
      "metadata": {
        "id": "wqoiL8TB0CEx"
      },
      "outputs": [],
      "source": [
        "CART_pred_train = fitted_CART.predict(X_train)\n",
        "CART_pred = fitted_CART.predict(X_test)"
      ]
    },
    {
      "cell_type": "code",
      "execution_count": 67,
      "metadata": {
        "colab": {
          "base_uri": "https://localhost:8080/"
        },
        "id": "T1gDJ6q0hUAw",
        "outputId": "62b22901-666e-4ccd-b7d2-fd7c30779a3a"
      },
      "outputs": [
        {
          "output_type": "stream",
          "name": "stdout",
          "text": [
            "RMSE:  2.255754253557414 ( 2.2443199654563504 )\n"
          ]
        }
      ],
      "source": [
        "# evaluate model\n",
        "evaluate_model(model_CART,X_test, y_test, scoring,cv)"
      ]
    },
    {
      "cell_type": "markdown",
      "metadata": {
        "id": "cYnK1z7T0MJP"
      },
      "source": [
        "## Plot Predicted vs Measured"
      ]
    },
    {
      "cell_type": "code",
      "execution_count": 68,
      "metadata": {
        "colab": {
          "base_uri": "https://localhost:8080/",
          "height": 404
        },
        "id": "tTBHwz_JxOQ-",
        "outputId": "9f4494ab-9fe8-4c78-cecb-73539d329877"
      },
      "outputs": [
        {
          "output_type": "display_data",
          "data": {
            "text/plain": [
              "<Figure size 720x432 with 1 Axes>"
            ],
            "image/png": "[encoded data removed]"
          },
          "metadata": {
            "needs_background": "light"
          }
        }
      ],
      "source": [
        "# Plot predicted vs Measured for Apparent Viscosity\n",
        "\n",
        "predicted = CART_pred_train\n",
        "predicted2 = CART_pred\n",
        "\n",
        "fig, ax = plt.subplots(figsize=(10,6))\n",
        "ax.scatter(y_test, predicted2 , c='blue', marker = \"^\", s = 40, label ='test data ')\n",
        "ax.scatter(y_train, predicted, c= 'green', label ='training data')\n",
        "ax.plot(np.unique(y_test), np.poly1d(np.polyfit(y_test, predicted2, 1).flatten())(np.unique(y_test)),color='red', linestyle='dashed', lw=2)\n",
        "ax.plot(np.unique(y_train), np.poly1d(np.polyfit(y_train, predicted, 1).flatten())(np.unique(y_train)),color='orange', linestyle='dashed', lw=2)\n",
        "ax.plot([y_train.min(), y_train.max()], [y_train.min(), y_train.max()], color='black', linestyle='-', lw=1)\n",
        "\n",
        "ax.set_title ('CART')\n",
        "ax.set_xlabel('Measured Apparent Viscosity, cP')\n",
        "ax.set_ylabel('Predicted Apparent Viscosity, cP')\n",
        "\n",
        "\n",
        "r2_train = f'Train data R-squared = {round(r2_score(y_train, predicted), 3 )}'\n",
        "r2_test = f'Test data R-squared = {round(r2_score(y_test, predicted2), 3 )}'\n",
        "\n",
        "# Extend the legend to include the line of fit\n",
        "handles, labels = plt.gca().get_legend_handles_labels()\n",
        "\n",
        "line = Line2D([0], [0], label='test data line of fit', color='red', linestyle='dashed', lw=2)\n",
        "line2 = Line2D([0], [0], label='train data line of fit', color='orange', linestyle='dashed', lw=2)\n",
        "line3 = Line2D([0], [0], label='line of equality', color='black', linestyle='solid', lw=2)\n",
        "text1 = mpatches.Patch(color='none', label=r2_train)\n",
        "text2 = mpatches.Patch(color='none', label=r2_test)\n",
        "handles.extend([line, line2,line3,text1, text2])\n",
        "\n",
        "plt.legend(handles=handles)\n",
        "\n",
        "plt.show()"
      ]
    },
    {
      "cell_type": "markdown",
      "metadata": {
        "id": "_RWsF2nKA7q9"
      },
      "source": [
        "# Super-learner"
      ]
    },
    {
      "cell_type": "code",
      "execution_count": 87,
      "metadata": {
        "id": "J0G4vI47Ap4W"
      },
      "outputs": [],
      "source": [
        "# create a list of base-models\n",
        "def get_models():\n",
        "\tmodels = []\n",
        "\tmodels.append(('SVR', model_SVR))\n",
        "\tmodels.append(('MPR', model_MPR)) \n",
        "\tmodels.append(('ANN', model_ANN))\n",
        "\tmodels.append(('CART', model_CART))\n",
        "\tmodels.append(('KNN', model_KNN))\n",
        "\n",
        "\treturn models\n",
        "\n",
        "# collect out of fold predictions form k-fold cross validation\n",
        "def get_out_of_fold_predictions(X, y, models):\n",
        "\tmeta_X, meta_y = list(), list()\n",
        " \n",
        "\t# define split of data\n",
        "\tkfold = KFold(n_splits=10, shuffle=True)\n",
        " \n",
        "\t# enumerate splits\n",
        "\tfor train_ix, test_ix in kfold.split(X):\n",
        "\t\tfold_yhats = list()\n",
        "\t\t# get data\n",
        "\t\ttrain_X, test_X = X[train_ix], X[test_ix] \n",
        "\t\ttrain_y, test_y = y[train_ix], y[test_ix]\n",
        "\t\tmeta_y.extend(test_y)\n",
        "\t\n",
        "\t\t# fit and make predictions with each sub-model\n",
        "\t\tfor name,model in models:\n",
        "\t\t\tif name == 'MPR':\n",
        "\t\t\t\tX_train_poly = PolynomialFeatures(degree=degree).fit_transform(train_X)\n",
        "\t\t\t\ttest_X_poly = PolynomialFeatures(degree=degree).fit_transform(test_X)\n",
        "\t\t\n",
        "\t\t\t\tmodel.fit(X_train_poly, train_y)\n",
        "\t\t\t\tyhat = model.predict(test_X_poly)\n",
        "\t\t\n",
        "\t\t\telif name == 'ANN':\n",
        "\t\t\t\tmodel.fit(train_X, train_y, epochs = 500, batch_size = 20, \n",
        "\t\t\t\t\tvalidation_split = 0.2,callbacks=[keras.callbacks.EarlyStopping(patience=10)], verbose=0)\n",
        "\t\t\t\tyhat = model.predict(test_X)\n",
        "\t\t\n",
        "\t\t\telse:\n",
        "\t\t\t\tmodel.fit(train_X, train_y)\n",
        "\t\t\t\tyhat = model.predict(test_X)\t\t\t\n",
        "\n",
        "\t\t\t# store columns\n",
        "\t\t\tfold_yhats.append(yhat.reshape(len(yhat),1))\n",
        "\t\t# store fold yhats as columns\n",
        "\t\tmeta_X.append(hstack(fold_yhats))\n",
        "\treturn vstack(meta_X), asarray(meta_y)\n",
        "\n",
        "# fit all base models on the training dataset\n",
        "def fit_base_models(X, y, models):\n",
        "\t\n",
        "\tfor name,model in models:\n",
        "\t\tif name == 'MPR':\n",
        "\t\t\t# fit in training set\n",
        "\t\t\tX_poly = PolynomialFeatures(degree=degree).fit_transform(X)\n",
        "\t\t\tmodel.fit(X_poly, y)\n",
        "\t \n",
        "\t\telif name == 'ANN':\n",
        "\t\t\tmodel.fit(X, y, epochs = 500, batch_size = 20, \n",
        "         validation_split = 0.2,callbacks=[keras.callbacks.EarlyStopping(patience=10)], verbose=0)\n",
        "\t\telse:\n",
        "\t\t\t# fit in training set\n",
        "\t\t\tmodel.fit(X, y)\t\n",
        "\n",
        "# fit a meta model\n",
        "def fit_meta_model(X, y):\n",
        "\tmodel = LinearRegression()\n",
        "\tmodel.fit(X, y)\n",
        "\treturn model\n",
        "\n",
        "# evaluate a list of models on a dataset\n",
        "def evaluate_models(X, y, models):\n",
        "\tfor name, model in models:\n",
        "\t\tif name == 'MPR':\n",
        "\t\t\tX_poly = PolynomialFeatures(degree=degree).fit_transform(X)\n",
        "\t\t\tyhat = model.predict(X_poly)\n",
        "\t\t\n",
        "\t\telse:\n",
        "\t\t\tyhat = model.predict(X)\n",
        "\n",
        "\t\tmse = mean_squared_error(y, yhat, squared=False)\n",
        "\t\t# print('%s: RMSE %.3f' % (name, (mse)))\n",
        "\t\n",
        "\n",
        "# make predictions with stacked model\n",
        "def super_learner_predictions(X, models, meta_model):\n",
        "\tmeta_X = list()\n",
        "\tfor name, model in models:\n",
        "\t\tif name == 'MPR':\n",
        "\t\t\tX_poly = PolynomialFeatures(degree=degree).fit_transform(X)\n",
        "\t\t\tyhat = model.predict(X_poly)\n",
        "\n",
        "\t\telse:\n",
        "\t\t\tyhat = model.predict(X)\n",
        "\t\t\n",
        "\t\tmeta_X.append(yhat.reshape(len(yhat),1))\n",
        "\tmeta_X = hstack(meta_X)\n",
        " \n",
        "\t# predict\n",
        "\tyhat_meta = meta_model.predict(meta_X)\n",
        "\n",
        "\treturn yhat_meta\n",
        "\n",
        "\n",
        "X,y = X_train, y_train\n",
        "X_val, y_val = X_test, y_test \n",
        "\n",
        "# get models\n",
        "models = get_models()\n",
        "\n",
        "# get out of fold predictions\n",
        "meta_X, meta_y = get_out_of_fold_predictions(X, y, models)\n",
        "\n",
        "# fit base models\n",
        "fit_base_models(X, y, models)\n",
        "\n",
        "# fit the meta model\n",
        "meta_model = fit_meta_model(meta_X, meta_y)\n",
        "\n",
        "# evaluate base models\n",
        "evaluate_models(X_val, y_val, models)\n",
        "\n",
        "# evaluate meta model\n",
        "Super_pred = super_learner_predictions(X_val, models, meta_model)\n",
        "\n",
        "# evaluate meta model\n",
        "Super_pred_train = super_learner_predictions(X, models, meta_model)\n"
      ]
    },
    {
      "cell_type": "markdown",
      "metadata": {
        "id": "5gSxVXZR_gJu"
      },
      "source": [
        "## Plot Predicted vs Measured"
      ]
    },
    {
      "cell_type": "code",
      "execution_count": 88,
      "metadata": {
        "colab": {
          "base_uri": "https://localhost:8080/",
          "height": 404
        },
        "id": "SvyivlG5_gJv",
        "outputId": "d3436e24-d34f-4180-883f-2f7337ade8a0"
      },
      "outputs": [
        {
          "output_type": "display_data",
          "data": {
            "text/plain": [
              "<Figure size 720x432 with 1 Axes>"
            ],
            "image/png": "[encoded data removed]"
          },
          "metadata": {
            "needs_background": "light"
          }
        }
      ],
      "source": [
        "# Plot predicted vs Measured for Apparent Viscosity\n",
        "\n",
        "predicted = Super_pred_train\n",
        "predicted2 = Super_pred\n",
        "\n",
        "fig, ax = plt.subplots(figsize=(10,6))\n",
        "ax.scatter(y_test, predicted2 , c='blue', marker = \"^\", s = 40, label ='test data ')\n",
        "ax.scatter(y_train, predicted, c= 'green', label ='training data')\n",
        "ax.plot(np.unique(y_test), np.poly1d(np.polyfit(y_test, predicted2, 1).flatten())(np.unique(y_test)),color='red', linestyle='dashed', lw=2)\n",
        "ax.plot(np.unique(y_train), np.poly1d(np.polyfit(y_train, predicted, 1).flatten())(np.unique(y_train)),color='orange', linestyle='dashed', lw=2)\n",
        "ax.plot([y_train.min(), y_train.max()], [y_train.min(), y_train.max()], color='black', linestyle='-', lw=1)\n",
        "\n",
        "ax.set_title ('Superlearner')\n",
        "ax.set_xlabel('Measured Apparent Viscosity, cP')\n",
        "ax.set_ylabel('Predicted Apparent Viscosity, cP')\n",
        "\n",
        "\n",
        "r2_train = f'Train data R-squared = {round(r2_score(y_train, predicted), 3 )}'\n",
        "r2_test = f'Test data R-squared = {round(r2_score(y_test, predicted2), 3 )}'\n",
        "\n",
        "# Extend the legend to include the line of fit\n",
        "handles, labels = plt.gca().get_legend_handles_labels()\n",
        "\n",
        "line = Line2D([0], [0], label='test data line of fit', color='red', linestyle='dashed', lw=2)\n",
        "line2 = Line2D([0], [0], label='train data line of fit', color='orange', linestyle='dashed', lw=2)\n",
        "line3 = Line2D([0], [0], label='line of equality', color='black', linestyle='solid', lw=2)\n",
        "text1 = mpatches.Patch(color='none', label=r2_train)\n",
        "text2 = mpatches.Patch(color='none', label=r2_test)\n",
        "handles.extend([line, line2,line3,text1, text2])\n",
        "\n",
        "plt.legend(handles=handles)\n",
        "\n",
        "plt.show()"
      ]
    },
    {
      "cell_type": "markdown",
      "metadata": {
        "id": "kJc8hf_vBYvf"
      },
      "source": [
        "# Blending"
      ]
    },
    {
      "cell_type": "code",
      "execution_count": 89,
      "metadata": {
        "id": "IjtORiaRBZem"
      },
      "outputs": [],
      "source": [
        "\n",
        "# get a list of base models\n",
        "def get_models():\n",
        "\tmodels = []\n",
        "\t\n",
        "\tmodels.append(('SVR', model_SVR))\n",
        "\tmodels.append(('MPR', model_MPR)) \n",
        "\tmodels.append(('ANN', model_ANN))\n",
        "\tmodels.append(('CART', model_CART))\n",
        "\tmodels.append(('KNN', model_KNN))\n",
        "\n",
        "\treturn models\n",
        "\n",
        "# fit the blending ensemble\n",
        "def fit_ensemble(models, X_train, X_test, y_train, y_test):\n",
        "\t# fit all models on the training set and predict on hold out set\n",
        "\tmeta_X = list()\n",
        " \n",
        "\tfor name,model in models:\n",
        "\t\tif name == 'MPR':\n",
        "\t\t\t# fit in training set\n",
        "\t\t\tX_train_poly1 = PolynomialFeatures(degree=degree).fit_transform(X_train)\n",
        "\t\t\tmodel.fit(X_train_poly1, y_train)\n",
        "\t\telif name == 'ANN':\n",
        "\t\t\tmodel.fit(X_train, y_train, epochs = 500, batch_size = 20, \n",
        "         validation_split = 0.2,callbacks=[keras.callbacks.EarlyStopping(patience=10)], verbose=0)\n",
        "\t\telse:\n",
        "\t\t\t# fit in training set\n",
        "\t\t\tmodel.fit(X_train, y_train)\t \n",
        "\t\n",
        "\t\t# predict on test set\n",
        "\n",
        "\tfor name,model in models:\n",
        "\t\tif name == 'MPR':\n",
        "\t\t\tX_poly= PolynomialFeatures(degree=degree).fit_transform(X_test)\n",
        "\t\t\tyhat = model.predict(X_poly) \n",
        "\t\telse:\n",
        "\t\t\tyhat = model.predict(X_test)\n",
        "\t\t\n",
        "\t\n",
        "\t\tmse = mean_squared_error(y_test, yhat, squared=False)\n",
        "\t\t# print('%s: RMSE %.3f' % (name, (mse)))\n",
        "\t\t\n",
        "\t\t# reshape predictions into a matrix with one column\n",
        "\t\tyhat = yhat.reshape(len(yhat), 1)\n",
        "\t\n",
        "\t\t# store predictions as input for blending\n",
        "\t\tmeta_X.append(yhat)\n",
        "\t\n",
        "\t# create 2d array from predictions, each set is an input feature\n",
        "\tmeta_X = hstack(meta_X)\n",
        " \n",
        "\t# define blending model\n",
        "\tblender = (SVR(C= 83, gamma= 0.15996237372700434, kernel= 'rbf'))\n",
        "\n",
        "\t# fit on predictions from base models\n",
        "\tblender.fit(meta_X, y_test)\n",
        "\treturn blender\n",
        "\n",
        "# make a prediction with the blending ensemble\n",
        "def predict_ensemble(models, blender, X_test):\n",
        "\t\n",
        "\t# make predictions with base models\n",
        "\tmeta_X = list()\n",
        "\tfor name ,model in models:\n",
        "\t\t\n",
        "\t\t# predict with base model\n",
        "\t\tif name == 'MPR':\n",
        "\t\t\tX_poly= PolynomialFeatures(degree=degree).fit_transform(X_test)\n",
        "\t\t\tyhat = model.predict(X_poly)\n",
        "\t\telse:\n",
        "\t\t\tyhat = model.predict(X_test)\n",
        "\n",
        "\t\t# reshape predictions into a matrix with one column\n",
        "\t\tyhat = yhat.reshape(len(yhat), 1)\n",
        "\t\t\n",
        "\t\t# store prediction\n",
        "\t\tmeta_X.append(yhat)\n",
        "\t\n",
        "\t# create 2d array from predictions, each set is an input feature\n",
        "\tmeta_X = hstack(meta_X)\n",
        "\t\n",
        "\t# predict\n",
        "\treturn blender.predict(meta_X)\n",
        "\n",
        "# # define dataset\n",
        "\n",
        "X,y = X_train, y_train\n",
        "X_test, y_test = X_test, y_test \n",
        "\n",
        "# create the base models\n",
        "models = get_models()\n",
        "\n",
        "# train the blending ensemble\n",
        "blender = fit_ensemble(models, X, X_test, y, y_test)\n",
        "\n",
        "blender2 = fit_ensemble(models, X, X, y, y)\n",
        "\n",
        "Blended_pred = predict_ensemble(models, blender, X_test)\n",
        "\n",
        "Blended_pred_train = predict_ensemble(models, blender2, X_train)\n",
        "\n"
      ]
    },
    {
      "cell_type": "markdown",
      "metadata": {
        "id": "hOsVjW1p-Fh6"
      },
      "source": [
        "## Plot Predicted vs Measured"
      ]
    },
    {
      "cell_type": "code",
      "execution_count": 92,
      "metadata": {
        "colab": {
          "base_uri": "https://localhost:8080/",
          "height": 404
        },
        "id": "un-FxSXn-OQE",
        "outputId": "99fd105c-8e4f-4903-d05f-c14c001f9cec"
      },
      "outputs": [
        {
          "output_type": "display_data",
          "data": {
            "text/plain": [
              "<Figure size 720x432 with 1 Axes>"
            ],
            "image/png": "[encoded data removed]"
          },
          "metadata": {
            "needs_background": "light"
          }
        }
      ],
      "source": [
        "# Plot predicted vs Measured for Apparent Viscosity\n",
        "\n",
        "predicted = Blended_pred_train\n",
        "predicted2 = Blended_pred\n",
        "\n",
        "fig, ax = plt.subplots(figsize=(10,6))\n",
        "ax.scatter(y_test, predicted2 , c='blue', marker = \"^\", s = 40, label ='test data ')\n",
        "ax.scatter(y_train, predicted, c= 'green', label ='training data')\n",
        "ax.plot(np.unique(y_test), np.poly1d(np.polyfit(y_test, predicted2, 1).flatten())(np.unique(y_test)),color='red', linestyle='dashed', lw=2)\n",
        "ax.plot(np.unique(y_train), np.poly1d(np.polyfit(y_train, predicted, 1).flatten())(np.unique(y_train)),color='orange', linestyle='dashed', lw=2)\n",
        "ax.plot([y_train.min(), y_train.max()], [y_train.min(), y_train.max()], color='black', linestyle='-', lw=1)\n",
        "\n",
        "ax.set_title ('Blended')\n",
        "ax.set_xlabel('Measured Apparent Viscosity, cP')\n",
        "ax.set_ylabel('Predicted Apparent Viscosity, cP')\n",
        "\n",
        "\n",
        "r2_train = f'Train data R-squared = {round(r2_score(y_train, predicted), 3 )}'\n",
        "r2_test = f'Test data R-squared = {round(r2_score(y_test, predicted2), 3 )}'\n",
        "\n",
        "# Extend the legend to include the line of fit\n",
        "handles, labels = plt.gca().get_legend_handles_labels()\n",
        "\n",
        "line = Line2D([0], [0], label='test data line of fit', color='red', linestyle='dashed', lw=2)\n",
        "line2 = Line2D([0], [0], label='train data line of fit', color='orange', linestyle='dashed', lw=2)\n",
        "line3 = Line2D([0], [0], label='line of equality', color='black', linestyle='solid', lw=2)\n",
        "text1 = mpatches.Patch(color='none', label=r2_train)\n",
        "text2 = mpatches.Patch(color='none', label=r2_test)\n",
        "handles.extend([line, line2,line3,text1, text2])\n",
        "\n",
        "plt.legend(handles=handles)\n",
        "\n",
        "plt.show()"
      ]
    },
    {
      "cell_type": "markdown",
      "metadata": {
        "id": "_C_MFJhDvP2o"
      },
      "source": [
        "# Evaluations"
      ]
    },
    {
      "cell_type": "code",
      "execution_count": 93,
      "metadata": {
        "id": "OKLBvQ0D_JEc"
      },
      "outputs": [],
      "source": [
        "models_train =[]\n",
        "models_test =[]\n",
        "\n",
        "models_train.append(('SVR', SVR_pred_train))\n",
        "models_train.append(('KNN', KNN_pred_train))\n",
        "models_train.append(('CART', CART_pred_train))\n",
        "models_train.append(('ANN', ANN_pred_train))\n",
        "models_train.append(('MPR', MPR_pred_train))\n",
        "models_train.append(('Super learner', Super_pred_train))\n",
        "models_train.append(('Blended', Blended_pred_train))\n",
        "\n",
        "\n",
        "\n",
        "\n",
        "models_test.append(('SVR', SVR_pred))\n",
        "models_test.append(('KNN', KNN_pred))\n",
        "models_test.append(('CART', CART_pred))\n",
        "models_test.append(('ANN', ANN_pred))\n",
        "models_test.append(('MPR', MPR_pred))\n",
        "models_test.append(('Super learner', Super_pred))\n",
        "models_test.append(('Blended', Blended_pred))"
      ]
    },
    {
      "cell_type": "markdown",
      "metadata": {
        "id": "3Wqp31i9CLiZ"
      },
      "source": [
        "## MSE "
      ]
    },
    {
      "cell_type": "code",
      "execution_count": 94,
      "metadata": {
        "id": "DiJkzlY_CLia"
      },
      "outputs": [],
      "source": [
        "# Compare Models using MSE for train set\n",
        "results = {}\n",
        "\n",
        "# Evaluate each model in turn\n",
        "for name, predict_val in models_train:\n",
        "    cv_results = mean_squared_error(y_train, predict_val, squared=True)\n",
        "    cv_results = round(np.abs(cv_results), 3 )\n",
        "    results[name] = cv_results\n",
        "\n",
        "mse_train = pd.DataFrame(results, index =['mse_train',] )"
      ]
    },
    {
      "cell_type": "markdown",
      "metadata": {
        "id": "WdOm-BSiCLia"
      },
      "source": [
        "The SVR has the lowest error"
      ]
    },
    {
      "cell_type": "code",
      "execution_count": 95,
      "metadata": {
        "id": "aP1V5sf0CLia"
      },
      "outputs": [],
      "source": [
        "# Compare Models using MSE for test set\n",
        "results = {}\n",
        "\n",
        "# Evaluate each model in turn\n",
        "for name, predict_val in models_test:\n",
        "    cv_results = mean_squared_error(y_test, predict_val,squared=True)\n",
        "    cv_results = round(np.abs(cv_results), 3 )\n",
        "    results[name] = cv_results\n",
        "\n",
        "mse_test = pd.DataFrame(results, index =['mse_test',] )"
      ]
    },
    {
      "cell_type": "markdown",
      "metadata": {
        "id": "DcOB26PQu67k"
      },
      "source": [
        "## RMSE "
      ]
    },
    {
      "cell_type": "code",
      "execution_count": 96,
      "metadata": {
        "id": "b2D6l658jo_I"
      },
      "outputs": [],
      "source": [
        "# Compare Models using RMSE for train set\n",
        "results = {}\n",
        "\n",
        "# Evaluate each model in turn\n",
        "\n",
        "for name, predict_val in models_train:\n",
        "    cv_results = mean_squared_error(y_train, predict_val, squared=False)\n",
        "    cv_results = round(np.abs(cv_results), 3 )\n",
        "    results[name] = cv_results\n",
        "\n",
        "rmse_train = pd.DataFrame(results, index =['rmse_train',] )"
      ]
    },
    {
      "cell_type": "code",
      "execution_count": 97,
      "metadata": {
        "id": "RhcCaR9sPgez"
      },
      "outputs": [],
      "source": [
        "# Compare Models using MSE for test set\n",
        "results = {}\n",
        "\n",
        "# Evaluate each model in turn\n",
        "\n",
        "for name, predict_val in models_test:\n",
        "    cv_results = mean_squared_error(y_test, predict_val,squared=False)\n",
        "    cv_results = round(np.abs(cv_results), 3 )\n",
        "    results[name] = cv_results\n",
        "\n",
        "rmse_test = pd.DataFrame(results, index =['rmse_test',] )\n"
      ]
    },
    {
      "cell_type": "markdown",
      "metadata": {
        "id": "xuqx67SGu_pX"
      },
      "source": [
        "## MAE"
      ]
    },
    {
      "cell_type": "code",
      "execution_count": 98,
      "metadata": {
        "id": "AnZ64oAfqM_f"
      },
      "outputs": [],
      "source": [
        "# Compare Models using MAE for train set\n",
        "results = {}\n",
        "\n",
        "# Evaluate each model in turn\n",
        "\n",
        "for name, predict_val in models_train:\n",
        "    cv_results = mean_absolute_error(y_train, predict_val)\n",
        "    cv_results = round(np.abs(cv_results), 3 )\n",
        "    results[name] = cv_results\n",
        "\n",
        "mae_train = pd.DataFrame(results, index =['mae_train',] )"
      ]
    },
    {
      "cell_type": "code",
      "execution_count": 99,
      "metadata": {
        "id": "7KgRx8KjJwCx"
      },
      "outputs": [],
      "source": [
        "# Compare Models using MAE for test set\n",
        "\n",
        "results = {}\n",
        "\n",
        "# Evaluate each model in turn\n",
        "for name, predict_val in models_test:\n",
        "    cv_results = mean_absolute_error(y_test, predict_val)\n",
        "    cv_results = round(np.abs(cv_results), 3 )\n",
        "    results[name] = cv_results\n",
        "\n",
        "mae_test = pd.DataFrame(results, index =['mae_test',] )"
      ]
    },
    {
      "cell_type": "markdown",
      "metadata": {
        "id": "uaFVDA_QLGnn"
      },
      "source": [
        "## R SQUARED"
      ]
    },
    {
      "cell_type": "code",
      "execution_count": 100,
      "metadata": {
        "id": "PI2VHd8oGuPg"
      },
      "outputs": [],
      "source": [
        "# Compare Models using R-squared for training set\n",
        "results = {}\n",
        "\n",
        "# Evaluate each model in turn\n",
        "for name, predict_val in models_train:\n",
        "    cv_results = round(r2_score(y_train, predict_val), 3 )\n",
        "    results[name] = cv_results\n",
        "\n",
        "r2_train = pd.DataFrame(results, index =['r2_train',] )\n"
      ]
    },
    {
      "cell_type": "code",
      "execution_count": 101,
      "metadata": {
        "id": "gZU-WSYHKZ0t"
      },
      "outputs": [],
      "source": [
        "# Compare Models using R-squared for test set\n",
        "results = {}\n",
        "\n",
        "# Evaluate each model in turn\n",
        "for name, predict_val in models_test:\n",
        "    cv_results = round(r2_score(y_test, predict_val), 3 )\n",
        "    results[name] = cv_results\n",
        "\n",
        "r2_test = pd.DataFrame(results, index =['r2_test',] )\n"
      ]
    },
    {
      "cell_type": "markdown",
      "metadata": {
        "id": "rgkrqCHvNimZ"
      },
      "source": [
        "## Output"
      ]
    },
    {
      "cell_type": "code",
      "execution_count": 102,
      "metadata": {
        "colab": {
          "base_uri": "https://localhost:8080/",
          "height": 238
        },
        "id": "KU37e_KXEJVq",
        "outputId": "e68c0be8-7cd2-46de-a16a-f4249ebb97b2"
      },
      "outputs": [
        {
          "output_type": "execute_result",
          "data": {
            "text/plain": [
              "              SVR    KNN   CART    ANN    MPR  Super learner  Blended\n",
              "rmse_train  0.556  1.107  0.794  1.001  1.202          0.673    0.080\n",
              "rmse_test   0.885  1.583  1.522  1.300  1.281          1.149    0.097\n",
              "mae_train   0.126  0.314  0.208  0.522  0.763          0.303    0.069\n",
              "mae_test    0.320  0.580  0.546  0.701  0.831          0.468    0.088\n",
              "r2_train    0.990  0.962  0.980  0.969  0.955          0.986    1.000\n",
              "r2_test     0.979  0.932  0.937  0.954  0.955          0.964    1.000"
            ],
            "text/html": [
              "\n",
              "  <div id=\"df-4acb9756-0c5b-426d-99be-182d580ff6f8\">\n",
              "    <div class=\"colab-df-container\">\n",
              "      <div>\n",
              "<style scoped>\n",
              "    .dataframe tbody tr th:only-of-type {\n",
              "        vertical-align: middle;\n",
              "    }\n",
              "\n",
              "    .dataframe tbody tr th {\n",
              "        vertical-align: top;\n",
              "    }\n",
              "\n",
              "    .dataframe thead th {\n",
              "        text-align: right;\n",
              "    }\n",
              "</style>\n",
              "<table border=\"1\" class=\"dataframe\">\n",
              "  <thead>\n",
              "    <tr style=\"text-align: right;\">\n",
              "      <th></th>\n",
              "      <th>SVR</th>\n",
              "      <th>KNN</th>\n",
              "      <th>CART</th>\n",
              "      <th>ANN</th>\n",
              "      <th>MPR</th>\n",
              "      <th>Super learner</th>\n",
              "      <th>Blended</th>\n",
              "    </tr>\n",
              "  </thead>\n",
              "  <tbody>\n",
              "    <tr>\n",
              "      <th>rmse_train</th>\n",
              "      <td>0.556</td>\n",
              "      <td>1.107</td>\n",
              "      <td>0.794</td>\n",
              "      <td>1.001</td>\n",
              "      <td>1.202</td>\n",
              "      <td>0.673</td>\n",
              "      <td>0.080</td>\n",
              "    </tr>\n",
              "    <tr>\n",
              "      <th>rmse_test</th>\n",
              "      <td>0.885</td>\n",
              "      <td>1.583</td>\n",
              "      <td>1.522</td>\n",
              "      <td>1.300</td>\n",
              "      <td>1.281</td>\n",
              "      <td>1.149</td>\n",
              "      <td>0.097</td>\n",
              "    </tr>\n",
              "    <tr>\n",
              "      <th>mae_train</th>\n",
              "      <td>0.126</td>\n",
              "      <td>0.314</td>\n",
              "      <td>0.208</td>\n",
              "      <td>0.522</td>\n",
              "      <td>0.763</td>\n",
              "      <td>0.303</td>\n",
              "      <td>0.069</td>\n",
              "    </tr>\n",
              "    <tr>\n",
              "      <th>mae_test</th>\n",
              "      <td>0.320</td>\n",
              "      <td>0.580</td>\n",
              "      <td>0.546</td>\n",
              "      <td>0.701</td>\n",
              "      <td>0.831</td>\n",
              "      <td>0.468</td>\n",
              "      <td>0.088</td>\n",
              "    </tr>\n",
              "    <tr>\n",
              "      <th>r2_train</th>\n",
              "      <td>0.990</td>\n",
              "      <td>0.962</td>\n",
              "      <td>0.980</td>\n",
              "      <td>0.969</td>\n",
              "      <td>0.955</td>\n",
              "      <td>0.986</td>\n",
              "      <td>1.000</td>\n",
              "    </tr>\n",
              "    <tr>\n",
              "      <th>r2_test</th>\n",
              "      <td>0.979</td>\n",
              "      <td>0.932</td>\n",
              "      <td>0.937</td>\n",
              "      <td>0.954</td>\n",
              "      <td>0.955</td>\n",
              "      <td>0.964</td>\n",
              "      <td>1.000</td>\n",
              "    </tr>\n",
              "  </tbody>\n",
              "</table>\n",
              "</div>\n",
              "      <button class=\"colab-df-convert\" onclick=\"convertToInteractive('df-4acb9756-0c5b-426d-99be-182d580ff6f8')\"\n",
              "              title=\"Convert this dataframe to an interactive table.\"\n",
              "              style=\"display:none;\">\n",
              "        \n",
              "  <svg xmlns=\"http://www.w3.org/2000/svg\" height=\"24px\"viewBox=\"0 0 24 24\"\n",
              "       width=\"24px\">\n",
              "    <path d=\"M0 0h24v24H0V0z\" fill=\"none\"/>\n",
              "    <path d=\"M18.56 5.44l.94 2.06.94-2.06 2.06-.94-2.06-.94-.94-2.06-.94 2.06-2.06.94zm-11 1L8.5 8.5l.94-2.06 2.06-.94-2.06-.94L8.5 2.5l-.94 2.06-2.06.94zm10 10l.94 2.06.94-2.06 2.06-.94-2.06-.94-.94-2.06-.94 2.06-2.06.94z\"/><path d=\"M17.41 7.96l-1.37-1.37c-.4-.4-.92-.59-1.43-.59-.52 0-1.04.2-1.43.59L10.3 9.45l-7.72 7.72c-.78.78-.78 2.05 0 2.83L4 21.41c.39.39.9.59 1.41.59.51 0 1.02-.2 1.41-.59l7.78-7.78 2.81-2.81c.8-.78.8-2.07 0-2.86zM5.41 20L4 18.59l7.72-7.72 1.47 1.35L5.41 20z\"/>\n",
              "  </svg>\n",
              "      </button>\n",
              "      \n",
              "  <style>\n",
              "    .colab-df-container {\n",
              "      display:flex;\n",
              "      flex-wrap:wrap;\n",
              "      gap: 12px;\n",
              "    }\n",
              "\n",
              "    .colab-df-convert {\n",
              "      background-color: #E8F0FE;\n",
              "      border: none;\n",
              "      border-radius: 50%;\n",
              "      cursor: pointer;\n",
              "      display: none;\n",
              "      fill: #1967D2;\n",
              "      height: 32px;\n",
              "      padding: 0 0 0 0;\n",
              "      width: 32px;\n",
              "    }\n",
              "\n",
              "    .colab-df-convert:hover {\n",
              "      background-color: #E2EBFA;\n",
              "      box-shadow: 0px 1px 2px rgba(60, 64, 67, 0.3), 0px 1px 3px 1px rgba(60, 64, 67, 0.15);\n",
              "      fill: #174EA6;\n",
              "    }\n",
              "\n",
              "    [theme=dark] .colab-df-convert {\n",
              "      background-color: #3B4455;\n",
              "      fill: #D2E3FC;\n",
              "    }\n",
              "\n",
              "    [theme=dark] .colab-df-convert:hover {\n",
              "      background-color: #434B5C;\n",
              "      box-shadow: 0px 1px 3px 1px rgba(0, 0, 0, 0.15);\n",
              "      filter: drop-shadow(0px 1px 2px rgba(0, 0, 0, 0.3));\n",
              "      fill: #FFFFFF;\n",
              "    }\n",
              "  </style>\n",
              "\n",
              "      <script>\n",
              "        const buttonEl =\n",
              "          document.querySelector('#df-4acb9756-0c5b-426d-99be-182d580ff6f8 button.colab-df-convert');\n",
              "        buttonEl.style.display =\n",
              "          google.colab.kernel.accessAllowed ? 'block' : 'none';\n",
              "\n",
              "        async function convertToInteractive(key) {\n",
              "          const element = document.querySelector('#df-4acb9756-0c5b-426d-99be-182d580ff6f8');\n",
              "          const dataTable =\n",
              "            await google.colab.kernel.invokeFunction('convertToInteractive',\n",
              "                                                     [key], {});\n",
              "          if (!dataTable) return;\n",
              "\n",
              "          const docLinkHtml = 'Like what you see? Visit the ' +\n",
              "            '<a target=\"_blank\" href=https://colab.research.google.com/notebooks/data_table.ipynb>data table notebook</a>'\n",
              "            + ' to learn more about interactive tables.';\n",
              "          element.innerHTML = '';\n",
              "          dataTable['output_type'] = 'display_data';\n",
              "          await google.colab.output.renderOutput(dataTable, element);\n",
              "          const docLink = document.createElement('div');\n",
              "          docLink.innerHTML = docLinkHtml;\n",
              "          element.appendChild(docLink);\n",
              "        }\n",
              "      </script>\n",
              "    </div>\n",
              "  </div>\n",
              "  "
            ]
          },
          "metadata": {},
          "execution_count": 102
        }
      ],
      "source": [
        "\n",
        "output = pd.concat([\n",
        "                    rmse_train, rmse_test, \n",
        "                    mae_train, mae_test,\n",
        "                    r2_train, r2_test,] )\n",
        "output"
      ]
    },
    {
      "cell_type": "markdown",
      "source": [
        "**Note**: Results will vary given the stochastic nature of the neural network algorithm. Running the example a few times and comparing the average outcome gives the reported metrics for the Blending technique."
      ],
      "metadata": {
        "id": "jx9TR7G3OYGO"
      }
    },
    {
      "cell_type": "markdown",
      "metadata": {
        "id": "B2D8__EjkGel"
      },
      "source": [
        "# Feature Importance"
      ]
    },
    {
      "cell_type": "code",
      "execution_count": 86,
      "metadata": {
        "colab": {
          "base_uri": "https://localhost:8080/",
          "height": 388
        },
        "id": "eX7H0JC1UXys",
        "outputId": "7d893f35-d36b-43ec-aa74-5d8984329405"
      },
      "outputs": [
        {
          "output_type": "display_data",
          "data": {
            "text/plain": [
              "<Figure size 720x432 with 1 Axes>"
            ],
            "image/png": "[encoded data removed]"
          },
          "metadata": {
            "needs_background": "light"
          }
        }
      ],
      "source": [
        "# perform permutation importance\n",
        "results = permutation_importance(model_SVR, X_train, y_train,\n",
        "                                 scoring='neg_root_mean_squared_error', \n",
        "                                 n_repeats=10, n_jobs=-1, random_state=42)\n",
        "# get importance\n",
        "feature_importance = results.importances_mean\n",
        "\n",
        "train_X.rename(columns = {'temp': 'Temperature',\n",
        "                          'foam_qual': 'Foam quality',\n",
        "                          'shear':'Shear rate',\n",
        "                          'np_conc': 'Nanoparticle conc.',\n",
        "                          'surf_conc': 'Surfactant conc.',\n",
        "                          'np_size': 'Nanoparticle size',\n",
        "                          'pressure': 'Pressure',\n",
        "                          'salinity': 'Salinity'}, inplace= True)\n",
        "\n",
        "sorted_feat= sorted(zip(feature_importance, train_X), reverse=False)\n",
        "\n",
        "# Create two lists from the list of tuples created\n",
        "value,name = [list(c) for c in zip(*sorted_feat)]\n",
        "\n",
        "# Plot the features\n",
        "f = plt.figure(figsize=(10,6))\n",
        "plt.barh(y = name, width= value, color= 'b')\n",
        "\n",
        "for index, value in enumerate(value):\n",
        "  value = round(value,2)\n",
        "  plt.text(value, index, str(value))\n",
        "\n",
        "plt.xlabel('Permutation Importance (Baseline RMSE - RMSE post-feature-permutation)')\n",
        "# plt.ylabel(' Features ')\n",
        "plt.show()\n",
        "\n",
        "\n",
        "# f.savefig(\"/content/drive/MyDrive/Colab Notebooks/shap_plot/pfi.png\", bbox_inches='tight', dpi=600)\n"
      ]
    }
  ],
  "metadata": {
    "colab": {
      "collapsed_sections": [
        "rK3uB09aBdje",
        "AOkcUYKWB2To",
        "tERpJTtYB-3a",
        "EQjuh5v75Zhc",
        "ls8Pe3WThcti",
        "P_SaUBHjVJWx",
        "dMtLwKrQD9m1",
        "blF7NFJEz7ok",
        "O-cd-NAHN074",
        "iwfLBvImIvDY",
        "nw9W6ESrVdlf",
        "P00sTKcE45Nh",
        "3kRW-gdIrUoS",
        "MfpmisPxETVJ",
        "uBTfmJN00aaq",
        "wbqxJINZShCI",
        "jROEMRfgShCX",
        "4TCQTH_57jyE",
        "kJc8hf_vBYvf"
      ],
      "name": "Rheology_prediction_with blending ensemble.ipynb",
      "provenance": [],
      "toc_visible": true,
      "mount_file_id": "1MmKBB1rtv4FlAkVoJrsxj7Y6nHuJRyqi",
      "authorship_tag": "ABX9TyMkWOT8ULBrypOaOkFyEK9N",
      "include_colab_link": true
    },
    "kernelspec": {
      "display_name": "Python 3",
      "name": "python3"
    }
  },
  "nbformat": 4,
  "nbformat_minor": 0
}